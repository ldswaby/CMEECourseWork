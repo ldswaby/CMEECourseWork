{
 "cells": [
  {
   "cell_type": "markdown",
   "metadata": {},
   "source": [
    "# Data Analysis in R"
   ]
  },
  {
   "cell_type": "code",
   "execution_count": 6,
   "metadata": {},
   "outputs": [],
   "source": [
    "# Imports\n",
    "suppressMessages(library(tidyverse))\n",
    "suppressMessages(library(plyr))\n",
    "suppressMessages(library(gridExtra))\n",
    "suppressMessages(library(grid))\n",
    "suppressMessages(library(scales))\n",
    "\n",
    "# Load data\n",
    "frData <- read.csv('../Data/CRat_prepped.csv', stringsAsFactors = FALSE)\n",
    "frModStats <- read.csv('../Data/ModelStats.csv', stringsAsFactors = FALSE)\n",
    "\n",
    "# Extract model information\n",
    "model_count <- (length(frModStats)-6)/2 # assumes only other cols besides ID are aic/bic/rsqd vals and 5 coefficients (holl2 and 3)\n",
    "ord <- c('Cubic', 'HollingI', 'HollingII', 'GFR')\n",
    "model_names <- substr(names(frModStats[2:(1+model_count)]), 1, nchar(names(frModStats[2:(1+model_count)]))-4) #Assumes full model names precede the last 3 chars of header\n",
    "model_names <- model_names[order(match(model_names, ord))] # Order"
   ]
  },
  {
   "cell_type": "markdown",
   "metadata": {},
   "source": [
    "## Plotting all fits"
   ]
  },
  {
   "cell_type": "code",
   "execution_count": 517,
   "metadata": {},
   "outputs": [],
   "source": [
    "## Functions ##\n",
    "holling2 <- function(R, a, h){\n",
    "  num <- a*R\n",
    "  denom <- 1+a*h*R\n",
    "  return(num/denom)\n",
    "}\n",
    "\n",
    "holling3 <- function(R, a, h){\n",
    "  num <- a*R^2\n",
    "  denom <- 1+a*h*R^2\n",
    "  return(num/denom)\n",
    "}"
   ]
  },
  {
   "cell_type": "code",
   "execution_count": 505,
   "metadata": {},
   "outputs": [
    {
     "data": {
      "text/html": [
       "<strong>pdf:</strong> 2"
      ],
      "text/latex": [
       "\\textbf{pdf:} 2"
      ],
      "text/markdown": [
       "**pdf:** 2"
      ],
      "text/plain": [
       "pdf \n",
       "  2 "
      ]
     },
     "metadata": {},
     "output_type": "display_data"
    }
   ],
   "source": [
    "ids <- unique(frModStats$ID)\n",
    "\n",
    "## Plot ##\n",
    "pdf('../Results/FITTING.pdf')\n",
    "for (id in ids){\n",
    "  try({\n",
    "  df <- subset(frData, ID == id)\n",
    "  stats <- subset(frModStats, ID == id)\n",
    "  \n",
    "  # x and y data\n",
    "  ResDensity <- df$ResDensity\n",
    "  N_TraitValue <- df$N_TraitValue\n",
    "  \n",
    "  ##### MODELS #####\n",
    "  Cube <- lm(N_TraitValue ~ poly(ResDensity, 3))\n",
    "  \n",
    "  # Set x axis\n",
    "  x <- seq(from = min(ResDensity), to = max(ResDensity), by = ((max(ResDensity) - min(ResDensity))/100))\n",
    "  \n",
    "  # Set predicted (y) values according to HollingII\n",
    "  y_cube <- predict.lm(Cube, data.frame(ResDensity = x))\n",
    "  y_holl1 <- stats$a_Holl1 * x\n",
    "  y_holl2 <- holling2(x, stats$a_Holl2, stats$h_Holl2)\n",
    "  y_holl3 <- holling3(x, stats$a_Holl3, stats$h_Holl3)\n",
    "      \n",
    "  # Create dataframe of data to plot (x and y axes)\n",
    "  data_to_fit <- data.frame(x = x, y_cube = y_cube, y_holl1 = y_holl1, y_holl2 = y_holl2, y_holl3 = y_holl3)\n",
    "  \n",
    "  # Plot\n",
    "  plot(ResDensity, N_TraitValue, main = sprintf(\"ID: %s\", id))\n",
    "  lines(x, y_cube, col = 3, lwd = 2.5)\n",
    "  lines(x, y_holl1, col = 6, lwd = 2.5)\n",
    "  lines(x, y_holl2, col = 2, lwd = 2.5)\n",
    "  lines(x, y_holl3, col = 4, lwd = 2.5)\n",
    "  legend(\"bottomright\", legend = c(\"Cubic\", \"Holling I\", \"Holling II\", \"Holling III\"), lwd=2, lty=1, col=c(3,6,2,4))\n",
    "  }, silent = TRUE)\n",
    "}\n",
    "dev.off()"
   ]
  },
  {
   "cell_type": "code",
   "execution_count": 3,
   "metadata": {},
   "outputs": [],
   "source": [
    "plotFits <- function(id){\n",
    "    df <- subset(frData, ID == id)\n",
    "    stats <- subset(frModStats, ID == id)\n",
    "    \n",
    "    try({\n",
    "    id <- unique(df$ID)\n",
    "\n",
    "    x <- df$ResDensity\n",
    "    y <- df$N_TraitValue\n",
    "    x_units <- unique(df$ResDensityUnit)\n",
    "    y_units <- unique(df$TraitUnit)\n",
    "\n",
    "    # Fit models\n",
    "    #Quad <- lm(y ~ poly(x, 2))\n",
    "    Cube <- lm(y ~ poly(x, 3))\n",
    "\n",
    "    # Generate a vector of the the x-axis variable\n",
    "    xvals <- seq(from = min(x), to = max(x), by = ((max(x) - min(x))/100))\n",
    "\n",
    "    # Calculate predicted lines and write points to dataframe\n",
    "    y_cube <- predict.lm(Cube, data.frame(ResDensity = x))\n",
    "    y_holl1 <- stats$a_Holl1 * x\n",
    "    y_holl2 <- holling2(x, stats$a_Holl2, stats$h_Holl2)\n",
    "    y_holl3 <- holling3(x, stats$a_Holl3, stats$h_Holl3)\n",
    "    \n",
    "    data_to_fit <- data.frame(x = x, y_cube = y_cube, y_holl1 = y_holl1, y_holl2 = y_holl2, y_holl3 = y_holl3)\n",
    "\n",
    "    # Plot\n",
    "    p <- ggplot(aes(x = ResDensity, y = N_TraitValue), data = df) +\n",
    "        geom_point() + theme_bw() +\n",
    "        ggtitle(paste(\"ID:\", id)) +\n",
    "        theme(legend.position = 'bottom') +\n",
    "        xlab(sprintf(\"Resource Density (%s)\", x_units)) +\n",
    "        ylab(sprintf(\"Trait Value (%s)\", y_units)) +\n",
    "        geom_line(aes(x = x, y = y_cube, colour = \"Cubic\"), data = data_to_fit) +\n",
    "        geom_line(aes(x = x, y = y_hol1, colour = \"HollingI\"), data = data_to_fit) + \n",
    "        geom_line(aes(x = x, y = y_hol2, colour = \"HollingII\"), data = data_to_fit) +\n",
    "        geom_line(aes(x = x, y = y_hol3, colour = \"HollingIII\"), data = data_to_fit) #+\n",
    "        #scale_colour_manual(\"\", breaks = c(\"Quadratic\", \"Cubic\"), values = c(\"red\", \"blue\"))\n",
    "\n",
    "    return(p)\n",
    "  }, silent = TRUE)\n",
    "}"
   ]
  },
  {
   "cell_type": "code",
   "execution_count": 4,
   "metadata": {},
   "outputs": [
    {
     "name": "stderr",
     "output_type": "stream",
     "text": [
      "ERROR while rich displaying an object: Error in FUN(X[[i]], ...): object 'y_hol1' not found\n",
      "\n",
      "Traceback:\n",
      "1. FUN(X[[i]], ...)\n",
      "2. tryCatch(withCallingHandlers({\n",
      " .     if (!mime %in% names(repr::mime2repr)) \n",
      " .         stop(\"No repr_* for mimetype \", mime, \" in repr::mime2repr\")\n",
      " .     rpr <- repr::mime2repr[[mime]](obj)\n",
      " .     if (is.null(rpr)) \n",
      " .         return(NULL)\n",
      " .     prepare_content(is.raw(rpr), rpr)\n",
      " . }, error = error_handler), error = outer_handler)\n",
      "3. tryCatchList(expr, classes, parentenv, handlers)\n",
      "4. tryCatchOne(expr, names, parentenv, handlers[[1L]])\n",
      "5. doTryCatch(return(expr), name, parentenv, handler)\n",
      "6. withCallingHandlers({\n",
      " .     if (!mime %in% names(repr::mime2repr)) \n",
      " .         stop(\"No repr_* for mimetype \", mime, \" in repr::mime2repr\")\n",
      " .     rpr <- repr::mime2repr[[mime]](obj)\n",
      " .     if (is.null(rpr)) \n",
      " .         return(NULL)\n",
      " .     prepare_content(is.raw(rpr), rpr)\n",
      " . }, error = error_handler)\n",
      "7. repr::mime2repr[[mime]](obj)\n",
      "8. repr_text.default(obj)\n",
      "9. paste(capture.output(print(obj)), collapse = \"\\n\")\n",
      "10. capture.output(print(obj))\n",
      "11. evalVis(expr)\n",
      "12. withVisible(eval(expr, pf))\n",
      "13. eval(expr, pf)\n",
      "14. eval(expr, pf)\n",
      "15. print(obj)\n",
      "16. print.ggplot(obj)\n",
      "17. ggplot_build(x)\n",
      "18. ggplot_build.ggplot(x)\n",
      "19. by_layer(function(l, d) l$compute_aesthetics(d, plot))\n",
      "20. f(l = layers[[i]], d = data[[i]])\n",
      "21. l$compute_aesthetics(d, plot)\n",
      "22. f(..., self = self)\n",
      "23. lapply(aesthetics, eval_tidy, data = data, env = env)\n",
      "24. FUN(X[[i]], ...)\n"
     ]
    },
    {
     "data": {
      "image/png": "[encoded data removed]",
      "text/plain": [
       "plot without title"
      ]
     },
     "metadata": {
      "image/png": {
       "height": 420,
       "width": 420
      }
     },
     "output_type": "display_data"
    }
   ],
   "source": [
    "ids1 <- c(39896, 39894, 39877, 39899, 39904)\n",
    "plotFits(39896)"
   ]
  },
  {
   "cell_type": "markdown",
   "metadata": {},
   "source": [
    "## Set up the data"
   ]
  },
  {
   "cell_type": "code",
   "execution_count": 7,
   "metadata": {
    "scrolled": true
   },
   "outputs": [],
   "source": [
    "# Function for comparing model fits for each ID by both AIC and BIC.\n",
    "compareModels <- function(row){\n",
    "  id <- as.character(row[1])\n",
    "  # Works for comparisons for any number of models\n",
    "  #model_count <- (length(row)-6)/2 # assumes only other cols besides ID are aic/bic vals\n",
    "  AICs <- sort(row[2:(1+model_count)])\n",
    "  BICs <- sort(row[(2+model_count):(1+2*model_count)]) # or just until length(row) if no other cols are added\n",
    "  \n",
    "  # Extract model names (assumes the only charcters following the model names are \n",
    "  # 'AIC' or 'BIC' - as such only clips last 3)\n",
    "  mod_names <- substr(names(AICs), 1, nchar(names(AICs))-4)\n",
    "  \n",
    "  ##################### Find best fit ###########################\n",
    "  # Initialise best fit charcter vectors (can't preallocate as final length unknown)\n",
    "  best_fits_aic <- c(AICs[1])\n",
    "  best_fits_bic <- c(BICs[1])\n",
    "  \n",
    "  add_aic <- TRUE\n",
    "  add_bic <- TRUE\n",
    "  \n",
    "  for (i in 2:model_count){\n",
    "    # Calculate diffs\n",
    "    deltaAIC <- abs(AICs[i] - AICs[i-1])\n",
    "    deltaBIC <- abs(BICs[i] - BICs[i-1])\n",
    "    \n",
    "    ## Check best according to AIC ##\n",
    "    while (add_aic){\n",
    "      if (deltaAIC <= 2){\n",
    "        # If difference with previous AIC is less than or equal to two\n",
    "        # then diff insignificant; add to list\n",
    "        best_fits_aic[i] <- AICs[i]\n",
    "        break\n",
    "      } else {\n",
    "        add_aic <- FALSE\n",
    "      }\n",
    "    }\n",
    "    \n",
    "    ## Check best according to BIC ##\n",
    "    while (add_bic){\n",
    "      if (deltaBIC <= 2){\n",
    "        # If difference with previous BIC is less than or equal to two\n",
    "        # Add to list\n",
    "        best_fits_bic[i] <- BICs[i]\n",
    "        break\n",
    "      } else {\n",
    "        add_bic <- FALSE\n",
    "      }\n",
    "    }\n",
    "  }\n",
    "    \n",
    "  # Name elements\n",
    "  names(best_fits_aic) <- mod_names[1:length(best_fits_aic)]\n",
    "  names(best_fits_bic) <- mod_names[1:length(best_fits_bic)]\n",
    "\n",
    "  # Combine into strings\n",
    "  AICBestFit <- paste(names(best_fits_aic), collapse = '/')\n",
    "  BICBestFit <- paste(names(best_fits_bic), collapse = '/')\n",
    "  \n",
    "  return(c(id, AICBestFit, BICBestFit))\n",
    "}\n",
    "\n",
    "# Merge best fit results to model stats (using apply over ddply for speed, tested with Sys.time())\n",
    "bestFits <- as.data.frame(t(apply(frModStats, 1, compareModels)))\n",
    "\n",
    "# Rename cols                                       \n",
    "colnames(bestFits) <- c('ID', 'BestModelAIC', 'BestModelBIC')                                          \n",
    "                                          \n",
    "NoRuleof2 <- function(vec){    \n",
    "    bestfits <- strsplit(vec, '/') # Split strngs into vectors\n",
    "    return(sapply(bestfits, function(x) x[1]))\n",
    "}\n",
    "\n",
    "bestFits$BestModelAIC_NoRule2 <- NoRuleof2(bestFits$BestModelAIC)\n",
    "bestFits$BestModelBIC_NoRule2 <- NoRuleof2(bestFits$BestModelBIC)\n",
    "\n",
    "# Reset column type\n",
    "bestFits$ID <- as.integer(bestFits$ID)\n",
    "\n",
    "# Join with main dataframe\n",
    "statsWithFits <- left_join(frModStats, bestFits, by = \"ID\")\n",
    "metadata <- frData[!duplicated(frData[,1]),][,-c(2,3)] # drop rows with duplicate IDs as metadata same for each ID, and delete N_TraitValue and ResDensity\n",
    "ALLDATA <- right_join(metadata, statsWithFits, by = \"ID\") # create df of all relevant fields\n",
    "                      \n",
    "############### Add columns for winning model(s) type #############################\n",
    "addBestModelType <- function(x){\n",
    "  # Mechanistic\n",
    "  mech <- c('HollingI', 'HollingII', 'HollingIII')\n",
    "  mech2perms <- apply(expand.grid(mech, mech), 1, function(x) paste(x, collapse = '/'))\n",
    "  mech3perms <- apply(expand.grid(mech, mech, mech), 1, function(x) paste(x, collapse = '/'))\n",
    "  allmechs <- c(mech, mech2perms, mech3perms)\n",
    "  # Phenomenological\n",
    "  phnm <- c('Quadratic', 'Cubic')\n",
    "  phnm2perms <- apply(expand.grid(phnm, phnm), 1, function(x) paste(x, collapse = '/'))\n",
    "  phnm3perms <- apply(expand.grid(phnm, phnm, phnm), 1, function(x) paste(x, collapse = '/'))\n",
    "  allphnms <- c(phnm, phnm2perms, phnm3perms)\n",
    "  if (x %in% allmechs){ # all permutations\n",
    "    return('Mechanistic')\n",
    "  } else if (x %in% allphnms){ # all permutations\n",
    "    return('Phenomenological')\n",
    "  } else {\n",
    "    return('TIE')\n",
    "  }\n",
    "}\n",
    "\n",
    "# AIC\n",
    "BestModelTypeAIC <- sapply(ALLDATA$BestModelAIC, addBestModelType, USE.NAMES = FALSE) # Rule of 2\n",
    "BestModelTypeAIC_NoRule2 <- sapply(ALLDATA$BestModelAIC_NoRule2, addBestModelType, USE.NAMES = FALSE) # No rule of 2\n",
    "ALLDATA$BestModelTypeAIC <- BestModelTypeAIC\n",
    "ALLDATA$BestModelTypeAIC_NoRule2 <- BestModelTypeAIC_NoRule2\n",
    "\n",
    "# BIC\n",
    "BestModelTypeBIC <- sapply(ALLDATA$BestModelBIC, addBestModelType, USE.NAMES = FALSE) # Rule of 2\n",
    "BestModelTypeBIC_NoRule2 <- sapply(ALLDATA$BestModelBIC_NoRule2, addBestModelType, USE.NAMES = FALSE) # No rule of 2\n",
    "ALLDATA$BestModelTypeBIC <- BestModelTypeBIC\n",
    "ALLDATA$BestModelTypeBIC_NoRule2 <- BestModelTypeBIC_NoRule2"
   ]
  },
  {
   "cell_type": "code",
   "execution_count": 8,
   "metadata": {},
   "outputs": [],
   "source": [
    "plotBestFits <- function(df, fac){\n",
    "  \n",
    "  # Evaluate args\n",
    "  if(!fac %in% c('Model', 'Model Type')) return(\"fac must be one of: 'Model', 'Type'\")\n",
    "  \n",
    "  # no of levels\n",
    "  no <- ifelse(fac=='Model Type', 2, model_count)\n",
    "  \n",
    "  # define levels\n",
    "  if (fac == 'Model Type'){\n",
    "    lvls <- c('Phenomenological', 'Mechanistic')\n",
    "    aicBreakdown <- table(ALLDATA[,'BestModelTypeAIC_NoRule2'])\n",
    "    bicBreakdown <- table(ALLDATA[,'BestModelTypeBIC_NoRule2'])\n",
    "    aicBreakdownRO2 <- table(ALLDATA[,'BestModelTypeAIC'])\n",
    "    bicBreakdownRO2 <- table(ALLDATA[,'BestModelTypeBIC'])\n",
    "  } else { # if fac == 'Model'\n",
    "    lvls <- model_names\n",
    "    aicBreakdown <- table(ALLDATA[,'BestModelAIC_NoRule2'])\n",
    "    bicBreakdown <- table(ALLDATA[,'BestModelBIC_NoRule2'])\n",
    "    aicBreakdownRO2 <- table(ALLDATA[,'BestModelAIC'])\n",
    "    bicBreakdownRO2 <- table(ALLDATA[,'BestModelBIC'])\n",
    "  }\n",
    "\n",
    "  fitdata <- data.frame(Level = rep(lvls, times = 4), \n",
    "                        Estimator = rep(c('AIC', 'BIC'), each = 2*no),\n",
    "                        RO2 = rep(c('Rule of Two', 'No Rule of Two'), times = 2, each=no),\n",
    "                        Count = rep(NA, times = 4*no))\n",
    "  \n",
    "  # Load count of how many IDs were definititvely best fit by each model (draws excluded)\n",
    "  for (i in 1:nrow(fitdata)){\n",
    "    lvl <- fitdata[i,'Level']\n",
    "    stat <- fitdata[i,'Estimator']\n",
    "    ro2 <- fitdata[i,'RO2']\n",
    "    if (ro2 == 'No Rule of Two'){\n",
    "      if (stat == 'AIC'){\n",
    "        fitdata[i,'Count'] <- ifelse(is.na(aicBreakdown[lvl]), 0, aicBreakdown[[lvl]])\n",
    "      } else {\n",
    "        fitdata[i,'Count'] <- ifelse(is.na(bicBreakdown[lvl]), 0, bicBreakdown[[lvl]])\n",
    "      }\n",
    "    } else {\n",
    "      if (stat == 'AIC'){\n",
    "        fitdata[i,'Count'] <- ifelse(is.na(aicBreakdownRO2[lvl]), 0, aicBreakdownRO2[[lvl]])\n",
    "      } else {\n",
    "        fitdata[i,'Count'] <- ifelse(is.na(bicBreakdownRO2[lvl]), 0, bicBreakdownRO2[[lvl]])\n",
    "      }\n",
    "    }\n",
    "  }\n",
    "  \n",
    "  nro2 <- sum(fitdata$Count[1:no])\n",
    "  nnotro2 <- sum(fitdata$Count[(no+1):(2*no)])\n",
    "  fitdata$Total <- rep(c(nro2, nnotro2), each = no) # Add total\n",
    "  fitdata$Percentage <- (fitdata$Count/fitdata$Total)*100 # Add percentage of IDs best fit\n",
    "  # when the rule of 2 is applied there will be different totals (as ties are ignored)\n",
    "  \n",
    "  # Plot\n",
    "  p <- ggplot(data = fitdata, aes(x = factor(Level, levels = lvls), y = Percentage, fill = Estimator)) + \n",
    "    facet_wrap(~RO2) +\n",
    "    geom_bar(stat=\"identity\", position = 'dodge2') +\n",
    "    labs(x = fac, y = 'Best Fits (%)') + \n",
    "    theme_bw() +  theme(aspect.ratio=1) +\n",
    "    theme(legend.title = element_text(face=\"bold\")) +\n",
    "    geom_text(aes(label=paste(round(Percentage), '% (', Count, ')', sep = '')), position=position_dodge(width=0.9), vjust=-0.5, cex = 6-no) +\n",
    "    scale_fill_brewer(palette=\"Paired\") +\n",
    "    scale_y_continuous(limits=c(0,max(fitdata$Percentage)*1.02))\n",
    "    \n",
    "  return(p)\n",
    "}"
   ]
  },
  {
   "cell_type": "markdown",
   "metadata": {},
   "source": [
    "## Overall Model Comparison"
   ]
  },
  {
   "cell_type": "code",
   "execution_count": 502,
   "metadata": {
    "scrolled": false
   },
   "outputs": [
    {
     "data": {
      "image/png": "[encoded data removed]",
      "text/plain": [
       "plot without title"
      ]
     },
     "metadata": {
      "image/png": {
       "height": 420,
       "width": 420
      }
     },
     "output_type": "display_data"
    }
   ],
   "source": [
    "p1 <- plotBestFits(ALLDATA, 'Model')\n",
    "\n",
    "ggsave(\"../Results/p1.pdf\", p1, width=11, height=5)\n",
    "\n",
    "p1\n"
   ]
  },
  {
   "cell_type": "markdown",
   "metadata": {},
   "source": [
    "* Consistent with general consesus (Hassell et al. 1976, Begon et al. 1996), we observe that the type II functional response was most prevalent in the data, fitting approximately half of all curves for which there was a definitive best model (Fig. 2). This trend remained consistent between both tests, however the relative performance of the type III model improved slightly when the rule of 2 was abandoned (+?%), signifying a significant (t-test?) number of fits for which $\\Delta{AIC}<2$ between the type II and type III models. Furthermore, the type I model outperformed the cubic model when the rule was dropped, suggesting a significant number of ties (WHY IS THIS EVEN RELEVANT?)\n",
    "\n",
    "jkhfghf\n",
    "* The performance of Holling III improved slightly when the rule of 2 was dropped.\n",
    "* Both estimators agree on the relative performances of each model category, but disagree marginally on how to score the success of the models within the mechanistic category. More specifically, it is clear that mechanistic models far outperformed their phenomological counterparts, but determining which model wins depends on which estimator one decides to use. THIS IS NOT TRUE! LOOK ABOVE!"
   ]
  },
  {
   "cell_type": "markdown",
   "metadata": {},
   "source": [
    "### Add column for winning model overall? Or just choose a measure to go by?\n",
    "\n",
    "* AIC is generally favored due to its roots in Kullback – Leibler infor- mation theory (Johnson Omland)\n",
    "* BIC includes a penalty term dependent on sample size, and as such favors simpler models, particularly as sample size increases.\n",
    "* Model averaging to get best?\n",
    "* For those cases where a tie exists between Holling 2 and GFR, Holl2 was preffered as a matter of parsimony. The penalty for an additional parameter in model selection is +2 AIC units, and as such if $\\Delta{AIC}<2$ then the extra explanatory power provided by the additional phenomnological 'q' parameter introduced in the GFR model is insufficient to justify its inclusion. (Arnold 2010)\n",
    "* As seen above, this adjustment gave Holling's Type II model an overwhelming edge over the other two"
   ]
  },
  {
   "cell_type": "markdown",
   "metadata": {},
   "source": [
    "# Questions:\n",
    "1. Which models best fit the data, phenomenological or mechanistic? Why?\n",
    "2. Which models best fit which consumer foraging movement types (active or passive)? Why might this be?\n",
    "3. Is there any relationship between habitat and functional response?"
   ]
  },
  {
   "cell_type": "markdown",
   "metadata": {},
   "source": [
    "### 1. Which models best fit the data, phenomenological or mechanistic? Why?\n",
    "\n",
    "#### Answer: Mechanistic"
   ]
  },
  {
   "cell_type": "code",
   "execution_count": 503,
   "metadata": {
    "scrolled": false
   },
   "outputs": [
    {
     "data": {
      "image/png": "[encoded data removed]",
      "text/plain": [
       "plot without title"
      ]
     },
     "metadata": {
      "image/png": {
       "height": 420,
       "width": 420
      }
     },
     "output_type": "display_data"
    }
   ],
   "source": [
    "# Plot\n",
    "p <- plotBestFits(ALLDATA, 'Model Type')\n",
    "\n",
    "p\n",
    "\n",
    "ggsave(\"../Results/p2.pdf\", p, width=11, height=5)\n",
    "\n",
    "#pdf(\"../Results/foo.pdf\", width=11, height=8.5)\n",
    "#p\n",
    "#dev.off()"
   ]
  },
  {
   "cell_type": "markdown",
   "metadata": {},
   "source": [
    "* It is clear that the mechanistic models considerably outperformed their phenomelogical counterpart (Fig. 1). According to both estimators,  approximately 95% of functional responses were best fit by a mechanistic model, regardless of whether or not the rule of 2 was applied (in the case where it was, IDs for which the fits between the two model types could be considered a statistical 'tie' — i.e. $|\\Delta{AIC}|<2$ or $|\\Delta{BIC}|<2$ — were ignored). \n",
    "* This gap would potentially narrow if there were more data points in each functional response, as it would reduce the penalty for the extra parameters ...\n",
    "\n",
    "* Applying the more conservative Rule of Two "
   ]
  },
  {
   "cell_type": "code",
   "execution_count": 522,
   "metadata": {},
   "outputs": [
    {
     "data": {
      "text/html": [
       "<table>\n",
       "<caption>A data.frame: 14 × 36</caption>\n",
       "<thead>\n",
       "\t<tr><th></th><th scope=col>ID</th><th scope=col>ResDensityUnit</th><th scope=col>TraitUnit</th><th scope=col>ConTaxa</th><th scope=col>ConCommon</th><th scope=col>ResTaxa</th><th scope=col>ResCommon</th><th scope=col>Habitat</th><th scope=col>Con_ForagingMovement</th><th scope=col>Con_MovementDimensionality</th><th scope=col>⋯</th><th scope=col>h_Holl3</th><th scope=col>a_Holl3</th><th scope=col>BestModelAIC</th><th scope=col>BestModelBIC</th><th scope=col>BestModelAIC_NoRule2</th><th scope=col>BestModelBIC_NoRule2</th><th scope=col>BestModelTypeAIC</th><th scope=col>BestModelTypeAIC_NoRule2</th><th scope=col>BestModelTypeBIC</th><th scope=col>BestModelTypeBIC_NoRule2</th></tr>\n",
       "\t<tr><th></th><th scope=col>&lt;int&gt;</th><th scope=col>&lt;chr&gt;</th><th scope=col>&lt;chr&gt;</th><th scope=col>&lt;chr&gt;</th><th scope=col>&lt;chr&gt;</th><th scope=col>&lt;chr&gt;</th><th scope=col>&lt;chr&gt;</th><th scope=col>&lt;chr&gt;</th><th scope=col>&lt;chr&gt;</th><th scope=col>&lt;chr&gt;</th><th scope=col>⋯</th><th scope=col>&lt;dbl&gt;</th><th scope=col>&lt;dbl&gt;</th><th scope=col>&lt;chr&gt;</th><th scope=col>&lt;chr&gt;</th><th scope=col>&lt;chr&gt;</th><th scope=col>&lt;chr&gt;</th><th scope=col>&lt;chr&gt;</th><th scope=col>&lt;chr&gt;</th><th scope=col>&lt;chr&gt;</th><th scope=col>&lt;chr&gt;</th></tr>\n",
       "</thead>\n",
       "<tbody>\n",
       "\t<tr><th scope=row>22</th><td>39856</td><td>Individuals per arena       </td><td>individual / (5 individual * 24 hrs)</td><td>Saduria entomon (Linnaeus 1758)           </td><td>Benthic isopod          </td><td>Monoporeia affinis Lindstrm 1855              </td><td>Amphipod                   </td><td>Marine     </td><td>active </td><td>2D</td><td>⋯</td><td>3.773193e+04</td><td>2.775558e-09</td><td>Cubic</td><td>Cubic</td><td>Cubic</td><td>Cubic</td><td>Phenomenological</td><td>Phenomenological</td><td>Phenomenological</td><td>Phenomenological</td></tr>\n",
       "\t<tr><th scope=row>33</th><td>39867</td><td>Individuals per arena       </td><td>individual / (1 individual * 3 hrs) </td><td>Notonecta maculata Fabricius 1794         </td><td>Backswimmer             </td><td>Daphnia magna Straus 1820                     </td><td>Daphnia                    </td><td>Freshwater </td><td>sessile</td><td>3D</td><td>⋯</td><td>1.271363e+03</td><td>1.088019e-06</td><td>Cubic</td><td>Cubic</td><td>Cubic</td><td>Cubic</td><td>Phenomenological</td><td>Phenomenological</td><td>Phenomenological</td><td>Phenomenological</td></tr>\n",
       "\t<tr><th scope=row>49</th><td>39884</td><td>Individuals per arena       </td><td>individual / (1 individual * 8 hrs) </td><td>Pardosa vancouveri Emerton                </td><td>Wolf spider             </td><td>Drosophila melanogaster Meigen 1830 (wingless)</td><td>Vestigial-winged drosophila</td><td>Terrestrial</td><td>active </td><td>2D</td><td>⋯</td><td>1.172293e+04</td><td>4.479750e-05</td><td>Cubic</td><td>Cubic</td><td>Cubic</td><td>Cubic</td><td>Phenomenological</td><td>Phenomenological</td><td>Phenomenological</td><td>Phenomenological</td></tr>\n",
       "\t<tr><th scope=row>51</th><td>39886</td><td>Individuals per arena       </td><td>individual / (1 individual * 6 hrs) </td><td>Pardosa T-insignita (Boesenberg et Strand)</td><td>Wolf spider             </td><td>Drosophila melanogaster Meigen 1830 (wingless)</td><td>Vestigial-winged drosophila</td><td>Terrestrial</td><td>active </td><td>2D</td><td>⋯</td><td>1.244757e+04</td><td>5.394574e-05</td><td>Cubic</td><td>Cubic</td><td>Cubic</td><td>Cubic</td><td>Phenomenological</td><td>Phenomenological</td><td>Phenomenological</td><td>Phenomenological</td></tr>\n",
       "\t<tr><th scope=row>75</th><td>39912</td><td>Individuals per arena       </td><td>individual / (1 individual *30 mins)</td><td>Abramis brama Linneaus                    </td><td>Common bream            </td><td>Daphnia magna Straus 1820                     </td><td>Daphnia                    </td><td>Freshwater </td><td>active </td><td>3D</td><td>⋯</td><td>4.364717e+01</td><td>6.113721e-05</td><td>Cubic</td><td>Cubic</td><td>Cubic</td><td>Cubic</td><td>Phenomenological</td><td>Phenomenological</td><td>Phenomenological</td><td>Phenomenological</td></tr>\n",
       "\t<tr><th scope=row>88</th><td>39926</td><td>Individuals per arena       </td><td>Individual/(Individual*1 day)       </td><td>Nabis kinbergii Reuter                    </td><td>Pacific damsel bug      </td><td>Sidnia kinbergi Stal 1859                     </td><td>Australian crop mirid      </td><td>Terrestrial</td><td>active </td><td>2D</td><td>⋯</td><td>1.036782e+04</td><td>2.149114e-05</td><td>Cubic</td><td>Cubic</td><td>Cubic</td><td>Cubic</td><td>Phenomenological</td><td>Phenomenological</td><td>Phenomenological</td><td>Phenomenological</td></tr>\n",
       "\t<tr><th scope=row>112</th><td>39951</td><td>individuals per arena       </td><td>Individual/(Individual * 12 hrs)    </td><td>Glossiphonia complanata (Linnaeus 1758)   </td><td>Snail leech             </td><td>Lymnaea emarginata Say                        </td><td>Snail                      </td><td>Freshwater </td><td>active </td><td>2D</td><td>⋯</td><td>3.253155e+03</td><td>4.019007e-06</td><td>Cubic</td><td>Cubic</td><td>Cubic</td><td>Cubic</td><td>Phenomenological</td><td>Phenomenological</td><td>Phenomenological</td><td>Phenomenological</td></tr>\n",
       "\t<tr><th scope=row>113</th><td>39952</td><td>individuals per arena       </td><td>Individual/(Individual * 12 hrs)    </td><td>Glossiphonia complanata (Linnaeus 1758)   </td><td>Snail leech             </td><td>Lymnaea emarginata Say                        </td><td>Snail                      </td><td>Freshwater </td><td>active </td><td>2D</td><td>⋯</td><td>1.861569e+01</td><td>7.216450e-08</td><td>Cubic</td><td>Cubic</td><td>Cubic</td><td>Cubic</td><td>Phenomenological</td><td>Phenomenological</td><td>Phenomenological</td><td>Phenomenological</td></tr>\n",
       "\t<tr><th scope=row>159</th><td>40001</td><td>Individuals per milliliter  </td><td>individual / (1 individual * 1 hour)</td><td>Streptocephalus torvicornis (Waga 1842)   </td><td>Fairy shrimp            </td><td>Anuraeopsis fissa Gosse 1851                  </td><td>rotifer                    </td><td>Freshwater </td><td>active </td><td>3D</td><td>⋯</td><td>9.713238e-01</td><td>7.186474e-05</td><td>Cubic</td><td>Cubic</td><td>Cubic</td><td>Cubic</td><td>Phenomenological</td><td>Phenomenological</td><td>Phenomenological</td><td>Phenomenological</td></tr>\n",
       "\t<tr><th scope=row>169</th><td>40011</td><td>Individuals per 1 ha        </td><td>individual / (1 individual * 1 hour)</td><td>Surnia ulula (Linnaeus 1758)              </td><td>Northern Hawk Owl       </td><td>Microtus spp.                                 </td><td>vole                       </td><td>Terrestrial</td><td>active </td><td>3D</td><td>⋯</td><td>4.702569e+03</td><td>4.687917e-06</td><td>Cubic</td><td>Cubic</td><td>Cubic</td><td>Cubic</td><td>Phenomenological</td><td>Phenomenological</td><td>Phenomenological</td><td>Phenomenological</td></tr>\n",
       "\t<tr><th scope=row>178</th><td>40023</td><td><span style=white-space:pre-wrap>Individuals per milliliter  </span></td><td>individual / (1 individual * 1 hour)</td><td><span style=white-space:pre-wrap>Cyclops abyssorum Sars 1863               </span></td><td><span style=white-space:pre-wrap>Cyclopoid copepod       </span></td><td><span style=white-space:pre-wrap>Askenasia volvox (Claparde &amp; Lachmann 1859)   </span></td><td><span style=white-space:pre-wrap>Mixotrophic ciliate        </span></td><td>Freshwater </td><td>active </td><td>3D</td><td>⋯</td><td>5.357910e+01</td><td>4.968248e-07</td><td>Cubic</td><td>Cubic</td><td>Cubic</td><td>Cubic</td><td>Phenomenological</td><td>Phenomenological</td><td>Phenomenological</td><td>Phenomenological</td></tr>\n",
       "\t<tr><th scope=row>219</th><td>40068</td><td>Individuals per liter       </td><td>Individual/(Individual*15 min)      </td><td>Sander vitreus (Mitchill 1818)            </td><td>walleye                 </td><td>Daphnia spp.                                  </td><td>water flea                 </td><td>Freshwater </td><td>active </td><td>3D</td><td>⋯</td><td>4.837709e+01</td><td>1.929806e-01</td><td>Cubic</td><td>Cubic</td><td>Cubic</td><td>Cubic</td><td>Phenomenological</td><td>Phenomenological</td><td>Phenomenological</td><td>Phenomenological</td></tr>\n",
       "\t<tr><th scope=row>234</th><td>40083</td><td>Individuals per square meter</td><td>Individual/(Individual*15 min)      </td><td>Sander vitreus (Mitchill 1818)            </td><td>walleye                 </td><td>Chironomus spp.                               </td><td>chironomid larva           </td><td>Freshwater </td><td>active </td><td>3D</td><td>⋯</td><td>2.737230e+01</td><td>3.838596e-06</td><td>Cubic</td><td>Cubic</td><td>Cubic</td><td>Cubic</td><td>Phenomenological</td><td>Phenomenological</td><td>Phenomenological</td><td>Phenomenological</td></tr>\n",
       "\t<tr><th scope=row>258</th><td>40107</td><td>Individuals per arena       </td><td>Individual/(Individual*12 day)      </td><td>Grammonota trivittata Banks 1895          </td><td>sheet-web builder spider</td><td>Prokelisia spp.                               </td><td>planthopper                </td><td>Terrestrial</td><td>sessile</td><td>3D</td><td>⋯</td><td>5.154645e+04</td><td>1.665335e-08</td><td>Cubic</td><td>Cubic</td><td>Cubic</td><td>Cubic</td><td>Phenomenological</td><td>Phenomenological</td><td>Phenomenological</td><td>Phenomenological</td></tr>\n",
       "</tbody>\n",
       "</table>\n"
      ],
      "text/latex": [
       "A data.frame: 14 × 36\n",
       "\\begin{tabular}{r|lllllllllllllllllllll}\n",
       "  & ID & ResDensityUnit & TraitUnit & ConTaxa & ConCommon & ResTaxa & ResCommon & Habitat & Con\\_ForagingMovement & Con\\_MovementDimensionality & ⋯ & h\\_Holl3 & a\\_Holl3 & BestModelAIC & BestModelBIC & BestModelAIC\\_NoRule2 & BestModelBIC\\_NoRule2 & BestModelTypeAIC & BestModelTypeAIC\\_NoRule2 & BestModelTypeBIC & BestModelTypeBIC\\_NoRule2\\\\\n",
       "  & <int> & <chr> & <chr> & <chr> & <chr> & <chr> & <chr> & <chr> & <chr> & <chr> & ⋯ & <dbl> & <dbl> & <chr> & <chr> & <chr> & <chr> & <chr> & <chr> & <chr> & <chr>\\\\\n",
       "\\hline\n",
       "\t22 & 39856 & Individuals per arena        & individual / (5 individual * 24 hrs) & Saduria entomon (Linnaeus 1758)            & Benthic isopod           & Monoporeia affinis Lindstrm 1855               & Amphipod                    & Marine      & active  & 2D & ⋯ & 3.773193e+04 & 2.775558e-09 & Cubic & Cubic & Cubic & Cubic & Phenomenological & Phenomenological & Phenomenological & Phenomenological\\\\\n",
       "\t33 & 39867 & Individuals per arena        & individual / (1 individual * 3 hrs)  & Notonecta maculata Fabricius 1794          & Backswimmer              & Daphnia magna Straus 1820                      & Daphnia                     & Freshwater  & sessile & 3D & ⋯ & 1.271363e+03 & 1.088019e-06 & Cubic & Cubic & Cubic & Cubic & Phenomenological & Phenomenological & Phenomenological & Phenomenological\\\\\n",
       "\t49 & 39884 & Individuals per arena        & individual / (1 individual * 8 hrs)  & Pardosa vancouveri Emerton                 & Wolf spider              & Drosophila melanogaster Meigen 1830 (wingless) & Vestigial-winged drosophila & Terrestrial & active  & 2D & ⋯ & 1.172293e+04 & 4.479750e-05 & Cubic & Cubic & Cubic & Cubic & Phenomenological & Phenomenological & Phenomenological & Phenomenological\\\\\n",
       "\t51 & 39886 & Individuals per arena        & individual / (1 individual * 6 hrs)  & Pardosa T-insignita (Boesenberg et Strand) & Wolf spider              & Drosophila melanogaster Meigen 1830 (wingless) & Vestigial-winged drosophila & Terrestrial & active  & 2D & ⋯ & 1.244757e+04 & 5.394574e-05 & Cubic & Cubic & Cubic & Cubic & Phenomenological & Phenomenological & Phenomenological & Phenomenological\\\\\n",
       "\t75 & 39912 & Individuals per arena        & individual / (1 individual *30 mins) & Abramis brama Linneaus                     & Common bream             & Daphnia magna Straus 1820                      & Daphnia                     & Freshwater  & active  & 3D & ⋯ & 4.364717e+01 & 6.113721e-05 & Cubic & Cubic & Cubic & Cubic & Phenomenological & Phenomenological & Phenomenological & Phenomenological\\\\\n",
       "\t88 & 39926 & Individuals per arena        & Individual/(Individual*1 day)        & Nabis kinbergii Reuter                     & Pacific damsel bug       & Sidnia kinbergi Stal 1859                      & Australian crop mirid       & Terrestrial & active  & 2D & ⋯ & 1.036782e+04 & 2.149114e-05 & Cubic & Cubic & Cubic & Cubic & Phenomenological & Phenomenological & Phenomenological & Phenomenological\\\\\n",
       "\t112 & 39951 & individuals per arena        & Individual/(Individual * 12 hrs)     & Glossiphonia complanata (Linnaeus 1758)    & Snail leech              & Lymnaea emarginata Say                         & Snail                       & Freshwater  & active  & 2D & ⋯ & 3.253155e+03 & 4.019007e-06 & Cubic & Cubic & Cubic & Cubic & Phenomenological & Phenomenological & Phenomenological & Phenomenological\\\\\n",
       "\t113 & 39952 & individuals per arena        & Individual/(Individual * 12 hrs)     & Glossiphonia complanata (Linnaeus 1758)    & Snail leech              & Lymnaea emarginata Say                         & Snail                       & Freshwater  & active  & 2D & ⋯ & 1.861569e+01 & 7.216450e-08 & Cubic & Cubic & Cubic & Cubic & Phenomenological & Phenomenological & Phenomenological & Phenomenological\\\\\n",
       "\t159 & 40001 & Individuals per milliliter   & individual / (1 individual * 1 hour) & Streptocephalus torvicornis (Waga 1842)    & Fairy shrimp             & Anuraeopsis fissa Gosse 1851                   & rotifer                     & Freshwater  & active  & 3D & ⋯ & 9.713238e-01 & 7.186474e-05 & Cubic & Cubic & Cubic & Cubic & Phenomenological & Phenomenological & Phenomenological & Phenomenological\\\\\n",
       "\t169 & 40011 & Individuals per 1 ha         & individual / (1 individual * 1 hour) & Surnia ulula (Linnaeus 1758)               & Northern Hawk Owl        & Microtus spp.                                  & vole                        & Terrestrial & active  & 3D & ⋯ & 4.702569e+03 & 4.687917e-06 & Cubic & Cubic & Cubic & Cubic & Phenomenological & Phenomenological & Phenomenological & Phenomenological\\\\\n",
       "\t178 & 40023 & Individuals per milliliter   & individual / (1 individual * 1 hour) & Cyclops abyssorum Sars 1863                & Cyclopoid copepod        & Askenasia volvox (Claparde \\& Lachmann 1859)    & Mixotrophic ciliate         & Freshwater  & active  & 3D & ⋯ & 5.357910e+01 & 4.968248e-07 & Cubic & Cubic & Cubic & Cubic & Phenomenological & Phenomenological & Phenomenological & Phenomenological\\\\\n",
       "\t219 & 40068 & Individuals per liter        & Individual/(Individual*15 min)       & Sander vitreus (Mitchill 1818)             & walleye                  & Daphnia spp.                                   & water flea                  & Freshwater  & active  & 3D & ⋯ & 4.837709e+01 & 1.929806e-01 & Cubic & Cubic & Cubic & Cubic & Phenomenological & Phenomenological & Phenomenological & Phenomenological\\\\\n",
       "\t234 & 40083 & Individuals per square meter & Individual/(Individual*15 min)       & Sander vitreus (Mitchill 1818)             & walleye                  & Chironomus spp.                                & chironomid larva            & Freshwater  & active  & 3D & ⋯ & 2.737230e+01 & 3.838596e-06 & Cubic & Cubic & Cubic & Cubic & Phenomenological & Phenomenological & Phenomenological & Phenomenological\\\\\n",
       "\t258 & 40107 & Individuals per arena        & Individual/(Individual*12 day)       & Grammonota trivittata Banks 1895           & sheet-web builder spider & Prokelisia spp.                                & planthopper                 & Terrestrial & sessile & 3D & ⋯ & 5.154645e+04 & 1.665335e-08 & Cubic & Cubic & Cubic & Cubic & Phenomenological & Phenomenological & Phenomenological & Phenomenological\\\\\n",
       "\\end{tabular}\n"
      ],
      "text/markdown": [
       "\n",
       "A data.frame: 14 × 36\n",
       "\n",
       "| <!--/--> | ID &lt;int&gt; | ResDensityUnit &lt;chr&gt; | TraitUnit &lt;chr&gt; | ConTaxa &lt;chr&gt; | ConCommon &lt;chr&gt; | ResTaxa &lt;chr&gt; | ResCommon &lt;chr&gt; | Habitat &lt;chr&gt; | Con_ForagingMovement &lt;chr&gt; | Con_MovementDimensionality &lt;chr&gt; | ⋯ ⋯ | h_Holl3 &lt;dbl&gt; | a_Holl3 &lt;dbl&gt; | BestModelAIC &lt;chr&gt; | BestModelBIC &lt;chr&gt; | BestModelAIC_NoRule2 &lt;chr&gt; | BestModelBIC_NoRule2 &lt;chr&gt; | BestModelTypeAIC &lt;chr&gt; | BestModelTypeAIC_NoRule2 &lt;chr&gt; | BestModelTypeBIC &lt;chr&gt; | BestModelTypeBIC_NoRule2 &lt;chr&gt; |\n",
       "|---|---|---|---|---|---|---|---|---|---|---|---|---|---|---|---|---|---|---|---|---|---|\n",
       "| 22 | 39856 | Individuals per arena        | individual / (5 individual * 24 hrs) | Saduria entomon (Linnaeus 1758)            | Benthic isopod           | Monoporeia affinis Lindstrm 1855               | Amphipod                    | Marine      | active  | 2D | ⋯ | 3.773193e+04 | 2.775558e-09 | Cubic | Cubic | Cubic | Cubic | Phenomenological | Phenomenological | Phenomenological | Phenomenological |\n",
       "| 33 | 39867 | Individuals per arena        | individual / (1 individual * 3 hrs)  | Notonecta maculata Fabricius 1794          | Backswimmer              | Daphnia magna Straus 1820                      | Daphnia                     | Freshwater  | sessile | 3D | ⋯ | 1.271363e+03 | 1.088019e-06 | Cubic | Cubic | Cubic | Cubic | Phenomenological | Phenomenological | Phenomenological | Phenomenological |\n",
       "| 49 | 39884 | Individuals per arena        | individual / (1 individual * 8 hrs)  | Pardosa vancouveri Emerton                 | Wolf spider              | Drosophila melanogaster Meigen 1830 (wingless) | Vestigial-winged drosophila | Terrestrial | active  | 2D | ⋯ | 1.172293e+04 | 4.479750e-05 | Cubic | Cubic | Cubic | Cubic | Phenomenological | Phenomenological | Phenomenological | Phenomenological |\n",
       "| 51 | 39886 | Individuals per arena        | individual / (1 individual * 6 hrs)  | Pardosa T-insignita (Boesenberg et Strand) | Wolf spider              | Drosophila melanogaster Meigen 1830 (wingless) | Vestigial-winged drosophila | Terrestrial | active  | 2D | ⋯ | 1.244757e+04 | 5.394574e-05 | Cubic | Cubic | Cubic | Cubic | Phenomenological | Phenomenological | Phenomenological | Phenomenological |\n",
       "| 75 | 39912 | Individuals per arena        | individual / (1 individual *30 mins) | Abramis brama Linneaus                     | Common bream             | Daphnia magna Straus 1820                      | Daphnia                     | Freshwater  | active  | 3D | ⋯ | 4.364717e+01 | 6.113721e-05 | Cubic | Cubic | Cubic | Cubic | Phenomenological | Phenomenological | Phenomenological | Phenomenological |\n",
       "| 88 | 39926 | Individuals per arena        | Individual/(Individual*1 day)        | Nabis kinbergii Reuter                     | Pacific damsel bug       | Sidnia kinbergi Stal 1859                      | Australian crop mirid       | Terrestrial | active  | 2D | ⋯ | 1.036782e+04 | 2.149114e-05 | Cubic | Cubic | Cubic | Cubic | Phenomenological | Phenomenological | Phenomenological | Phenomenological |\n",
       "| 112 | 39951 | individuals per arena        | Individual/(Individual * 12 hrs)     | Glossiphonia complanata (Linnaeus 1758)    | Snail leech              | Lymnaea emarginata Say                         | Snail                       | Freshwater  | active  | 2D | ⋯ | 3.253155e+03 | 4.019007e-06 | Cubic | Cubic | Cubic | Cubic | Phenomenological | Phenomenological | Phenomenological | Phenomenological |\n",
       "| 113 | 39952 | individuals per arena        | Individual/(Individual * 12 hrs)     | Glossiphonia complanata (Linnaeus 1758)    | Snail leech              | Lymnaea emarginata Say                         | Snail                       | Freshwater  | active  | 2D | ⋯ | 1.861569e+01 | 7.216450e-08 | Cubic | Cubic | Cubic | Cubic | Phenomenological | Phenomenological | Phenomenological | Phenomenological |\n",
       "| 159 | 40001 | Individuals per milliliter   | individual / (1 individual * 1 hour) | Streptocephalus torvicornis (Waga 1842)    | Fairy shrimp             | Anuraeopsis fissa Gosse 1851                   | rotifer                     | Freshwater  | active  | 3D | ⋯ | 9.713238e-01 | 7.186474e-05 | Cubic | Cubic | Cubic | Cubic | Phenomenological | Phenomenological | Phenomenological | Phenomenological |\n",
       "| 169 | 40011 | Individuals per 1 ha         | individual / (1 individual * 1 hour) | Surnia ulula (Linnaeus 1758)               | Northern Hawk Owl        | Microtus spp.                                  | vole                        | Terrestrial | active  | 3D | ⋯ | 4.702569e+03 | 4.687917e-06 | Cubic | Cubic | Cubic | Cubic | Phenomenological | Phenomenological | Phenomenological | Phenomenological |\n",
       "| 178 | 40023 | Individuals per milliliter   | individual / (1 individual * 1 hour) | Cyclops abyssorum Sars 1863                | Cyclopoid copepod        | Askenasia volvox (Claparde &amp; Lachmann 1859)    | Mixotrophic ciliate         | Freshwater  | active  | 3D | ⋯ | 5.357910e+01 | 4.968248e-07 | Cubic | Cubic | Cubic | Cubic | Phenomenological | Phenomenological | Phenomenological | Phenomenological |\n",
       "| 219 | 40068 | Individuals per liter        | Individual/(Individual*15 min)       | Sander vitreus (Mitchill 1818)             | walleye                  | Daphnia spp.                                   | water flea                  | Freshwater  | active  | 3D | ⋯ | 4.837709e+01 | 1.929806e-01 | Cubic | Cubic | Cubic | Cubic | Phenomenological | Phenomenological | Phenomenological | Phenomenological |\n",
       "| 234 | 40083 | Individuals per square meter | Individual/(Individual*15 min)       | Sander vitreus (Mitchill 1818)             | walleye                  | Chironomus spp.                                | chironomid larva            | Freshwater  | active  | 3D | ⋯ | 2.737230e+01 | 3.838596e-06 | Cubic | Cubic | Cubic | Cubic | Phenomenological | Phenomenological | Phenomenological | Phenomenological |\n",
       "| 258 | 40107 | Individuals per arena        | Individual/(Individual*12 day)       | Grammonota trivittata Banks 1895           | sheet-web builder spider | Prokelisia spp.                                | planthopper                 | Terrestrial | sessile | 3D | ⋯ | 5.154645e+04 | 1.665335e-08 | Cubic | Cubic | Cubic | Cubic | Phenomenological | Phenomenological | Phenomenological | Phenomenological |\n",
       "\n"
      ],
      "text/plain": [
       "    ID    ResDensityUnit               TraitUnit                           \n",
       "22  39856 Individuals per arena        individual / (5 individual * 24 hrs)\n",
       "33  39867 Individuals per arena        individual / (1 individual * 3 hrs) \n",
       "49  39884 Individuals per arena        individual / (1 individual * 8 hrs) \n",
       "51  39886 Individuals per arena        individual / (1 individual * 6 hrs) \n",
       "75  39912 Individuals per arena        individual / (1 individual *30 mins)\n",
       "88  39926 Individuals per arena        Individual/(Individual*1 day)       \n",
       "112 39951 individuals per arena        Individual/(Individual * 12 hrs)    \n",
       "113 39952 individuals per arena        Individual/(Individual * 12 hrs)    \n",
       "159 40001 Individuals per milliliter   individual / (1 individual * 1 hour)\n",
       "169 40011 Individuals per 1 ha         individual / (1 individual * 1 hour)\n",
       "178 40023 Individuals per milliliter   individual / (1 individual * 1 hour)\n",
       "219 40068 Individuals per liter        Individual/(Individual*15 min)      \n",
       "234 40083 Individuals per square meter Individual/(Individual*15 min)      \n",
       "258 40107 Individuals per arena        Individual/(Individual*12 day)      \n",
       "    ConTaxa                                    ConCommon               \n",
       "22  Saduria entomon (Linnaeus 1758)            Benthic isopod          \n",
       "33  Notonecta maculata Fabricius 1794          Backswimmer             \n",
       "49  Pardosa vancouveri Emerton                 Wolf spider             \n",
       "51  Pardosa T-insignita (Boesenberg et Strand) Wolf spider             \n",
       "75  Abramis brama Linneaus                     Common bream            \n",
       "88  Nabis kinbergii Reuter                     Pacific damsel bug      \n",
       "112 Glossiphonia complanata (Linnaeus 1758)    Snail leech             \n",
       "113 Glossiphonia complanata (Linnaeus 1758)    Snail leech             \n",
       "159 Streptocephalus torvicornis (Waga 1842)    Fairy shrimp            \n",
       "169 Surnia ulula (Linnaeus 1758)               Northern Hawk Owl       \n",
       "178 Cyclops abyssorum Sars 1863                Cyclopoid copepod       \n",
       "219 Sander vitreus (Mitchill 1818)             walleye                 \n",
       "234 Sander vitreus (Mitchill 1818)             walleye                 \n",
       "258 Grammonota trivittata Banks 1895           sheet-web builder spider\n",
       "    ResTaxa                                        ResCommon                  \n",
       "22  Monoporeia affinis Lindstrm 1855               Amphipod                   \n",
       "33  Daphnia magna Straus 1820                      Daphnia                    \n",
       "49  Drosophila melanogaster Meigen 1830 (wingless) Vestigial-winged drosophila\n",
       "51  Drosophila melanogaster Meigen 1830 (wingless) Vestigial-winged drosophila\n",
       "75  Daphnia magna Straus 1820                      Daphnia                    \n",
       "88  Sidnia kinbergi Stal 1859                      Australian crop mirid      \n",
       "112 Lymnaea emarginata Say                         Snail                      \n",
       "113 Lymnaea emarginata Say                         Snail                      \n",
       "159 Anuraeopsis fissa Gosse 1851                   rotifer                    \n",
       "169 Microtus spp.                                  vole                       \n",
       "178 Askenasia volvox (Claparde & Lachmann 1859)    Mixotrophic ciliate        \n",
       "219 Daphnia spp.                                   water flea                 \n",
       "234 Chironomus spp.                                chironomid larva           \n",
       "258 Prokelisia spp.                                planthopper                \n",
       "    Habitat     Con_ForagingMovement Con_MovementDimensionality ⋯ h_Holl3     \n",
       "22  Marine      active               2D                         ⋯ 3.773193e+04\n",
       "33  Freshwater  sessile              3D                         ⋯ 1.271363e+03\n",
       "49  Terrestrial active               2D                         ⋯ 1.172293e+04\n",
       "51  Terrestrial active               2D                         ⋯ 1.244757e+04\n",
       "75  Freshwater  active               3D                         ⋯ 4.364717e+01\n",
       "88  Terrestrial active               2D                         ⋯ 1.036782e+04\n",
       "112 Freshwater  active               2D                         ⋯ 3.253155e+03\n",
       "113 Freshwater  active               2D                         ⋯ 1.861569e+01\n",
       "159 Freshwater  active               3D                         ⋯ 9.713238e-01\n",
       "169 Terrestrial active               3D                         ⋯ 4.702569e+03\n",
       "178 Freshwater  active               3D                         ⋯ 5.357910e+01\n",
       "219 Freshwater  active               3D                         ⋯ 4.837709e+01\n",
       "234 Freshwater  active               3D                         ⋯ 2.737230e+01\n",
       "258 Terrestrial sessile              3D                         ⋯ 5.154645e+04\n",
       "    a_Holl3      BestModelAIC BestModelBIC BestModelAIC_NoRule2\n",
       "22  2.775558e-09 Cubic        Cubic        Cubic               \n",
       "33  1.088019e-06 Cubic        Cubic        Cubic               \n",
       "49  4.479750e-05 Cubic        Cubic        Cubic               \n",
       "51  5.394574e-05 Cubic        Cubic        Cubic               \n",
       "75  6.113721e-05 Cubic        Cubic        Cubic               \n",
       "88  2.149114e-05 Cubic        Cubic        Cubic               \n",
       "112 4.019007e-06 Cubic        Cubic        Cubic               \n",
       "113 7.216450e-08 Cubic        Cubic        Cubic               \n",
       "159 7.186474e-05 Cubic        Cubic        Cubic               \n",
       "169 4.687917e-06 Cubic        Cubic        Cubic               \n",
       "178 4.968248e-07 Cubic        Cubic        Cubic               \n",
       "219 1.929806e-01 Cubic        Cubic        Cubic               \n",
       "234 3.838596e-06 Cubic        Cubic        Cubic               \n",
       "258 1.665335e-08 Cubic        Cubic        Cubic               \n",
       "    BestModelBIC_NoRule2 BestModelTypeAIC BestModelTypeAIC_NoRule2\n",
       "22  Cubic                Phenomenological Phenomenological        \n",
       "33  Cubic                Phenomenological Phenomenological        \n",
       "49  Cubic                Phenomenological Phenomenological        \n",
       "51  Cubic                Phenomenological Phenomenological        \n",
       "75  Cubic                Phenomenological Phenomenological        \n",
       "88  Cubic                Phenomenological Phenomenological        \n",
       "112 Cubic                Phenomenological Phenomenological        \n",
       "113 Cubic                Phenomenological Phenomenological        \n",
       "159 Cubic                Phenomenological Phenomenological        \n",
       "169 Cubic                Phenomenological Phenomenological        \n",
       "178 Cubic                Phenomenological Phenomenological        \n",
       "219 Cubic                Phenomenological Phenomenological        \n",
       "234 Cubic                Phenomenological Phenomenological        \n",
       "258 Cubic                Phenomenological Phenomenological        \n",
       "    BestModelTypeBIC BestModelTypeBIC_NoRule2\n",
       "22  Phenomenological Phenomenological        \n",
       "33  Phenomenological Phenomenological        \n",
       "49  Phenomenological Phenomenological        \n",
       "51  Phenomenological Phenomenological        \n",
       "75  Phenomenological Phenomenological        \n",
       "88  Phenomenological Phenomenological        \n",
       "112 Phenomenological Phenomenological        \n",
       "113 Phenomenological Phenomenological        \n",
       "159 Phenomenological Phenomenological        \n",
       "169 Phenomenological Phenomenological        \n",
       "178 Phenomenological Phenomenological        \n",
       "219 Phenomenological Phenomenological        \n",
       "234 Phenomenological Phenomenological        \n",
       "258 Phenomenological Phenomenological        "
      ]
     },
     "metadata": {},
     "output_type": "display_data"
    }
   ],
   "source": [
    "subset(ALLDATA, BestModelAIC == 'Cubic')\n",
    "# Holling I - 39896\n",
    "# Holling II - 39894\n",
    "# Holling III - 39877, 39899, 39904\n",
    "\n",
    "ids1 <- c(39896, 39894, 39877, 39899, 39904)\n"
   ]
  },
  {
   "cell_type": "markdown",
   "metadata": {},
   "source": [
    "# Trend Exploration\n",
    "\n",
    "* No rule of 2\n",
    "* AIC used - give reason.. (same between the two, sample size?)\n",
    "\n",
    "## 1. Foraging Movement"
   ]
  },
  {
   "cell_type": "code",
   "execution_count": 483,
   "metadata": {},
   "outputs": [],
   "source": [
    "suppressMessages(library(janitor))"
   ]
  },
  {
   "cell_type": "code",
   "execution_count": 513,
   "metadata": {
    "scrolled": true
   },
   "outputs": [
    {
     "data": {
      "text/html": [
       "<table>\n",
       "<caption>A tabyl: 3 × 5</caption>\n",
       "<thead>\n",
       "\t<tr><th></th><th scope=col>Consumer Foraging Movement</th><th scope=col>Cubic</th><th scope=col>HollingI</th><th scope=col>HollingII</th><th scope=col>HollingIII</th></tr>\n",
       "\t<tr><th></th><th scope=col>&lt;chr&gt;</th><th scope=col>&lt;chr&gt;</th><th scope=col>&lt;chr&gt;</th><th scope=col>&lt;chr&gt;</th><th scope=col>&lt;chr&gt;</th></tr>\n",
       "</thead>\n",
       "<tbody>\n",
       "\t<tr><th scope=row>1</th><td>active </td><td>7% (17)</td><td>10% (23)</td><td>49% (118)</td><td>34%  (81)</td></tr>\n",
       "\t<tr><th scope=row>2</th><td>sessile</td><td>4%  (2)</td><td>4%  (2) </td><td>48%  (26)</td><td>44%  (24)</td></tr>\n",
       "\t<tr><th scope=row>3</th><td>Total  </td><td>6% (19)</td><td>9% (25) </td><td>49% (144)</td><td>36% (105)</td></tr>\n",
       "</tbody>\n",
       "</table>\n"
      ],
      "text/latex": [
       "A tabyl: 3 × 5\n",
       "\\begin{tabular}{r|lllll}\n",
       "  & Consumer Foraging Movement & Cubic & HollingI & HollingII & HollingIII\\\\\n",
       "  & <chr> & <chr> & <chr> & <chr> & <chr>\\\\\n",
       "\\hline\n",
       "\t1 & active  & 7\\% (17) & 10\\% (23) & 49\\% (118) & 34\\%  (81)\\\\\n",
       "\t2 & sessile & 4\\%  (2) & 4\\%  (2)  & 48\\%  (26) & 44\\%  (24)\\\\\n",
       "\t3 & Total   & 6\\% (19) & 9\\% (25)  & 49\\% (144) & 36\\% (105)\\\\\n",
       "\\end{tabular}\n"
      ],
      "text/markdown": [
       "\n",
       "A tabyl: 3 × 5\n",
       "\n",
       "| <!--/--> | Consumer Foraging Movement &lt;chr&gt; | Cubic &lt;chr&gt; | HollingI &lt;chr&gt; | HollingII &lt;chr&gt; | HollingIII &lt;chr&gt; |\n",
       "|---|---|---|---|---|---|\n",
       "| 1 | active  | 7% (17) | 10% (23) | 49% (118) | 34%  (81) |\n",
       "| 2 | sessile | 4%  (2) | 4%  (2)  | 48%  (26) | 44%  (24) |\n",
       "| 3 | Total   | 6% (19) | 9% (25)  | 49% (144) | 36% (105) |\n",
       "\n"
      ],
      "text/plain": [
       "  Consumer Foraging Movement Cubic   HollingI HollingII HollingIII\n",
       "1 active                     7% (17) 10% (23) 49% (118) 34%  (81) \n",
       "2 sessile                    4%  (2) 4%  (2)  48%  (26) 44%  (24) \n",
       "3 Total                      6% (19) 9% (25)  49% (144) 36% (105) "
      ]
     },
     "metadata": {},
     "output_type": "display_data"
    }
   ],
   "source": [
    "ALLDATA %>%\n",
    "tabyl(Con_ForagingMovement, BestModelAIC_NoRule2) %>% # create table\n",
    "adorn_totals(\"row\") %>% # add total counts\n",
    "adorn_percentages(\"row\") %>% # add percentages\n",
    "adorn_pct_formatting(rounding = \"half up\", digits = 0) %>% # round to 2dp\n",
    "adorn_ns() %>% # add counts\n",
    "rename(\"Consumer Foraging Movement\" = \"Con_ForagingMovement\") # rename columns"
   ]
  },
  {
   "cell_type": "markdown",
   "metadata": {},
   "source": [
    "* For active consumers, type II most prevalent\n",
    "* For passive consumers, the type I drops (but aren't many filter feeders passive?) and gap between type II and III shrinks"
   ]
  },
  {
   "cell_type": "code",
   "execution_count": 490,
   "metadata": {},
   "outputs": [
    {
     "data": {
      "text/html": [
       "<table>\n",
       "<caption>A tabyl: 4 × 5</caption>\n",
       "<thead>\n",
       "\t<tr><th></th><th scope=col>Resource Foraging Movement</th><th scope=col>Cubic</th><th scope=col>HollingI</th><th scope=col>HollingII</th><th scope=col>HollingIII</th></tr>\n",
       "\t<tr><th></th><th scope=col>&lt;chr&gt;</th><th scope=col>&lt;chr&gt;</th><th scope=col>&lt;chr&gt;</th><th scope=col>&lt;chr&gt;</th><th scope=col>&lt;chr&gt;</th></tr>\n",
       "</thead>\n",
       "<tbody>\n",
       "\t<tr><th scope=row>1</th><td>active </td><td>7% (15)</td><td>10% (22)</td><td>47% (102)</td><td>37%  (80)</td></tr>\n",
       "\t<tr><th scope=row>2</th><td>passive</td><td>7%  (1)</td><td>7%  (1) </td><td>57%   (8)</td><td>29%   (4)</td></tr>\n",
       "\t<tr><th scope=row>3</th><td>sessile</td><td>5%  (3)</td><td>3%  (2) </td><td>57%  (34)</td><td>35%  (21)</td></tr>\n",
       "\t<tr><th scope=row>4</th><td>Total  </td><td>6% (19)</td><td>9% (25) </td><td>49% (144)</td><td>36% (105)</td></tr>\n",
       "</tbody>\n",
       "</table>\n"
      ],
      "text/latex": [
       "A tabyl: 4 × 5\n",
       "\\begin{tabular}{r|lllll}\n",
       "  & Resource Foraging Movement & Cubic & HollingI & HollingII & HollingIII\\\\\n",
       "  & <chr> & <chr> & <chr> & <chr> & <chr>\\\\\n",
       "\\hline\n",
       "\t1 & active  & 7\\% (15) & 10\\% (22) & 47\\% (102) & 37\\%  (80)\\\\\n",
       "\t2 & passive & 7\\%  (1) & 7\\%  (1)  & 57\\%   (8) & 29\\%   (4)\\\\\n",
       "\t3 & sessile & 5\\%  (3) & 3\\%  (2)  & 57\\%  (34) & 35\\%  (21)\\\\\n",
       "\t4 & Total   & 6\\% (19) & 9\\% (25)  & 49\\% (144) & 36\\% (105)\\\\\n",
       "\\end{tabular}\n"
      ],
      "text/markdown": [
       "\n",
       "A tabyl: 4 × 5\n",
       "\n",
       "| <!--/--> | Resource Foraging Movement &lt;chr&gt; | Cubic &lt;chr&gt; | HollingI &lt;chr&gt; | HollingII &lt;chr&gt; | HollingIII &lt;chr&gt; |\n",
       "|---|---|---|---|---|---|\n",
       "| 1 | active  | 7% (15) | 10% (22) | 47% (102) | 37%  (80) |\n",
       "| 2 | passive | 7%  (1) | 7%  (1)  | 57%   (8) | 29%   (4) |\n",
       "| 3 | sessile | 5%  (3) | 3%  (2)  | 57%  (34) | 35%  (21) |\n",
       "| 4 | Total   | 6% (19) | 9% (25)  | 49% (144) | 36% (105) |\n",
       "\n"
      ],
      "text/plain": [
       "  Resource Foraging Movement Cubic   HollingI HollingII HollingIII\n",
       "1 active                     7% (15) 10% (22) 47% (102) 37%  (80) \n",
       "2 passive                    7%  (1) 7%  (1)  57%   (8) 29%   (4) \n",
       "3 sessile                    5%  (3) 3%  (2)  57%  (34) 35%  (21) \n",
       "4 Total                      6% (19) 9% (25)  49% (144) 36% (105) "
      ]
     },
     "metadata": {},
     "output_type": "display_data"
    }
   ],
   "source": [
    "ALLDATA %>%\n",
    "tabyl(Res_ForagingMovement, BestModelAIC_NoRule2) %>% # create table\n",
    "adorn_totals(\"row\") %>% # add total counts\n",
    "adorn_percentages(\"row\") %>% # add percentages\n",
    "adorn_pct_formatting(rounding = \"half up\", digits = 0) %>% # round to 2dp\n",
    "adorn_ns() %>% # add counts\n",
    "rename(\"Resource Foraging Movement\" = \"Res_ForagingMovement\") # rename columns"
   ]
  },
  {
   "cell_type": "markdown",
   "metadata": {},
   "source": [
    "..."
   ]
  },
  {
   "cell_type": "markdown",
   "metadata": {},
   "source": [
    "## Habitat"
   ]
  },
  {
   "cell_type": "code",
   "execution_count": 491,
   "metadata": {},
   "outputs": [
    {
     "data": {
      "text/html": [
       "<table>\n",
       "<caption>A tabyl: 4 × 5</caption>\n",
       "<thead>\n",
       "\t<tr><th></th><th scope=col>Habitat</th><th scope=col>Cubic</th><th scope=col>HollingI</th><th scope=col>HollingII</th><th scope=col>HollingIII</th></tr>\n",
       "\t<tr><th></th><th scope=col>&lt;chr&gt;</th><th scope=col>&lt;chr&gt;</th><th scope=col>&lt;chr&gt;</th><th scope=col>&lt;chr&gt;</th><th scope=col>&lt;chr&gt;</th></tr>\n",
       "</thead>\n",
       "<tbody>\n",
       "\t<tr><th scope=row>1</th><td>Freshwater </td><td>6% (11)</td><td>6% (11) </td><td>52%  (89)</td><td>35%  (60)</td></tr>\n",
       "\t<tr><th scope=row>2</th><td>Marine     </td><td>3%  (2)</td><td>21% (12)</td><td>36%  (21)</td><td>40%  (23)</td></tr>\n",
       "\t<tr><th scope=row>3</th><td>Terrestrial</td><td>9%  (6)</td><td>3%  (2) </td><td>53%  (34)</td><td>34%  (22)</td></tr>\n",
       "\t<tr><th scope=row>4</th><td>Total      </td><td>6% (19)</td><td>9% (25) </td><td>49% (144)</td><td>36% (105)</td></tr>\n",
       "</tbody>\n",
       "</table>\n"
      ],
      "text/latex": [
       "A tabyl: 4 × 5\n",
       "\\begin{tabular}{r|lllll}\n",
       "  & Habitat & Cubic & HollingI & HollingII & HollingIII\\\\\n",
       "  & <chr> & <chr> & <chr> & <chr> & <chr>\\\\\n",
       "\\hline\n",
       "\t1 & Freshwater  & 6\\% (11) & 6\\% (11)  & 52\\%  (89) & 35\\%  (60)\\\\\n",
       "\t2 & Marine      & 3\\%  (2) & 21\\% (12) & 36\\%  (21) & 40\\%  (23)\\\\\n",
       "\t3 & Terrestrial & 9\\%  (6) & 3\\%  (2)  & 53\\%  (34) & 34\\%  (22)\\\\\n",
       "\t4 & Total       & 6\\% (19) & 9\\% (25)  & 49\\% (144) & 36\\% (105)\\\\\n",
       "\\end{tabular}\n"
      ],
      "text/markdown": [
       "\n",
       "A tabyl: 4 × 5\n",
       "\n",
       "| <!--/--> | Habitat &lt;chr&gt; | Cubic &lt;chr&gt; | HollingI &lt;chr&gt; | HollingII &lt;chr&gt; | HollingIII &lt;chr&gt; |\n",
       "|---|---|---|---|---|---|\n",
       "| 1 | Freshwater  | 6% (11) | 6% (11)  | 52%  (89) | 35%  (60) |\n",
       "| 2 | Marine      | 3%  (2) | 21% (12) | 36%  (21) | 40%  (23) |\n",
       "| 3 | Terrestrial | 9%  (6) | 3%  (2)  | 53%  (34) | 34%  (22) |\n",
       "| 4 | Total       | 6% (19) | 9% (25)  | 49% (144) | 36% (105) |\n",
       "\n"
      ],
      "text/plain": [
       "  Habitat     Cubic   HollingI HollingII HollingIII\n",
       "1 Freshwater  6% (11) 6% (11)  52%  (89) 35%  (60) \n",
       "2 Marine      3%  (2) 21% (12) 36%  (21) 40%  (23) \n",
       "3 Terrestrial 9%  (6) 3%  (2)  53%  (34) 34%  (22) \n",
       "4 Total       6% (19) 9% (25)  49% (144) 36% (105) "
      ]
     },
     "metadata": {},
     "output_type": "display_data"
    }
   ],
   "source": [
    "ALLDATA %>%\n",
    "tabyl(Habitat, BestModelAIC_NoRule2) %>% # create table\n",
    "adorn_totals(\"row\") %>% # add total counts\n",
    "adorn_percentages(\"row\") %>% # add percentages\n",
    "adorn_pct_formatting(rounding = \"half up\", digits = 0) %>% # round to 2dp\n",
    "adorn_ns() # add counts"
   ]
  },
  {
   "cell_type": "markdown",
   "metadata": {},
   "source": [
    "* Significantly more type I in marine habitats (marine ecosystems have more filter feeders?)\n",
    "* Marine habitats mostly type III\n",
    "* Freshwater and terrestrial habitats similar"
   ]
  },
  {
   "cell_type": "markdown",
   "metadata": {},
   "source": [
    "## Dimensionality"
   ]
  },
  {
   "cell_type": "code",
   "execution_count": 499,
   "metadata": {},
   "outputs": [
    {
     "data": {
      "text/html": [
       "<style>\n",
       ".list-inline {list-style: none; margin:0; padding: 0}\n",
       ".list-inline>li {display: inline-block}\n",
       ".list-inline>li:not(:last-child)::after {content: \"\\00b7\"; padding: 0 .5ex}\n",
       "</style>\n",
       "<ol class=list-inline><li>'3D'</li><li>'2D'</li><li>'sessile'</li><li>''</li></ol>\n"
      ],
      "text/latex": [
       "\\begin{enumerate*}\n",
       "\\item '3D'\n",
       "\\item '2D'\n",
       "\\item 'sessile'\n",
       "\\item ''\n",
       "\\end{enumerate*}\n"
      ],
      "text/markdown": [
       "1. '3D'\n",
       "2. '2D'\n",
       "3. 'sessile'\n",
       "4. ''\n",
       "\n",
       "\n"
      ],
      "text/plain": [
       "[1] \"3D\"      \"2D\"      \"sessile\" \"\"       "
      ]
     },
     "metadata": {},
     "output_type": "display_data"
    }
   ],
   "source": [
    "unique(ALLDATA$Con_MovementDimensionality)"
   ]
  },
  {
   "cell_type": "code",
   "execution_count": 498,
   "metadata": {},
   "outputs": [
    {
     "data": {
      "text/html": [
       "<table>\n",
       "<caption>A tabyl: 5 × 5</caption>\n",
       "<thead>\n",
       "\t<tr><th></th><th scope=col>Consumer Movement Dimensionality</th><th scope=col>Cubic</th><th scope=col>HollingI</th><th scope=col>HollingII</th><th scope=col>HollingIII</th></tr>\n",
       "\t<tr><th></th><th scope=col>&lt;chr&gt;</th><th scope=col>&lt;chr&gt;</th><th scope=col>&lt;chr&gt;</th><th scope=col>&lt;chr&gt;</th><th scope=col>&lt;chr&gt;</th></tr>\n",
       "</thead>\n",
       "<tbody>\n",
       "\t<tr><th scope=row>1</th><td>       </td><td>3%  (1)</td><td>7%  (2) </td><td>57%  (17)</td><td>33%  (10) </td></tr>\n",
       "\t<tr><th scope=row>2</th><td>2D     </td><td>8%  (7)</td><td>10%  (9)</td><td>47%  (43)</td><td>35%  (32) </td></tr>\n",
       "\t<tr><th scope=row>3</th><td>3D     </td><td>6% (11)</td><td>8% (14) </td><td>49%  (84)</td><td>36%  (61) </td></tr>\n",
       "\t<tr><th scope=row>4</th><td>sessile</td><td>0%  (0)</td><td>0%  (0) </td><td>0%   (0) </td><td>100%   (2)</td></tr>\n",
       "\t<tr><th scope=row>5</th><td>Total  </td><td>6% (19)</td><td>9% (25) </td><td>49% (144)</td><td>36% (105) </td></tr>\n",
       "</tbody>\n",
       "</table>\n"
      ],
      "text/latex": [
       "A tabyl: 5 × 5\n",
       "\\begin{tabular}{r|lllll}\n",
       "  & Consumer Movement Dimensionality & Cubic & HollingI & HollingII & HollingIII\\\\\n",
       "  & <chr> & <chr> & <chr> & <chr> & <chr>\\\\\n",
       "\\hline\n",
       "\t1 &         & 3\\%  (1) & 7\\%  (2)  & 57\\%  (17) & 33\\%  (10) \\\\\n",
       "\t2 & 2D      & 8\\%  (7) & 10\\%  (9) & 47\\%  (43) & 35\\%  (32) \\\\\n",
       "\t3 & 3D      & 6\\% (11) & 8\\% (14)  & 49\\%  (84) & 36\\%  (61) \\\\\n",
       "\t4 & sessile & 0\\%  (0) & 0\\%  (0)  & 0\\%   (0)  & 100\\%   (2)\\\\\n",
       "\t5 & Total   & 6\\% (19) & 9\\% (25)  & 49\\% (144) & 36\\% (105) \\\\\n",
       "\\end{tabular}\n"
      ],
      "text/markdown": [
       "\n",
       "A tabyl: 5 × 5\n",
       "\n",
       "| <!--/--> | Consumer Movement Dimensionality &lt;chr&gt; | Cubic &lt;chr&gt; | HollingI &lt;chr&gt; | HollingII &lt;chr&gt; | HollingIII &lt;chr&gt; |\n",
       "|---|---|---|---|---|---|\n",
       "| 1 | <!----> | 3%  (1) | 7%  (2)  | 57%  (17) | 33%  (10)  |\n",
       "| 2 | 2D      | 8%  (7) | 10%  (9) | 47%  (43) | 35%  (32)  |\n",
       "| 3 | 3D      | 6% (11) | 8% (14)  | 49%  (84) | 36%  (61)  |\n",
       "| 4 | sessile | 0%  (0) | 0%  (0)  | 0%   (0)  | 100%   (2) |\n",
       "| 5 | Total   | 6% (19) | 9% (25)  | 49% (144) | 36% (105)  |\n",
       "\n"
      ],
      "text/plain": [
       "  Consumer Movement Dimensionality Cubic   HollingI HollingII HollingIII\n",
       "1                                  3%  (1) 7%  (2)  57%  (17) 33%  (10) \n",
       "2 2D                               8%  (7) 10%  (9) 47%  (43) 35%  (32) \n",
       "3 3D                               6% (11) 8% (14)  49%  (84) 36%  (61) \n",
       "4 sessile                          0%  (0) 0%  (0)  0%   (0)  100%   (2)\n",
       "5 Total                            6% (19) 9% (25)  49% (144) 36% (105) "
      ]
     },
     "metadata": {},
     "output_type": "display_data"
    }
   ],
   "source": [
    "ALLDATA %>%\n",
    "tabyl(Con_MovementDimensionality, BestModelAIC_NoRule2) %>% # create table\n",
    "adorn_totals(\"row\") %>% # add total counts\n",
    "adorn_percentages(\"row\") %>% # add percentages\n",
    "adorn_pct_formatting(rounding = \"half up\", digits = 0) %>% # round to 2dp\n",
    "adorn_ns() %>% # add counts\n",
    "rename(\"Consumer Movement Dimensionality\" = 'Con_MovementDimensionality')"
   ]
  },
  {
   "cell_type": "markdown",
   "metadata": {},
   "source": [
    "* Differences between 2D and 3D negligible "
   ]
  },
  {
   "cell_type": "code",
   "execution_count": 500,
   "metadata": {
    "scrolled": true
   },
   "outputs": [
    {
     "data": {
      "text/html": [
       "<table>\n",
       "<caption>A tabyl: 5 × 5</caption>\n",
       "<thead>\n",
       "\t<tr><th></th><th scope=col>Resource Movement Dimensionality</th><th scope=col>Cubic</th><th scope=col>HollingI</th><th scope=col>HollingII</th><th scope=col>HollingIII</th></tr>\n",
       "\t<tr><th></th><th scope=col>&lt;chr&gt;</th><th scope=col>&lt;chr&gt;</th><th scope=col>&lt;chr&gt;</th><th scope=col>&lt;chr&gt;</th><th scope=col>&lt;chr&gt;</th></tr>\n",
       "</thead>\n",
       "<tbody>\n",
       "\t<tr><th scope=row>1</th><td>       </td><td>3%  (1) </td><td>7%  (2)</td><td>57%  (17)</td><td>33%  (10)</td></tr>\n",
       "\t<tr><th scope=row>2</th><td>2D     </td><td>10%  (9)</td><td>9%  (8)</td><td>43%  (38)</td><td>38%  (33)</td></tr>\n",
       "\t<tr><th scope=row>3</th><td>3D     </td><td>6%  (9) </td><td>9% (15)</td><td>48%  (77)</td><td>36%  (58)</td></tr>\n",
       "\t<tr><th scope=row>4</th><td>sessile</td><td>0%  (0) </td><td>0%  (0)</td><td>75%  (12)</td><td>25%   (4)</td></tr>\n",
       "\t<tr><th scope=row>5</th><td>Total  </td><td>6% (19) </td><td>9% (25)</td><td>49% (144)</td><td>36% (105)</td></tr>\n",
       "</tbody>\n",
       "</table>\n"
      ],
      "text/latex": [
       "A tabyl: 5 × 5\n",
       "\\begin{tabular}{r|lllll}\n",
       "  & Resource Movement Dimensionality & Cubic & HollingI & HollingII & HollingIII\\\\\n",
       "  & <chr> & <chr> & <chr> & <chr> & <chr>\\\\\n",
       "\\hline\n",
       "\t1 &         & 3\\%  (1)  & 7\\%  (2) & 57\\%  (17) & 33\\%  (10)\\\\\n",
       "\t2 & 2D      & 10\\%  (9) & 9\\%  (8) & 43\\%  (38) & 38\\%  (33)\\\\\n",
       "\t3 & 3D      & 6\\%  (9)  & 9\\% (15) & 48\\%  (77) & 36\\%  (58)\\\\\n",
       "\t4 & sessile & 0\\%  (0)  & 0\\%  (0) & 75\\%  (12) & 25\\%   (4)\\\\\n",
       "\t5 & Total   & 6\\% (19)  & 9\\% (25) & 49\\% (144) & 36\\% (105)\\\\\n",
       "\\end{tabular}\n"
      ],
      "text/markdown": [
       "\n",
       "A tabyl: 5 × 5\n",
       "\n",
       "| <!--/--> | Resource Movement Dimensionality &lt;chr&gt; | Cubic &lt;chr&gt; | HollingI &lt;chr&gt; | HollingII &lt;chr&gt; | HollingIII &lt;chr&gt; |\n",
       "|---|---|---|---|---|---|\n",
       "| 1 | <!----> | 3%  (1)  | 7%  (2) | 57%  (17) | 33%  (10) |\n",
       "| 2 | 2D      | 10%  (9) | 9%  (8) | 43%  (38) | 38%  (33) |\n",
       "| 3 | 3D      | 6%  (9)  | 9% (15) | 48%  (77) | 36%  (58) |\n",
       "| 4 | sessile | 0%  (0)  | 0%  (0) | 75%  (12) | 25%   (4) |\n",
       "| 5 | Total   | 6% (19)  | 9% (25) | 49% (144) | 36% (105) |\n",
       "\n"
      ],
      "text/plain": [
       "  Resource Movement Dimensionality Cubic    HollingI HollingII HollingIII\n",
       "1                                  3%  (1)  7%  (2)  57%  (17) 33%  (10) \n",
       "2 2D                               10%  (9) 9%  (8)  43%  (38) 38%  (33) \n",
       "3 3D                               6%  (9)  9% (15)  48%  (77) 36%  (58) \n",
       "4 sessile                          0%  (0)  0%  (0)  75%  (12) 25%   (4) \n",
       "5 Total                            6% (19)  9% (25)  49% (144) 36% (105) "
      ]
     },
     "metadata": {},
     "output_type": "display_data"
    }
   ],
   "source": [
    "ALLDATA %>%\n",
    "tabyl(Res_MovementDimensionality, BestModelAIC_NoRule2) %>% # create table\n",
    "adorn_totals(\"row\") %>% # add total counts\n",
    "adorn_percentages(\"row\") %>% # add percentages\n",
    "adorn_pct_formatting(rounding = \"half up\", digits = 0) %>% # round to 2dp\n",
    "adorn_ns() %>% # add counts\n",
    "rename(\"Resource Movement Dimensionality\" = 'Res_MovementDimensionality')"
   ]
  },
  {
   "cell_type": "markdown",
   "metadata": {},
   "source": [
    "* Same as above"
   ]
  },
  {
   "cell_type": "code",
   "execution_count": 501,
   "metadata": {
    "scrolled": true
   },
   "outputs": [
    {
     "data": {
      "text/html": [
       "<table>\n",
       "<caption>A tabyl: 4 × 5</caption>\n",
       "<thead>\n",
       "\t<tr><th></th><th scope=col>Consumer-Resource Detection Dimensionality</th><th scope=col>Cubic</th><th scope=col>HollingI</th><th scope=col>HollingII</th><th scope=col>HollingIII</th></tr>\n",
       "\t<tr><th></th><th scope=col>&lt;chr&gt;</th><th scope=col>&lt;chr&gt;</th><th scope=col>&lt;chr&gt;</th><th scope=col>&lt;chr&gt;</th><th scope=col>&lt;chr&gt;</th></tr>\n",
       "</thead>\n",
       "<tbody>\n",
       "\t<tr><th scope=row>1</th><td>half-sphere</td><td>3%  (1)</td><td>6%  (2) </td><td>39%  (12)</td><td>52%  (16)</td></tr>\n",
       "\t<tr><th scope=row>2</th><td>sphere     </td><td>6%  (8)</td><td>10% (14)</td><td>50%  (69)</td><td>34%  (47)</td></tr>\n",
       "\t<tr><th scope=row>3</th><td>surface    </td><td>8% (10)</td><td>7%  (9) </td><td>51%  (63)</td><td>34%  (42)</td></tr>\n",
       "\t<tr><th scope=row>4</th><td>Total      </td><td>6% (19)</td><td>9% (25) </td><td>49% (144)</td><td>36% (105)</td></tr>\n",
       "</tbody>\n",
       "</table>\n"
      ],
      "text/latex": [
       "A tabyl: 4 × 5\n",
       "\\begin{tabular}{r|lllll}\n",
       "  & Consumer-Resource Detection Dimensionality & Cubic & HollingI & HollingII & HollingIII\\\\\n",
       "  & <chr> & <chr> & <chr> & <chr> & <chr>\\\\\n",
       "\\hline\n",
       "\t1 & half-sphere & 3\\%  (1) & 6\\%  (2)  & 39\\%  (12) & 52\\%  (16)\\\\\n",
       "\t2 & sphere      & 6\\%  (8) & 10\\% (14) & 50\\%  (69) & 34\\%  (47)\\\\\n",
       "\t3 & surface     & 8\\% (10) & 7\\%  (9)  & 51\\%  (63) & 34\\%  (42)\\\\\n",
       "\t4 & Total       & 6\\% (19) & 9\\% (25)  & 49\\% (144) & 36\\% (105)\\\\\n",
       "\\end{tabular}\n"
      ],
      "text/markdown": [
       "\n",
       "A tabyl: 4 × 5\n",
       "\n",
       "| <!--/--> | Consumer-Resource Detection Dimensionality &lt;chr&gt; | Cubic &lt;chr&gt; | HollingI &lt;chr&gt; | HollingII &lt;chr&gt; | HollingIII &lt;chr&gt; |\n",
       "|---|---|---|---|---|---|\n",
       "| 1 | half-sphere | 3%  (1) | 6%  (2)  | 39%  (12) | 52%  (16) |\n",
       "| 2 | sphere      | 6%  (8) | 10% (14) | 50%  (69) | 34%  (47) |\n",
       "| 3 | surface     | 8% (10) | 7%  (9)  | 51%  (63) | 34%  (42) |\n",
       "| 4 | Total       | 6% (19) | 9% (25)  | 49% (144) | 36% (105) |\n",
       "\n"
      ],
      "text/plain": [
       "  Consumer-Resource Detection Dimensionality Cubic   HollingI HollingII\n",
       "1 half-sphere                                3%  (1) 6%  (2)  39%  (12)\n",
       "2 sphere                                     6%  (8) 10% (14) 50%  (69)\n",
       "3 surface                                    8% (10) 7%  (9)  51%  (63)\n",
       "4 Total                                      6% (19) 9% (25)  49% (144)\n",
       "  HollingIII\n",
       "1 52%  (16) \n",
       "2 34%  (47) \n",
       "3 34%  (42) \n",
       "4 36% (105) "
      ]
     },
     "metadata": {},
     "output_type": "display_data"
    }
   ],
   "source": [
    "ALLDATA %>%\n",
    "tabyl(Con_RESDetectionDimensionality, BestModelAIC_NoRule2) %>% # create table\n",
    "adorn_totals(\"row\") %>% # add total counts\n",
    "adorn_percentages(\"row\") %>% # add percentages\n",
    "adorn_pct_formatting(rounding = \"half up\", digits = 0) %>% # round to 2dp\n",
    "adorn_ns() %>% # add counts\n",
    "rename(\"Consumer-Resource Detection Dimensionality\" = 'Con_RESDetectionDimensionality')"
   ]
  },
  {
   "cell_type": "markdown",
   "metadata": {},
   "source": [
    "Not sure if I've interpreted these correctly, but if so then: \n",
    "* Type II generally for 360° detection\n",
    "* Type III for 180° detection\n",
    "* Type II for 'surface' (?)"
   ]
  },
  {
   "cell_type": "code",
   "execution_count": 495,
   "metadata": {},
   "outputs": [
    {
     "data": {
      "text/html": [
       "<table>\n",
       "<caption>A tabyl: 4 × 5</caption>\n",
       "<thead>\n",
       "\t<tr><th></th><th scope=col>Resource-Consumer Detection Dimensionality</th><th scope=col>Cubic</th><th scope=col>HollingI</th><th scope=col>HollingII</th><th scope=col>HollingIII</th></tr>\n",
       "\t<tr><th></th><th scope=col>&lt;chr&gt;</th><th scope=col>&lt;chr&gt;</th><th scope=col>&lt;chr&gt;</th><th scope=col>&lt;chr&gt;</th><th scope=col>&lt;chr&gt;</th></tr>\n",
       "</thead>\n",
       "<tbody>\n",
       "\t<tr><th scope=row>1</th><td>half-sphere</td><td>50%  (1)</td><td>0%  (0) </td><td>50%   (1)</td><td>0%   (0) </td></tr>\n",
       "\t<tr><th scope=row>2</th><td>sphere     </td><td>5%  (9) </td><td>10% (16)</td><td>47%  (79)</td><td>38%  (63)</td></tr>\n",
       "\t<tr><th scope=row>3</th><td>surface    </td><td>7%  (9) </td><td>7%  (9) </td><td>52%  (64)</td><td>34%  (42)</td></tr>\n",
       "\t<tr><th scope=row>4</th><td>Total      </td><td>6% (19) </td><td>9% (25) </td><td>49% (144)</td><td>36% (105)</td></tr>\n",
       "</tbody>\n",
       "</table>\n"
      ],
      "text/latex": [
       "A tabyl: 4 × 5\n",
       "\\begin{tabular}{r|lllll}\n",
       "  & Resource-Consumer Detection Dimensionality & Cubic & HollingI & HollingII & HollingIII\\\\\n",
       "  & <chr> & <chr> & <chr> & <chr> & <chr>\\\\\n",
       "\\hline\n",
       "\t1 & half-sphere & 50\\%  (1) & 0\\%  (0)  & 50\\%   (1) & 0\\%   (0) \\\\\n",
       "\t2 & sphere      & 5\\%  (9)  & 10\\% (16) & 47\\%  (79) & 38\\%  (63)\\\\\n",
       "\t3 & surface     & 7\\%  (9)  & 7\\%  (9)  & 52\\%  (64) & 34\\%  (42)\\\\\n",
       "\t4 & Total       & 6\\% (19)  & 9\\% (25)  & 49\\% (144) & 36\\% (105)\\\\\n",
       "\\end{tabular}\n"
      ],
      "text/markdown": [
       "\n",
       "A tabyl: 4 × 5\n",
       "\n",
       "| <!--/--> | Resource-Consumer Detection Dimensionality &lt;chr&gt; | Cubic &lt;chr&gt; | HollingI &lt;chr&gt; | HollingII &lt;chr&gt; | HollingIII &lt;chr&gt; |\n",
       "|---|---|---|---|---|---|\n",
       "| 1 | half-sphere | 50%  (1) | 0%  (0)  | 50%   (1) | 0%   (0)  |\n",
       "| 2 | sphere      | 5%  (9)  | 10% (16) | 47%  (79) | 38%  (63) |\n",
       "| 3 | surface     | 7%  (9)  | 7%  (9)  | 52%  (64) | 34%  (42) |\n",
       "| 4 | Total       | 6% (19)  | 9% (25)  | 49% (144) | 36% (105) |\n",
       "\n"
      ],
      "text/plain": [
       "  Resource-Consumer Detection Dimensionality Cubic    HollingI HollingII\n",
       "1 half-sphere                                50%  (1) 0%  (0)  50%   (1)\n",
       "2 sphere                                     5%  (9)  10% (16) 47%  (79)\n",
       "3 surface                                    7%  (9)  7%  (9)  52%  (64)\n",
       "4 Total                                      6% (19)  9% (25)  49% (144)\n",
       "  HollingIII\n",
       "1 0%   (0)  \n",
       "2 38%  (63) \n",
       "3 34%  (42) \n",
       "4 36% (105) "
      ]
     },
     "metadata": {},
     "output_type": "display_data"
    }
   ],
   "source": [
    "ALLDATA %>%\n",
    "tabyl(Res_CONDetectionDimensionality, BestModelAIC_NoRule2) %>% # create table\n",
    "adorn_totals(\"row\") %>% # add total counts\n",
    "adorn_percentages(\"row\") %>% # add percentages\n",
    "adorn_pct_formatting(rounding = \"half up\", digits = 0) %>% # round to 2dp\n",
    "adorn_ns() %>% # add counts\n",
    "rename(\"Resource-Consumer Detection Dimensionality\" = 'Res_CONDetectionDimensionality')"
   ]
  },
  {
   "cell_type": "markdown",
   "metadata": {},
   "source": [
    "## Taxonomy"
   ]
  },
  {
   "cell_type": "code",
   "execution_count": null,
   "metadata": {},
   "outputs": [],
   "source": []
  },
  {
   "cell_type": "markdown",
   "metadata": {},
   "source": [
    "# Filter Feeders"
   ]
  },
  {
   "cell_type": "markdown",
   "metadata": {},
   "source": [
    "Preliminary plotting functions:"
   ]
  },
  {
   "cell_type": "code",
   "execution_count": 8,
   "metadata": {},
   "outputs": [],
   "source": [
    "plotBestFits <- function(df, fac){\n",
    "  # Evaluate args\n",
    "  if(!fac %in% c('Model', 'Model Type')) return(\"fac must be one of: 'Model', 'Type'\")\n",
    "\n",
    "  # no of levels\n",
    "  no <- ifelse(fac=='Model Type', 2, model_count)\n",
    "  \n",
    "  # define levels\n",
    "  if (fac == 'Model Type'){\n",
    "    lvls <- c('Phenomenological', 'Mechanistic')\n",
    "    aicBreakdown <- table(ALLDATA[,'BestModelTypeAIC_NoRule2'], ALLDATA$FilterFeeder)\n",
    "    bicBreakdown <- table(ALLDATA[,'BestModelTypeBIC_NoRule2'], ALLDATA$FilterFeeder)\n",
    "    aicBreakdownRO2 <- table(ALLDATA[,'BestModelTypeAIC'], ALLDATA$FilterFeeder)\n",
    "    bicBreakdownRO2 <- table(ALLDATA[,'BestModelTypeBIC'], ALLDATA$FilterFeeder)\n",
    "  } else { # if fac == 'Model'\n",
    "    lvls <- model_names\n",
    "    aicBreakdown <- table(ALLDATA[,'BestModelAIC_NoRule2'], ALLDATA$FilterFeeder)\n",
    "    bicBreakdown <- table(ALLDATA[,'BestModelBIC_NoRule2'], ALLDATA$FilterFeeder)\n",
    "    aicBreakdownRO2 <- table(ALLDATA[,'BestModelAIC'], ALLDATA$FilterFeeder)\n",
    "    bicBreakdownRO2 <- table(ALLDATA[,'BestModelBIC'], ALLDATA$FilterFeeder)\n",
    "  }\n",
    "  \n",
    "  fitdata <- data.frame(Level = rep(lvls, times = 8), \n",
    "                        Estimator = rep(c('AIC', 'BIC'), each = 2*no, times = 2),\n",
    "                        FeedType = rep(c('Filter feeder', 'Non-filter feeder'), times = 4, each=no),\n",
    "                        RO2 = rep(c('Rule of Two', 'No Rule of Two'), each = 4*no),\n",
    "                        Count = rep(NA, times = 8*no))\n",
    "  \n",
    "  # Load count of how many IDs were definititvely best fit by each model (draws excluded)\n",
    "  for (i in 1:nrow(fitdata)){\n",
    "    lvl <- fitdata[i,'Level']\n",
    "    stat <- fitdata[i,'Estimator']\n",
    "    ro2 <- fitdata[i,'RO2']\n",
    "    feedtype <- fitdata[i,'FeedType']\n",
    "    if (ro2 == 'No Rule of Two'){\n",
    "      if (stat == 'AIC'){\n",
    "        fitdata[i,'Count'] <- ifelse(is.na(aicBreakdown[lvl, feedtype]), 0, aicBreakdown[[lvl, feedtype]])\n",
    "      } else {\n",
    "        fitdata[i,'Count'] <- ifelse(is.na(bicBreakdown[lvl, feedtype]), 0, bicBreakdown[[lvl, feedtype]])\n",
    "      }\n",
    "    } else {\n",
    "      if (stat == 'AIC'){\n",
    "        fitdata[i,'Count'] <- ifelse(is.na(aicBreakdownRO2[lvl, feedtype]), 0, aicBreakdownRO2[[lvl, feedtype]])\n",
    "      } else {\n",
    "        fitdata[i,'Count'] <- ifelse(is.na(bicBreakdownRO2[lvl, feedtype]), 0, bicBreakdownRO2[[lvl, feedtype]])\n",
    "      }\n",
    "    }\n",
    "  }\n",
    "  \n",
    "  n <- as.vector(sapply(split(fitdata$Count, ceiling(seq_along(fitdata$Count)/no)), sum)) # Split count col into 4s and add each to get relative total\n",
    "  fitdata$Total <- rep(n, each = no)\n",
    "  fitdata$Percentage <- round((fitdata$Count/fitdata$Total)*100) # Add percentage of IDs best fit\n",
    "  # when the rule of 2 is applied there will be different totals (as ties are ignored)\n",
    "  \n",
    "  # Plot\n",
    "  p <- ggplot(data = fitdata, aes(x = factor(Level, levels = lvls), y = Percentage, fill = Estimator)) + \n",
    "    facet_grid(RO2 ~ FeedType) +\n",
    "    geom_bar(stat=\"identity\", position = 'dodge2') +\n",
    "    labs(x = fac, y = 'Best Fits (%)') + \n",
    "    theme_bw() +\n",
    "    theme(legend.title = element_text(face=\"bold\")) +\n",
    "    geom_text(aes(label=paste(round(Percentage), '% (', Count, ')', sep = '')), position=position_dodge(width=0.9), vjust=-0.5, cex = 3.5-0.5*no) +\n",
    "    scale_fill_brewer(palette=\"Paired\") +\n",
    "    scale_y_continuous(limits=c(0,max(fitdata$Percentage)*1.02))\n",
    "  \n",
    "  return(p)\n",
    "}\n",
    "\n",
    "# Function for adding a column specifying whether the organism is a filter feeder\n",
    "filterFeed <- function(vec){\n",
    "  # Strip spaces and convert to lowercase\n",
    "  stnd <- tolower(gsub(' ', '', vec, fixed = TRUE))\n",
    "  filtfeeders <- c('rotifer', 'shrimp', 'copepod', 'daphnia', 'amphipod', 'krill', \n",
    "                   'euphasiid', 'amphipod', 'larva', 'larvae', 'maggot', 'bivalve', \n",
    "                   'appendicularian', 'polychaete', 'bladderwort', 'seastar', \n",
    "                   'webbuilder')\n",
    "  pattern <- paste(filtfeeders, collapse = '|')\n",
    "  result <- grepl(pattern, stnd)\n",
    "  return(sapply(result, function(x) ifelse(isTRUE(x), 'Filter feeder', 'Non-filter feeder')))\n",
    "}"
   ]
  },
  {
   "cell_type": "markdown",
   "metadata": {},
   "source": [
    "Add Feed Type column:"
   ]
  },
  {
   "cell_type": "code",
   "execution_count": 9,
   "metadata": {},
   "outputs": [],
   "source": [
    "ALLDATA$FilterFeeder <- filterFeed(ALLDATA$ConCommon) # Add filter feed column"
   ]
  },
  {
   "cell_type": "markdown",
   "metadata": {},
   "source": [
    "## Phenomenological vs. Mechanistic"
   ]
  },
  {
   "cell_type": "code",
   "execution_count": 9,
   "metadata": {},
   "outputs": [
    {
     "data": {
      "image/png": "[encoded data removed]",
      "text/plain": [
       "plot without title"
      ]
     },
     "metadata": {
      "image/png": {
       "height": 420,
       "width": 420
      }
     },
     "output_type": "display_data"
    }
   ],
   "source": [
    "plotBestFits(ALLDATA, 'Model Type')"
   ]
  },
  {
   "cell_type": "code",
   "execution_count": 707,
   "metadata": {},
   "outputs": [
    {
     "data": {
      "text/html": [
       "6.18410069220853e-15"
      ],
      "text/latex": [
       "6.18410069220853e-15"
      ],
      "text/markdown": [
       "6.18410069220853e-15"
      ],
      "text/plain": [
       "[1] 6.184101e-15"
      ]
     },
     "metadata": {},
     "output_type": "display_data"
    },
    {
     "data": {
      "text/html": [
       "6.3525250526889e-37"
      ],
      "text/latex": [
       "6.3525250526889e-37"
      ],
      "text/markdown": [
       "6.3525250526889e-37"
      ],
      "text/plain": [
       "[1] 6.352525e-37"
      ]
     },
     "metadata": {},
     "output_type": "display_data"
    }
   ],
   "source": [
    "types <- table(ALLDATA$FilterFeeder, ALLDATA$BestModelTypeAIC_NoRule2)\n",
    "types <- types[,which(colnames(types) %in% c('Mechanistic', 'Phenomenological'))] # ignore ties (if rule of 2)\n",
    "filt <- prop.test(x = types[1,'Mechanistic'], sum(types[1,]), p = 0.5, correct = FALSE)\n",
    "nonfilt <- prop.test(x = types[2,'Mechanistic'], sum(types[2,]), p = 0.5, correct = FALSE)\n",
    "filt$p.value\n",
    "nonfilt$p.value"
   ]
  },
  {
   "cell_type": "code",
   "execution_count": 708,
   "metadata": {
    "scrolled": true
   },
   "outputs": [
    {
     "data": {
      "text/html": [
       "1.62003303228031e-15"
      ],
      "text/latex": [
       "1.62003303228031e-15"
      ],
      "text/markdown": [
       "1.62003303228031e-15"
      ],
      "text/plain": [
       "[1] 1.620033e-15"
      ]
     },
     "metadata": {},
     "output_type": "display_data"
    },
    {
     "data": {
      "text/html": [
       "1.73553756768196e-38"
      ],
      "text/latex": [
       "1.73553756768196e-38"
      ],
      "text/markdown": [
       "1.73553756768196e-38"
      ],
      "text/plain": [
       "[1] 1.735538e-38"
      ]
     },
     "metadata": {},
     "output_type": "display_data"
    }
   ],
   "source": [
    "types <- table(ALLDATA$FilterFeeder, ALLDATA$BestModelTypeAIC)\n",
    "types <- types[,which(colnames(types) %in% c('Mechanistic', 'Phenomenological'))] # ignore ties (if rule of 2)\n",
    "filt <- prop.test(x = types[1,'Mechanistic'], sum(types[1,]), p = 0.5, correct = FALSE)\n",
    "nonfilt <- prop.test(x = types[2,'Mechanistic'], sum(types[2,]), p = 0.5, correct = FALSE)\n",
    "filt$p.value\n",
    "nonfilt$p.value"
   ]
  },
  {
   "cell_type": "markdown",
   "metadata": {},
   "source": [
    "**It is clear that mechnistic models considerably outperformed their phenomonological counterpart accross the board (Fig. 1).** According to both estimators, approximately 95% of functional responses were best fit by a mechanistic model, regardless of feeding type or whether or not the Rule of Two was applied ($p<$0.1e-15 in all cases).\n",
    "\n",
    "($p<$0.1e-15 for both feeding types, both estimators, and both analytical rules)**\n",
    "\n",
    "\n",
    "* It is clear that the mechanistic models considerably outperformed their phenomelogical counterpart (Fig. 1). According to both estimators,  approximately 95% of functional responses were best fit by a mechanistic model, regardless of whether or not the rule of 2 was applied (in the case where it was, IDs for which the fits between the two model types could be considered a statistical 'tie' — i.e. $|\\Delta{AIC}|<2$ or $|\\Delta{BIC}|<2$ — were ignored). \n",
    "* This gap would potentially narrow if there were more data points in each functional response, as it would reduce the penalty for the extra parameters ...\n",
    "\n",
    "ONLY ONE OF THESE^ NEEDED TO DEMONSTRATE (MORE CONSERVATIVE RULE OF TWO ONE)??\n",
    "You could add an ifelse statement in the function of whether or not to fecet grid just by one or two varibles (i.e. if .. p <- p + fcet_grid(...) else ... p <- p + fcet_grid(...) .. then show chi sqd of the other\n",
    "\n",
    "RULE OF 2 DOESN'T MATTER HERE AS CALCULATED SIMILARLY FOR MODEL TYPE"
   ]
  },
  {
   "cell_type": "markdown",
   "metadata": {},
   "source": [
    "## Individual Model Comparison"
   ]
  },
  {
   "cell_type": "code",
   "execution_count": 5,
   "metadata": {
    "scrolled": false
   },
   "outputs": [
    {
     "ename": "ERROR",
     "evalue": "Error in ifelse(fac == \"Model Type\", 2, model_count): object 'model_count' not found\n",
     "output_type": "error",
     "traceback": [
      "Error in ifelse(fac == \"Model Type\", 2, model_count): object 'model_count' not found\nTraceback:\n",
      "1. plotBestFits(ALLDATA, \"Model\")",
      "2. ifelse(fac == \"Model Type\", 2, model_count)   # at line 7 of file <text>"
     ]
    }
   ],
   "source": [
    "plotBestFits(ALLDATA, 'Model')"
   ]
  },
  {
   "cell_type": "markdown",
   "metadata": {},
   "source": [
    "## Jeshke: not all filter feeders exhibit type I functional responses, but all type I functional responses belong to filter feeders"
   ]
  },
  {
   "cell_type": "code",
   "execution_count": 788,
   "metadata": {
    "scrolled": false
   },
   "outputs": [
    {
     "data": {
      "text/html": [
       "<table>\n",
       "<caption>A data.frame: 17 × 8</caption>\n",
       "<thead>\n",
       "\t<tr><th></th><th scope=col>ID</th><th scope=col>ConTaxa</th><th scope=col>ConCommon</th><th scope=col>Habitat</th><th scope=col>Con_ForagingMovement</th><th scope=col>Con_MovementDimensionality</th><th scope=col>Con_RESDetectionDimensionality</th><th scope=col>LabField</th></tr>\n",
       "\t<tr><th></th><th scope=col>&lt;int&gt;</th><th scope=col>&lt;chr&gt;</th><th scope=col>&lt;chr&gt;</th><th scope=col>&lt;chr&gt;</th><th scope=col>&lt;chr&gt;</th><th scope=col>&lt;chr&gt;</th><th scope=col>&lt;chr&gt;</th><th scope=col>&lt;chr&gt;</th></tr>\n",
       "</thead>\n",
       "<tbody>\n",
       "\t<tr><th scope=row>48</th><td>39883</td><td>Chrysomya albiceps (Wiedemann 1819)       </td><td>Blow fly maggot        </td><td>Terrestrial</td><td>active </td><td>2D     </td><td>surface    </td><td>laboratory</td></tr>\n",
       "\t<tr><th scope=row>62</th><td>39899</td><td>Chaoborus americanus Johannsen 1903       </td><td>Phantom midge larva    </td><td>Freshwater </td><td>sessile</td><td>3D     </td><td>half-sphere</td><td>laboratory</td></tr>\n",
       "\t<tr><th scope=row>64</th><td>39901</td><td>Chaoborus americanus Johannsen 1903       </td><td>Phantom midge larva    </td><td>Freshwater </td><td>sessile</td><td>3D     </td><td>half-sphere</td><td>laboratory</td></tr>\n",
       "\t<tr><th scope=row>67</th><td>39904</td><td>Chaoborus americanus Johannsen 1903       </td><td>Phantom midge larva    </td><td>Freshwater </td><td>sessile</td><td>3D     </td><td>half-sphere</td><td>laboratory</td></tr>\n",
       "\t<tr><th scope=row>110</th><td>39949</td><td>Ephemerella aurivilli                     </td><td>Mayfly larva           </td><td>Freshwater </td><td>active </td><td>2D     </td><td>surface    </td><td>laboratory</td></tr>\n",
       "\t<tr><th scope=row>133</th><td>39973</td><td>Daphnia pulicaria Forbes 1893             </td><td>Daphnia                </td><td>Freshwater </td><td>active </td><td>3D     </td><td>sphere     </td><td>laboratory</td></tr>\n",
       "\t<tr><th scope=row>145</th><td>39987</td><td>Mercenaria mercenaria (Linnaeus 1758)     </td><td> Quahog larva          </td><td>Marine     </td><td>active </td><td>3D     </td><td>sphere     </td><td>laboratory</td></tr>\n",
       "\t<tr><th scope=row>151</th><td>39993</td><td>Nyctiphanes australis Sars 1883           </td><td>Euphausiid krill       </td><td>Marine     </td><td>active </td><td>3D     </td><td>sphere     </td><td>laboratory</td></tr>\n",
       "\t<tr><th scope=row>155</th><td>39997</td><td>Tortanus forcipatus (Giesbrecht 1889)     </td><td>Copepod                </td><td>Marine     </td><td>active </td><td>3D     </td><td>sphere     </td><td>laboratory</td></tr>\n",
       "\t<tr><th scope=row>157</th><td>39999</td><td>Streptocephalus torvicornis (Waga 1842)   </td><td>Fairy shrimp           </td><td>Freshwater </td><td>active </td><td>3D     </td><td>sphere     </td><td>laboratory</td></tr>\n",
       "\t<tr><th scope=row>164</th><td>40006</td><td>Coenagrion resolutum (Hagen in Selys 1876)</td><td>damsefly larva         </td><td>Freshwater </td><td>sessile</td><td>3D     </td><td>half-sphere</td><td>laboratory</td></tr>\n",
       "\t<tr><th scope=row>172</th><td>40017</td><td>Parabroteas sarsi (Daday)                 </td><td>calanoid copepod       </td><td>Freshwater </td><td>active </td><td>3D     </td><td>sphere     </td><td>laboratory</td></tr>\n",
       "\t<tr><th scope=row>190</th><td>40035</td><td>Oikopleura dioica Fol 1872                </td><td>coastal appendicularian</td><td>Marine     </td><td>active </td><td>3D     </td><td>sphere     </td><td>laboratory</td></tr>\n",
       "\t<tr><th scope=row>212</th><td>40061</td><td>Utricularia vulgaris Linnaeus 1753        </td><td>common bladderwort     </td><td>Freshwater </td><td>sessile</td><td>sessile</td><td>half-sphere</td><td>laboratory</td></tr>\n",
       "\t<tr><th scope=row>215</th><td>40064</td><td>Praunus flexuosus (Mller 1776)            </td><td>mysid shrimp           </td><td>Marine     </td><td>active </td><td>3D     </td><td>sphere     </td><td>laboratory</td></tr>\n",
       "\t<tr><th scope=row>250</th><td>40099</td><td>Asterias vulgaris Verrill                 </td><td>sea star               </td><td>Marine     </td><td>active </td><td>2D     </td><td>surface    </td><td>laboratory</td></tr>\n",
       "\t<tr><th scope=row>256</th><td>40105</td><td>Crangon crangon (Linnaeus 1758)           </td><td>shrimp                 </td><td>Marine     </td><td>active </td><td>2D     </td><td>surface    </td><td>laboratory</td></tr>\n",
       "</tbody>\n",
       "</table>\n"
      ],
      "text/latex": [
       "A data.frame: 17 × 8\n",
       "\\begin{tabular}{r|llllllll}\n",
       "  & ID & ConTaxa & ConCommon & Habitat & Con\\_ForagingMovement & Con\\_MovementDimensionality & Con\\_RESDetectionDimensionality & LabField\\\\\n",
       "  & <int> & <chr> & <chr> & <chr> & <chr> & <chr> & <chr> & <chr>\\\\\n",
       "\\hline\n",
       "\t48 & 39883 & Chrysomya albiceps (Wiedemann 1819)        & Blow fly maggot         & Terrestrial & active  & 2D      & surface     & laboratory\\\\\n",
       "\t62 & 39899 & Chaoborus americanus Johannsen 1903        & Phantom midge larva     & Freshwater  & sessile & 3D      & half-sphere & laboratory\\\\\n",
       "\t64 & 39901 & Chaoborus americanus Johannsen 1903        & Phantom midge larva     & Freshwater  & sessile & 3D      & half-sphere & laboratory\\\\\n",
       "\t67 & 39904 & Chaoborus americanus Johannsen 1903        & Phantom midge larva     & Freshwater  & sessile & 3D      & half-sphere & laboratory\\\\\n",
       "\t110 & 39949 & Ephemerella aurivilli                      & Mayfly larva            & Freshwater  & active  & 2D      & surface     & laboratory\\\\\n",
       "\t133 & 39973 & Daphnia pulicaria Forbes 1893              & Daphnia                 & Freshwater  & active  & 3D      & sphere      & laboratory\\\\\n",
       "\t145 & 39987 & Mercenaria mercenaria (Linnaeus 1758)      &  Quahog larva           & Marine      & active  & 3D      & sphere      & laboratory\\\\\n",
       "\t151 & 39993 & Nyctiphanes australis Sars 1883            & Euphausiid krill        & Marine      & active  & 3D      & sphere      & laboratory\\\\\n",
       "\t155 & 39997 & Tortanus forcipatus (Giesbrecht 1889)      & Copepod                 & Marine      & active  & 3D      & sphere      & laboratory\\\\\n",
       "\t157 & 39999 & Streptocephalus torvicornis (Waga 1842)    & Fairy shrimp            & Freshwater  & active  & 3D      & sphere      & laboratory\\\\\n",
       "\t164 & 40006 & Coenagrion resolutum (Hagen in Selys 1876) & damsefly larva          & Freshwater  & sessile & 3D      & half-sphere & laboratory\\\\\n",
       "\t172 & 40017 & Parabroteas sarsi (Daday)                  & calanoid copepod        & Freshwater  & active  & 3D      & sphere      & laboratory\\\\\n",
       "\t190 & 40035 & Oikopleura dioica Fol 1872                 & coastal appendicularian & Marine      & active  & 3D      & sphere      & laboratory\\\\\n",
       "\t212 & 40061 & Utricularia vulgaris Linnaeus 1753         & common bladderwort      & Freshwater  & sessile & sessile & half-sphere & laboratory\\\\\n",
       "\t215 & 40064 & Praunus flexuosus (Mller 1776)             & mysid shrimp            & Marine      & active  & 3D      & sphere      & laboratory\\\\\n",
       "\t250 & 40099 & Asterias vulgaris Verrill                  & sea star                & Marine      & active  & 2D      & surface     & laboratory\\\\\n",
       "\t256 & 40105 & Crangon crangon (Linnaeus 1758)            & shrimp                  & Marine      & active  & 2D      & surface     & laboratory\\\\\n",
       "\\end{tabular}\n"
      ],
      "text/markdown": [
       "\n",
       "A data.frame: 17 × 8\n",
       "\n",
       "| <!--/--> | ID &lt;int&gt; | ConTaxa &lt;chr&gt; | ConCommon &lt;chr&gt; | Habitat &lt;chr&gt; | Con_ForagingMovement &lt;chr&gt; | Con_MovementDimensionality &lt;chr&gt; | Con_RESDetectionDimensionality &lt;chr&gt; | LabField &lt;chr&gt; |\n",
       "|---|---|---|---|---|---|---|---|---|\n",
       "| 48 | 39883 | Chrysomya albiceps (Wiedemann 1819)        | Blow fly maggot         | Terrestrial | active  | 2D      | surface     | laboratory |\n",
       "| 62 | 39899 | Chaoborus americanus Johannsen 1903        | Phantom midge larva     | Freshwater  | sessile | 3D      | half-sphere | laboratory |\n",
       "| 64 | 39901 | Chaoborus americanus Johannsen 1903        | Phantom midge larva     | Freshwater  | sessile | 3D      | half-sphere | laboratory |\n",
       "| 67 | 39904 | Chaoborus americanus Johannsen 1903        | Phantom midge larva     | Freshwater  | sessile | 3D      | half-sphere | laboratory |\n",
       "| 110 | 39949 | Ephemerella aurivilli                      | Mayfly larva            | Freshwater  | active  | 2D      | surface     | laboratory |\n",
       "| 133 | 39973 | Daphnia pulicaria Forbes 1893              | Daphnia                 | Freshwater  | active  | 3D      | sphere      | laboratory |\n",
       "| 145 | 39987 | Mercenaria mercenaria (Linnaeus 1758)      |  Quahog larva           | Marine      | active  | 3D      | sphere      | laboratory |\n",
       "| 151 | 39993 | Nyctiphanes australis Sars 1883            | Euphausiid krill        | Marine      | active  | 3D      | sphere      | laboratory |\n",
       "| 155 | 39997 | Tortanus forcipatus (Giesbrecht 1889)      | Copepod                 | Marine      | active  | 3D      | sphere      | laboratory |\n",
       "| 157 | 39999 | Streptocephalus torvicornis (Waga 1842)    | Fairy shrimp            | Freshwater  | active  | 3D      | sphere      | laboratory |\n",
       "| 164 | 40006 | Coenagrion resolutum (Hagen in Selys 1876) | damsefly larva          | Freshwater  | sessile | 3D      | half-sphere | laboratory |\n",
       "| 172 | 40017 | Parabroteas sarsi (Daday)                  | calanoid copepod        | Freshwater  | active  | 3D      | sphere      | laboratory |\n",
       "| 190 | 40035 | Oikopleura dioica Fol 1872                 | coastal appendicularian | Marine      | active  | 3D      | sphere      | laboratory |\n",
       "| 212 | 40061 | Utricularia vulgaris Linnaeus 1753         | common bladderwort      | Freshwater  | sessile | sessile | half-sphere | laboratory |\n",
       "| 215 | 40064 | Praunus flexuosus (Mller 1776)             | mysid shrimp            | Marine      | active  | 3D      | sphere      | laboratory |\n",
       "| 250 | 40099 | Asterias vulgaris Verrill                  | sea star                | Marine      | active  | 2D      | surface     | laboratory |\n",
       "| 256 | 40105 | Crangon crangon (Linnaeus 1758)            | shrimp                  | Marine      | active  | 2D      | surface     | laboratory |\n",
       "\n"
      ],
      "text/plain": [
       "    ID    ConTaxa                                    ConCommon              \n",
       "48  39883 Chrysomya albiceps (Wiedemann 1819)        Blow fly maggot        \n",
       "62  39899 Chaoborus americanus Johannsen 1903        Phantom midge larva    \n",
       "64  39901 Chaoborus americanus Johannsen 1903        Phantom midge larva    \n",
       "67  39904 Chaoborus americanus Johannsen 1903        Phantom midge larva    \n",
       "110 39949 Ephemerella aurivilli                      Mayfly larva           \n",
       "133 39973 Daphnia pulicaria Forbes 1893              Daphnia                \n",
       "145 39987 Mercenaria mercenaria (Linnaeus 1758)       Quahog larva          \n",
       "151 39993 Nyctiphanes australis Sars 1883            Euphausiid krill       \n",
       "155 39997 Tortanus forcipatus (Giesbrecht 1889)      Copepod                \n",
       "157 39999 Streptocephalus torvicornis (Waga 1842)    Fairy shrimp           \n",
       "164 40006 Coenagrion resolutum (Hagen in Selys 1876) damsefly larva         \n",
       "172 40017 Parabroteas sarsi (Daday)                  calanoid copepod       \n",
       "190 40035 Oikopleura dioica Fol 1872                 coastal appendicularian\n",
       "212 40061 Utricularia vulgaris Linnaeus 1753         common bladderwort     \n",
       "215 40064 Praunus flexuosus (Mller 1776)             mysid shrimp           \n",
       "250 40099 Asterias vulgaris Verrill                  sea star               \n",
       "256 40105 Crangon crangon (Linnaeus 1758)            shrimp                 \n",
       "    Habitat     Con_ForagingMovement Con_MovementDimensionality\n",
       "48  Terrestrial active               2D                        \n",
       "62  Freshwater  sessile              3D                        \n",
       "64  Freshwater  sessile              3D                        \n",
       "67  Freshwater  sessile              3D                        \n",
       "110 Freshwater  active               2D                        \n",
       "133 Freshwater  active               3D                        \n",
       "145 Marine      active               3D                        \n",
       "151 Marine      active               3D                        \n",
       "155 Marine      active               3D                        \n",
       "157 Freshwater  active               3D                        \n",
       "164 Freshwater  sessile              3D                        \n",
       "172 Freshwater  active               3D                        \n",
       "190 Marine      active               3D                        \n",
       "212 Freshwater  sessile              sessile                   \n",
       "215 Marine      active               3D                        \n",
       "250 Marine      active               2D                        \n",
       "256 Marine      active               2D                        \n",
       "    Con_RESDetectionDimensionality LabField  \n",
       "48  surface                        laboratory\n",
       "62  half-sphere                    laboratory\n",
       "64  half-sphere                    laboratory\n",
       "67  half-sphere                    laboratory\n",
       "110 surface                        laboratory\n",
       "133 sphere                         laboratory\n",
       "145 sphere                         laboratory\n",
       "151 sphere                         laboratory\n",
       "155 sphere                         laboratory\n",
       "157 sphere                         laboratory\n",
       "164 half-sphere                    laboratory\n",
       "172 sphere                         laboratory\n",
       "190 sphere                         laboratory\n",
       "212 half-sphere                    laboratory\n",
       "215 sphere                         laboratory\n",
       "250 surface                        laboratory\n",
       "256 surface                        laboratory"
      ]
     },
     "metadata": {},
     "output_type": "display_data"
    },
    {
     "data": {
      "text/html": [
       "<style>\n",
       ".list-inline {list-style: none; margin:0; padding: 0}\n",
       ".list-inline>li {display: inline-block}\n",
       ".list-inline>li:not(:last-child)::after {content: \"\\00b7\"; padding: 0 .5ex}\n",
       "</style>\n",
       "<ol class=list-inline><li>39883</li><li>39899</li><li>39901</li><li>39904</li><li>39949</li><li>39973</li><li>39987</li><li>39993</li><li>39997</li><li>39999</li><li>40006</li><li>40017</li><li>40035</li><li>40061</li><li>40064</li><li>40099</li><li>40105</li></ol>\n"
      ],
      "text/latex": [
       "\\begin{enumerate*}\n",
       "\\item 39883\n",
       "\\item 39899\n",
       "\\item 39901\n",
       "\\item 39904\n",
       "\\item 39949\n",
       "\\item 39973\n",
       "\\item 39987\n",
       "\\item 39993\n",
       "\\item 39997\n",
       "\\item 39999\n",
       "\\item 40006\n",
       "\\item 40017\n",
       "\\item 40035\n",
       "\\item 40061\n",
       "\\item 40064\n",
       "\\item 40099\n",
       "\\item 40105\n",
       "\\end{enumerate*}\n"
      ],
      "text/markdown": [
       "1. 39883\n",
       "2. 39899\n",
       "3. 39901\n",
       "4. 39904\n",
       "5. 39949\n",
       "6. 39973\n",
       "7. 39987\n",
       "8. 39993\n",
       "9. 39997\n",
       "10. 39999\n",
       "11. 40006\n",
       "12. 40017\n",
       "13. 40035\n",
       "14. 40061\n",
       "15. 40064\n",
       "16. 40099\n",
       "17. 40105\n",
       "\n",
       "\n"
      ],
      "text/plain": [
       " [1] 39883 39899 39901 39904 39949 39973 39987 39993 39997 39999 40006 40017\n",
       "[13] 40035 40061 40064 40099 40105"
      ]
     },
     "metadata": {},
     "output_type": "display_data"
    }
   ],
   "source": [
    "\n",
    "hol3filtfeed[,c(1,4,5,8,9,10,11,15)]\n",
    "hol3filtfeed$ID"
   ]
  },
  {
   "cell_type": "code",
   "execution_count": 783,
   "metadata": {},
   "outputs": [
    {
     "data": {
      "text/html": [
       "<style>\n",
       ".list-inline {list-style: none; margin:0; padding: 0}\n",
       ".list-inline>li {display: inline-block}\n",
       ".list-inline>li:not(:last-child)::after {content: \"\\00b7\"; padding: 0 .5ex}\n",
       "</style>\n",
       "<ol class=list-inline><li>'ID'</li><li>'ResDensityUnit'</li><li>'TraitUnit'</li><li>'ConTaxa'</li><li>'ConCommon'</li><li>'ResTaxa'</li><li>'ResCommon'</li><li>'Habitat'</li><li>'Con_ForagingMovement'</li><li>'Con_MovementDimensionality'</li><li>'Con_RESDetectionDimensionality'</li><li>'Res_ForagingMovement'</li><li>'Res_MovementDimensionality'</li><li>'Res_CONDetectionDimensionality'</li><li>'LabField'</li><li>'Cubic_AIC'</li><li>'HollingI_AIC'</li><li>'HollingII_AIC'</li><li>'HollingIII_AIC'</li><li>'Cubic_BIC'</li><li>'HollingI_BIC'</li><li>'HollingII_BIC'</li><li>'HollingIII_BIC'</li><li>'a_Holl1'</li><li>'h_Holl2'</li><li>'a_Holl2'</li><li>'h_Holl3'</li><li>'a_Holl3'</li><li>'BestModelAIC'</li><li>'BestModelBIC'</li><li>'BestModelAIC_NoRule2'</li><li>'BestModelBIC_NoRule2'</li><li>'BestModelTypeAIC'</li><li>'BestModelTypeAIC_NoRule2'</li><li>'BestModelTypeBIC'</li><li>'BestModelTypeBIC_NoRule2'</li><li>'FilterFeeder'</li></ol>\n"
      ],
      "text/latex": [
       "\\begin{enumerate*}\n",
       "\\item 'ID'\n",
       "\\item 'ResDensityUnit'\n",
       "\\item 'TraitUnit'\n",
       "\\item 'ConTaxa'\n",
       "\\item 'ConCommon'\n",
       "\\item 'ResTaxa'\n",
       "\\item 'ResCommon'\n",
       "\\item 'Habitat'\n",
       "\\item 'Con\\_ForagingMovement'\n",
       "\\item 'Con\\_MovementDimensionality'\n",
       "\\item 'Con\\_RESDetectionDimensionality'\n",
       "\\item 'Res\\_ForagingMovement'\n",
       "\\item 'Res\\_MovementDimensionality'\n",
       "\\item 'Res\\_CONDetectionDimensionality'\n",
       "\\item 'LabField'\n",
       "\\item 'Cubic\\_AIC'\n",
       "\\item 'HollingI\\_AIC'\n",
       "\\item 'HollingII\\_AIC'\n",
       "\\item 'HollingIII\\_AIC'\n",
       "\\item 'Cubic\\_BIC'\n",
       "\\item 'HollingI\\_BIC'\n",
       "\\item 'HollingII\\_BIC'\n",
       "\\item 'HollingIII\\_BIC'\n",
       "\\item 'a\\_Holl1'\n",
       "\\item 'h\\_Holl2'\n",
       "\\item 'a\\_Holl2'\n",
       "\\item 'h\\_Holl3'\n",
       "\\item 'a\\_Holl3'\n",
       "\\item 'BestModelAIC'\n",
       "\\item 'BestModelBIC'\n",
       "\\item 'BestModelAIC\\_NoRule2'\n",
       "\\item 'BestModelBIC\\_NoRule2'\n",
       "\\item 'BestModelTypeAIC'\n",
       "\\item 'BestModelTypeAIC\\_NoRule2'\n",
       "\\item 'BestModelTypeBIC'\n",
       "\\item 'BestModelTypeBIC\\_NoRule2'\n",
       "\\item 'FilterFeeder'\n",
       "\\end{enumerate*}\n"
      ],
      "text/markdown": [
       "1. 'ID'\n",
       "2. 'ResDensityUnit'\n",
       "3. 'TraitUnit'\n",
       "4. 'ConTaxa'\n",
       "5. 'ConCommon'\n",
       "6. 'ResTaxa'\n",
       "7. 'ResCommon'\n",
       "8. 'Habitat'\n",
       "9. 'Con_ForagingMovement'\n",
       "10. 'Con_MovementDimensionality'\n",
       "11. 'Con_RESDetectionDimensionality'\n",
       "12. 'Res_ForagingMovement'\n",
       "13. 'Res_MovementDimensionality'\n",
       "14. 'Res_CONDetectionDimensionality'\n",
       "15. 'LabField'\n",
       "16. 'Cubic_AIC'\n",
       "17. 'HollingI_AIC'\n",
       "18. 'HollingII_AIC'\n",
       "19. 'HollingIII_AIC'\n",
       "20. 'Cubic_BIC'\n",
       "21. 'HollingI_BIC'\n",
       "22. 'HollingII_BIC'\n",
       "23. 'HollingIII_BIC'\n",
       "24. 'a_Holl1'\n",
       "25. 'h_Holl2'\n",
       "26. 'a_Holl2'\n",
       "27. 'h_Holl3'\n",
       "28. 'a_Holl3'\n",
       "29. 'BestModelAIC'\n",
       "30. 'BestModelBIC'\n",
       "31. 'BestModelAIC_NoRule2'\n",
       "32. 'BestModelBIC_NoRule2'\n",
       "33. 'BestModelTypeAIC'\n",
       "34. 'BestModelTypeAIC_NoRule2'\n",
       "35. 'BestModelTypeBIC'\n",
       "36. 'BestModelTypeBIC_NoRule2'\n",
       "37. 'FilterFeeder'\n",
       "\n",
       "\n"
      ],
      "text/plain": [
       " [1] \"ID\"                             \"ResDensityUnit\"                \n",
       " [3] \"TraitUnit\"                      \"ConTaxa\"                       \n",
       " [5] \"ConCommon\"                      \"ResTaxa\"                       \n",
       " [7] \"ResCommon\"                      \"Habitat\"                       \n",
       " [9] \"Con_ForagingMovement\"           \"Con_MovementDimensionality\"    \n",
       "[11] \"Con_RESDetectionDimensionality\" \"Res_ForagingMovement\"          \n",
       "[13] \"Res_MovementDimensionality\"     \"Res_CONDetectionDimensionality\"\n",
       "[15] \"LabField\"                       \"Cubic_AIC\"                     \n",
       "[17] \"HollingI_AIC\"                   \"HollingII_AIC\"                 \n",
       "[19] \"HollingIII_AIC\"                 \"Cubic_BIC\"                     \n",
       "[21] \"HollingI_BIC\"                   \"HollingII_BIC\"                 \n",
       "[23] \"HollingIII_BIC\"                 \"a_Holl1\"                       \n",
       "[25] \"h_Holl2\"                        \"a_Holl2\"                       \n",
       "[27] \"h_Holl3\"                        \"a_Holl3\"                       \n",
       "[29] \"BestModelAIC\"                   \"BestModelBIC\"                  \n",
       "[31] \"BestModelAIC_NoRule2\"           \"BestModelBIC_NoRule2\"          \n",
       "[33] \"BestModelTypeAIC\"               \"BestModelTypeAIC_NoRule2\"      \n",
       "[35] \"BestModelTypeBIC\"               \"BestModelTypeBIC_NoRule2\"      \n",
       "[37] \"FilterFeeder\"                  "
      ]
     },
     "metadata": {},
     "output_type": "display_data"
    },
    {
     "data": {
      "text/html": [
       "<table>\n",
       "<caption>A tabyl: 1 × 3</caption>\n",
       "<thead>\n",
       "\t<tr><th scope=col>LabField</th><th scope=col>Count</th><th scope=col>Proportion</th></tr>\n",
       "\t<tr><th scope=col>&lt;chr&gt;</th><th scope=col>&lt;dbl&gt;</th><th scope=col>&lt;chr&gt;</th></tr>\n",
       "</thead>\n",
       "<tbody>\n",
       "\t<tr><td>laboratory</td><td>17</td><td>100%</td></tr>\n",
       "</tbody>\n",
       "</table>\n"
      ],
      "text/latex": [
       "A tabyl: 1 × 3\n",
       "\\begin{tabular}{lll}\n",
       " LabField & Count & Proportion\\\\\n",
       " <chr> & <dbl> & <chr>\\\\\n",
       "\\hline\n",
       "\t laboratory & 17 & 100\\%\\\\\n",
       "\\end{tabular}\n"
      ],
      "text/markdown": [
       "\n",
       "A tabyl: 1 × 3\n",
       "\n",
       "| LabField &lt;chr&gt; | Count &lt;dbl&gt; | Proportion &lt;chr&gt; |\n",
       "|---|---|---|\n",
       "| laboratory | 17 | 100% |\n",
       "\n"
      ],
      "text/plain": [
       "  LabField   Count Proportion\n",
       "1 laboratory 17    100%      "
      ]
     },
     "metadata": {},
     "output_type": "display_data"
    },
    {
     "data": {
      "text/html": [
       "<table>\n",
       "<caption>A tabyl: 3 × 3</caption>\n",
       "<thead>\n",
       "\t<tr><th scope=col>LabField</th><th scope=col>Count</th><th scope=col>Proportion</th></tr>\n",
       "\t<tr><th scope=col>&lt;chr&gt;</th><th scope=col>&lt;dbl&gt;</th><th scope=col>&lt;chr&gt;</th></tr>\n",
       "</thead>\n",
       "<tbody>\n",
       "\t<tr><td>enclosure </td><td> 19</td><td>6% </td></tr>\n",
       "\t<tr><td>field     </td><td> 10</td><td>3% </td></tr>\n",
       "\t<tr><td>laboratory</td><td>264</td><td>90%</td></tr>\n",
       "</tbody>\n",
       "</table>\n"
      ],
      "text/latex": [
       "A tabyl: 3 × 3\n",
       "\\begin{tabular}{lll}\n",
       " LabField & Count & Proportion\\\\\n",
       " <chr> & <dbl> & <chr>\\\\\n",
       "\\hline\n",
       "\t enclosure  &  19 & 6\\% \\\\\n",
       "\t field      &  10 & 3\\% \\\\\n",
       "\t laboratory & 264 & 90\\%\\\\\n",
       "\\end{tabular}\n"
      ],
      "text/markdown": [
       "\n",
       "A tabyl: 3 × 3\n",
       "\n",
       "| LabField &lt;chr&gt; | Count &lt;dbl&gt; | Proportion &lt;chr&gt; |\n",
       "|---|---|---|\n",
       "| enclosure  |  19 | 6%  |\n",
       "| field      |  10 | 3%  |\n",
       "| laboratory | 264 | 90% |\n",
       "\n"
      ],
      "text/plain": [
       "  LabField   Count Proportion\n",
       "1 enclosure   19   6%        \n",
       "2 field       10   3%        \n",
       "3 laboratory 264   90%       "
      ]
     },
     "metadata": {},
     "output_type": "display_data"
    },
    {
     "data": {
      "text/html": [
       "<table>\n",
       "<caption>A tabyl: 3 × 3</caption>\n",
       "<thead>\n",
       "\t<tr><th scope=col>Habitat</th><th scope=col>Count</th><th scope=col>Proportion</th></tr>\n",
       "\t<tr><th scope=col>&lt;chr&gt;</th><th scope=col>&lt;dbl&gt;</th><th scope=col>&lt;chr&gt;</th></tr>\n",
       "</thead>\n",
       "<tbody>\n",
       "\t<tr><td>Freshwater </td><td>9</td><td>53%</td></tr>\n",
       "\t<tr><td>Marine     </td><td>7</td><td>41%</td></tr>\n",
       "\t<tr><td>Terrestrial</td><td>1</td><td>6% </td></tr>\n",
       "</tbody>\n",
       "</table>\n"
      ],
      "text/latex": [
       "A tabyl: 3 × 3\n",
       "\\begin{tabular}{lll}\n",
       " Habitat & Count & Proportion\\\\\n",
       " <chr> & <dbl> & <chr>\\\\\n",
       "\\hline\n",
       "\t Freshwater  & 9 & 53\\%\\\\\n",
       "\t Marine      & 7 & 41\\%\\\\\n",
       "\t Terrestrial & 1 & 6\\% \\\\\n",
       "\\end{tabular}\n"
      ],
      "text/markdown": [
       "\n",
       "A tabyl: 3 × 3\n",
       "\n",
       "| Habitat &lt;chr&gt; | Count &lt;dbl&gt; | Proportion &lt;chr&gt; |\n",
       "|---|---|---|\n",
       "| Freshwater  | 9 | 53% |\n",
       "| Marine      | 7 | 41% |\n",
       "| Terrestrial | 1 | 6%  |\n",
       "\n"
      ],
      "text/plain": [
       "  Habitat     Count Proportion\n",
       "1 Freshwater  9     53%       \n",
       "2 Marine      7     41%       \n",
       "3 Terrestrial 1     6%        "
      ]
     },
     "metadata": {},
     "output_type": "display_data"
    },
    {
     "data": {
      "text/html": [
       "<table>\n",
       "<caption>A tabyl: 3 × 3</caption>\n",
       "<thead>\n",
       "\t<tr><th scope=col>Habitat</th><th scope=col>Count</th><th scope=col>Proportion</th></tr>\n",
       "\t<tr><th scope=col>&lt;chr&gt;</th><th scope=col>&lt;dbl&gt;</th><th scope=col>&lt;chr&gt;</th></tr>\n",
       "</thead>\n",
       "<tbody>\n",
       "\t<tr><td>Freshwater </td><td>171</td><td>58%</td></tr>\n",
       "\t<tr><td>Marine     </td><td> 58</td><td>20%</td></tr>\n",
       "\t<tr><td>Terrestrial</td><td> 64</td><td>22%</td></tr>\n",
       "</tbody>\n",
       "</table>\n"
      ],
      "text/latex": [
       "A tabyl: 3 × 3\n",
       "\\begin{tabular}{lll}\n",
       " Habitat & Count & Proportion\\\\\n",
       " <chr> & <dbl> & <chr>\\\\\n",
       "\\hline\n",
       "\t Freshwater  & 171 & 58\\%\\\\\n",
       "\t Marine      &  58 & 20\\%\\\\\n",
       "\t Terrestrial &  64 & 22\\%\\\\\n",
       "\\end{tabular}\n"
      ],
      "text/markdown": [
       "\n",
       "A tabyl: 3 × 3\n",
       "\n",
       "| Habitat &lt;chr&gt; | Count &lt;dbl&gt; | Proportion &lt;chr&gt; |\n",
       "|---|---|---|\n",
       "| Freshwater  | 171 | 58% |\n",
       "| Marine      |  58 | 20% |\n",
       "| Terrestrial |  64 | 22% |\n",
       "\n"
      ],
      "text/plain": [
       "  Habitat     Count Proportion\n",
       "1 Freshwater  171   58%       \n",
       "2 Marine       58   20%       \n",
       "3 Terrestrial  64   22%       "
      ]
     },
     "metadata": {},
     "output_type": "display_data"
    },
    {
     "data": {
      "text/html": [
       "<table>\n",
       "<caption>A tabyl: 2 × 3</caption>\n",
       "<thead>\n",
       "\t<tr><th scope=col>Con_ForagingMovement</th><th scope=col>Count</th><th scope=col>Proportion</th></tr>\n",
       "\t<tr><th scope=col>&lt;chr&gt;</th><th scope=col>&lt;dbl&gt;</th><th scope=col>&lt;chr&gt;</th></tr>\n",
       "</thead>\n",
       "<tbody>\n",
       "\t<tr><td>active </td><td>12</td><td>71%</td></tr>\n",
       "\t<tr><td>sessile</td><td> 5</td><td>29%</td></tr>\n",
       "</tbody>\n",
       "</table>\n"
      ],
      "text/latex": [
       "A tabyl: 2 × 3\n",
       "\\begin{tabular}{lll}\n",
       " Con\\_ForagingMovement & Count & Proportion\\\\\n",
       " <chr> & <dbl> & <chr>\\\\\n",
       "\\hline\n",
       "\t active  & 12 & 71\\%\\\\\n",
       "\t sessile &  5 & 29\\%\\\\\n",
       "\\end{tabular}\n"
      ],
      "text/markdown": [
       "\n",
       "A tabyl: 2 × 3\n",
       "\n",
       "| Con_ForagingMovement &lt;chr&gt; | Count &lt;dbl&gt; | Proportion &lt;chr&gt; |\n",
       "|---|---|---|\n",
       "| active  | 12 | 71% |\n",
       "| sessile |  5 | 29% |\n",
       "\n"
      ],
      "text/plain": [
       "  Con_ForagingMovement Count Proportion\n",
       "1 active               12    71%       \n",
       "2 sessile               5    29%       "
      ]
     },
     "metadata": {},
     "output_type": "display_data"
    },
    {
     "data": {
      "text/html": [
       "<table>\n",
       "<caption>A tabyl: 3 × 3</caption>\n",
       "<thead>\n",
       "\t<tr><th scope=col>Con_MovementDimensionality</th><th scope=col>Count</th><th scope=col>Proportion</th></tr>\n",
       "\t<tr><th scope=col>&lt;chr&gt;</th><th scope=col>&lt;dbl&gt;</th><th scope=col>&lt;chr&gt;</th></tr>\n",
       "</thead>\n",
       "<tbody>\n",
       "\t<tr><td>2D     </td><td> 4</td><td>24%</td></tr>\n",
       "\t<tr><td>3D     </td><td>12</td><td>71%</td></tr>\n",
       "\t<tr><td>sessile</td><td> 1</td><td>6% </td></tr>\n",
       "</tbody>\n",
       "</table>\n"
      ],
      "text/latex": [
       "A tabyl: 3 × 3\n",
       "\\begin{tabular}{lll}\n",
       " Con\\_MovementDimensionality & Count & Proportion\\\\\n",
       " <chr> & <dbl> & <chr>\\\\\n",
       "\\hline\n",
       "\t 2D      &  4 & 24\\%\\\\\n",
       "\t 3D      & 12 & 71\\%\\\\\n",
       "\t sessile &  1 & 6\\% \\\\\n",
       "\\end{tabular}\n"
      ],
      "text/markdown": [
       "\n",
       "A tabyl: 3 × 3\n",
       "\n",
       "| Con_MovementDimensionality &lt;chr&gt; | Count &lt;dbl&gt; | Proportion &lt;chr&gt; |\n",
       "|---|---|---|\n",
       "| 2D      |  4 | 24% |\n",
       "| 3D      | 12 | 71% |\n",
       "| sessile |  1 | 6%  |\n",
       "\n"
      ],
      "text/plain": [
       "  Con_MovementDimensionality Count Proportion\n",
       "1 2D                          4    24%       \n",
       "2 3D                         12    71%       \n",
       "3 sessile                     1    6%        "
      ]
     },
     "metadata": {},
     "output_type": "display_data"
    },
    {
     "data": {
      "text/html": [
       "<table>\n",
       "<caption>A tabyl: 3 × 3</caption>\n",
       "<thead>\n",
       "\t<tr><th scope=col>Con_RESDetectionDimensionality</th><th scope=col>Count</th><th scope=col>Proportion</th></tr>\n",
       "\t<tr><th scope=col>&lt;chr&gt;</th><th scope=col>&lt;dbl&gt;</th><th scope=col>&lt;chr&gt;</th></tr>\n",
       "</thead>\n",
       "<tbody>\n",
       "\t<tr><td>half-sphere</td><td>5</td><td>29%</td></tr>\n",
       "\t<tr><td>sphere     </td><td>8</td><td>47%</td></tr>\n",
       "\t<tr><td>surface    </td><td>4</td><td>24%</td></tr>\n",
       "</tbody>\n",
       "</table>\n"
      ],
      "text/latex": [
       "A tabyl: 3 × 3\n",
       "\\begin{tabular}{lll}\n",
       " Con\\_RESDetectionDimensionality & Count & Proportion\\\\\n",
       " <chr> & <dbl> & <chr>\\\\\n",
       "\\hline\n",
       "\t half-sphere & 5 & 29\\%\\\\\n",
       "\t sphere      & 8 & 47\\%\\\\\n",
       "\t surface     & 4 & 24\\%\\\\\n",
       "\\end{tabular}\n"
      ],
      "text/markdown": [
       "\n",
       "A tabyl: 3 × 3\n",
       "\n",
       "| Con_RESDetectionDimensionality &lt;chr&gt; | Count &lt;dbl&gt; | Proportion &lt;chr&gt; |\n",
       "|---|---|---|\n",
       "| half-sphere | 5 | 29% |\n",
       "| sphere      | 8 | 47% |\n",
       "| surface     | 4 | 24% |\n",
       "\n"
      ],
      "text/plain": [
       "  Con_RESDetectionDimensionality Count Proportion\n",
       "1 half-sphere                    5     29%       \n",
       "2 sphere                         8     47%       \n",
       "3 surface                        4     24%       "
      ]
     },
     "metadata": {},
     "output_type": "display_data"
    }
   ],
   "source": [
    "# Filter feeder type III \n",
    "names(ALLDATA)\n",
    "hol3filtfeed <- ALLDATA[ALLDATA$BestModelAIC == 'HollingIII' & ALLDATA$FilterFeeder == 'Filter feeder',]\n",
    "\n",
    "hol3filtfeed %>%\n",
    "tabyl(LabField) %>% # create table\n",
    "adorn_pct_formatting(rounding = \"half up\", digits = 0) %>%\n",
    "rename(\"Count\" = 'n', 'Proportion' = 'percent')\n",
    "\n",
    "ALLDATA %>%\n",
    "tabyl(LabField) %>% # create table\n",
    "adorn_pct_formatting(rounding = \"half up\", digits = 0) %>%\n",
    "rename(\"Count\" = 'n', 'Proportion' = 'percent')\n",
    "\n",
    "hol3filtfeed %>%\n",
    "tabyl(Habitat) %>% # create table\n",
    "adorn_pct_formatting(rounding = \"half up\", digits = 0) %>%\n",
    "rename(\"Count\" = 'n', 'Proportion' = 'percent')\n",
    "\n",
    "ALLDATA %>%\n",
    "tabyl(Habitat) %>% # create table\n",
    "adorn_pct_formatting(rounding = \"half up\", digits = 0) %>%\n",
    "rename(\"Count\" = 'n', 'Proportion' = 'percent')\n",
    "\n",
    "hol3filtfeed %>%\n",
    "tabyl(Con_ForagingMovement) %>% # create table\n",
    "adorn_pct_formatting(rounding = \"half up\", digits = 0) %>%\n",
    "rename(\"Count\" = 'n', 'Proportion' = 'percent')\n",
    "\n",
    "hol3filtfeed %>%\n",
    "tabyl(Con_MovementDimensionality) %>% # create table\n",
    "adorn_pct_formatting(rounding = \"half up\", digits = 0) %>%\n",
    "rename(\"Count\" = 'n', 'Proportion' = 'percent')\n",
    "\n",
    "hol3filtfeed %>%\n",
    "tabyl(Con_RESDetectionDimensionality) %>% # create table\n",
    "adorn_pct_formatting(rounding = \"half up\", digits = 0) %>%\n",
    "rename(\"Count\" = 'n', 'Proportion' = 'percent')\n",
    "\n",
    "#%>%\n",
    "#tidyr::unite('Count', n:percent, sep = ' (')\n",
    "\n",
    "\n",
    "#tabyl(Con_RESDetectionDimensionality, BestModelAIC_NoRule2) %>% # create table\n",
    "#adorn_totals(\"row\") %>% # add total counts\n",
    "#adorn_percentages(\"row\") %>% # add percentages\n",
    "#adorn_pct_formatting(rounding = \"half up\", digits = 0) %>% # round to 2dp\n",
    "#adorn_ns() %>% # add counts\n",
    "#rename(\"Consumer-Resource Detection Dimensionality\" = 'Con_RESDetectionDimensionality')\n",
    "\n",
    "#%>% # create table\n",
    "#adorn_totals(\"col\") %>% # add total counts\n",
    "#adorn_percentages(\"col\") %>% # add percentages\n",
    "#adorn_pct_formatting(rounding = \"half up\", digits = 0) \n"
   ]
  },
  {
   "cell_type": "markdown",
   "metadata": {},
   "source": [
    "#### LabField"
   ]
  },
  {
   "cell_type": "code",
   "execution_count": 870,
   "metadata": {
    "scrolled": false
   },
   "outputs": [
    {
     "data": {
      "text/html": [
       "<table>\n",
       "<caption>A data.frame: 2 × 3</caption>\n",
       "<thead>\n",
       "\t<tr><th scope=col>laboratory</th><th scope=col>enclosure</th><th scope=col>field</th></tr>\n",
       "\t<tr><th scope=col>&lt;dbl&gt;</th><th scope=col>&lt;dbl&gt;</th><th scope=col>&lt;dbl&gt;</th></tr>\n",
       "</thead>\n",
       "<tbody>\n",
       "\t<tr><td>264</td><td>19</td><td>10</td></tr>\n",
       "\t<tr><td> 17</td><td> 0</td><td> 0</td></tr>\n",
       "</tbody>\n",
       "</table>\n"
      ],
      "text/latex": [
       "A data.frame: 2 × 3\n",
       "\\begin{tabular}{lll}\n",
       " laboratory & enclosure & field\\\\\n",
       " <dbl> & <dbl> & <dbl>\\\\\n",
       "\\hline\n",
       "\t 264 & 19 & 10\\\\\n",
       "\t  17 &  0 &  0\\\\\n",
       "\\end{tabular}\n"
      ],
      "text/markdown": [
       "\n",
       "A data.frame: 2 × 3\n",
       "\n",
       "| laboratory &lt;dbl&gt; | enclosure &lt;dbl&gt; | field &lt;dbl&gt; |\n",
       "|---|---|---|\n",
       "| 264 | 19 | 10 |\n",
       "|  17 |  0 |  0 |\n",
       "\n"
      ],
      "text/plain": [
       "  laboratory enclosure field\n",
       "1 264        19        10   \n",
       "2  17         0         0   "
      ]
     },
     "metadata": {},
     "output_type": "display_data"
    },
    {
     "name": "stderr",
     "output_type": "stream",
     "text": [
      "Warning message in stats::chisq.test(x, y, ...):\n",
      "“Chi-squared approximation may be incorrect”\n"
     ]
    },
    {
     "data": {
      "text/plain": [
       "\n",
       "\tPearson's Chi-squared test\n",
       "\n",
       "data:  exptype\n",
       "X-squared = 1.8562, df = 2, p-value = 0.3953\n"
      ]
     },
     "metadata": {},
     "output_type": "display_data"
    }
   ],
   "source": [
    "keys <- unique(ALLDATA$LabField)\n",
    "all <- as.list(table(ALLDATA$LabField))\n",
    "filts <- as.list(table(hol3filtfeed$LabField))\n",
    "\n",
    "for (key in keys){\n",
    "    if(is.null(filts[[key]])){filts[[key]] <- 0}\n",
    "}\n",
    "\n",
    "all <- all[keys]\n",
    "filts <- filts[keys]\n",
    "exptype <- data.frame(rbind(unlist(all), unlist(filts)))\n",
    "\n",
    "exptype\n",
    "\n",
    "chisq.test(exptype)"
   ]
  },
  {
   "cell_type": "markdown",
   "metadata": {},
   "source": [
    "Insignificant difference\n",
    "\n",
    "#### Habitat"
   ]
  },
  {
   "cell_type": "code",
   "execution_count": 871,
   "metadata": {},
   "outputs": [
    {
     "data": {
      "text/html": [
       "<table>\n",
       "<caption>A data.frame: 2 × 3</caption>\n",
       "<thead>\n",
       "\t<tr><th scope=col>Freshwater</th><th scope=col>Marine</th><th scope=col>Terrestrial</th></tr>\n",
       "\t<tr><th scope=col>&lt;int&gt;</th><th scope=col>&lt;int&gt;</th><th scope=col>&lt;int&gt;</th></tr>\n",
       "</thead>\n",
       "<tbody>\n",
       "\t<tr><td>171</td><td>58</td><td>64</td></tr>\n",
       "\t<tr><td>  9</td><td> 7</td><td> 1</td></tr>\n",
       "</tbody>\n",
       "</table>\n"
      ],
      "text/latex": [
       "A data.frame: 2 × 3\n",
       "\\begin{tabular}{lll}\n",
       " Freshwater & Marine & Terrestrial\\\\\n",
       " <int> & <int> & <int>\\\\\n",
       "\\hline\n",
       "\t 171 & 58 & 64\\\\\n",
       "\t   9 &  7 &  1\\\\\n",
       "\\end{tabular}\n"
      ],
      "text/markdown": [
       "\n",
       "A data.frame: 2 × 3\n",
       "\n",
       "| Freshwater &lt;int&gt; | Marine &lt;int&gt; | Terrestrial &lt;int&gt; |\n",
       "|---|---|---|\n",
       "| 171 | 58 | 64 |\n",
       "|   9 |  7 |  1 |\n",
       "\n"
      ],
      "text/plain": [
       "  Freshwater Marine Terrestrial\n",
       "1 171        58     64         \n",
       "2   9         7      1         "
      ]
     },
     "metadata": {},
     "output_type": "display_data"
    },
    {
     "name": "stderr",
     "output_type": "stream",
     "text": [
      "Warning message in stats::chisq.test(x, y, ...):\n",
      "“Chi-squared approximation may be incorrect”\n"
     ]
    },
    {
     "data": {
      "text/plain": [
       "\n",
       "\tPearson's Chi-squared test\n",
       "\n",
       "data:  hab\n",
       "X-squared = 5.5367, df = 2, p-value = 0.06277\n"
      ]
     },
     "metadata": {},
     "output_type": "display_data"
    }
   ],
   "source": [
    "keys <- unique(ALLDATA$Habitat)\n",
    "all <- as.list(table(ALLDATA$Habitat))\n",
    "filts <- as.list(table(hol3filtfeed$Habitat))\n",
    "\n",
    "for (key in keys){\n",
    "    if(is.null(filts[[key]])){filts[[key]] <- 0}\n",
    "}\n",
    "\n",
    "all <- all[keys]\n",
    "filts <- filts[keys]\n",
    "hab <- data.frame(rbind(unlist(all), unlist(filts)))\n",
    "\n",
    "hab\n",
    "\n",
    "chisq.test(hab)"
   ]
  },
  {
   "cell_type": "markdown",
   "metadata": {},
   "source": [
    "Insignificant difference\n",
    "\n",
    "#### Con_ForagingMovement"
   ]
  },
  {
   "cell_type": "code",
   "execution_count": 861,
   "metadata": {},
   "outputs": [
    {
     "data": {
      "text/html": [
       "<table>\n",
       "<caption>A data.frame: 2 × 2</caption>\n",
       "<thead>\n",
       "\t<tr><th scope=col>active</th><th scope=col>sessile</th></tr>\n",
       "\t<tr><th scope=col>&lt;int&gt;</th><th scope=col>&lt;int&gt;</th></tr>\n",
       "</thead>\n",
       "<tbody>\n",
       "\t<tr><td>239</td><td>54</td></tr>\n",
       "\t<tr><td> 12</td><td> 5</td></tr>\n",
       "</tbody>\n",
       "</table>\n"
      ],
      "text/latex": [
       "A data.frame: 2 × 2\n",
       "\\begin{tabular}{ll}\n",
       " active & sessile\\\\\n",
       " <int> & <int>\\\\\n",
       "\\hline\n",
       "\t 239 & 54\\\\\n",
       "\t  12 &  5\\\\\n",
       "\\end{tabular}\n"
      ],
      "text/markdown": [
       "\n",
       "A data.frame: 2 × 2\n",
       "\n",
       "| active &lt;int&gt; | sessile &lt;int&gt; |\n",
       "|---|---|\n",
       "| 239 | 54 |\n",
       "|  12 |  5 |\n",
       "\n"
      ],
      "text/plain": [
       "  active sessile\n",
       "1 239    54     \n",
       "2  12     5     "
      ]
     },
     "metadata": {},
     "output_type": "display_data"
    },
    {
     "name": "stderr",
     "output_type": "stream",
     "text": [
      "Warning message in stats::chisq.test(x, y, ...):\n",
      "“Chi-squared approximation may be incorrect”\n"
     ]
    },
    {
     "data": {
      "text/plain": [
       "\n",
       "\tPearson's Chi-squared test with Yates' continuity correction\n",
       "\n",
       "data:  hab\n",
       "X-squared = 0.64579, df = 1, p-value = 0.4216\n"
      ]
     },
     "metadata": {},
     "output_type": "display_data"
    }
   ],
   "source": [
    "keys <- unique(ALLDATA$Con_ForagingMovement)\n",
    "all <- as.list(table(ALLDATA$Con_ForagingMovement))\n",
    "filts <- as.list(table(hol3filtfeed$Con_ForagingMovement))\n",
    "\n",
    "for (key in keys){\n",
    "    if(is.null(filts[[key]])){filts[[key]] <- 0}\n",
    "}\n",
    "\n",
    "all <- all[keys]\n",
    "filts <- filts[keys]\n",
    "hab <- data.frame(rbind(unlist(all), unlist(filts)))\n",
    "\n",
    "hab\n",
    "\n",
    "chisq.test(hab)"
   ]
  },
  {
   "cell_type": "markdown",
   "metadata": {},
   "source": [
    "Insignificant difference\n",
    "\n",
    "#### Con_MovementDimensionality"
   ]
  },
  {
   "cell_type": "code",
   "execution_count": 869,
   "metadata": {},
   "outputs": [
    {
     "data": {
      "text/plain": [
       "\n",
       "\tPearson's Chi-squared test with Yates' continuity correction\n",
       "\n",
       "data:  dim\n",
       "X-squared = 0.28697, df = 1, p-value = 0.5922\n"
      ]
     },
     "metadata": {},
     "output_type": "display_data"
    }
   ],
   "source": [
    "keys <- unique(ALLDATA$Con_MovementDimensionality)\n",
    "all <- as.list(table(ALLDATA$Con_MovementDimensionality))\n",
    "filts <- as.list(table(hol3filtfeed$Con_MovementDimensionality))\n",
    "\n",
    "for (key in keys){\n",
    "    if(is.null(filts[[key]])){filts[[key]] <- 0}\n",
    "}\n",
    "\n",
    "# Order lists\n",
    "all <- all[keys] \n",
    "filts <- filts[keys]\n",
    "\n",
    "# Build df for chi sqd test\n",
    "dim <- data.frame(rbind(unlist(all), unlist(filts)))\n",
    "\n",
    "dim$sessile <- NULL\n",
    "\n",
    "chisq.test(dim)"
   ]
  },
  {
   "cell_type": "markdown",
   "metadata": {},
   "source": [
    "## Is there a significant difference in proportion of type I functional responses between filter feeders/non-filter feeders? \n",
    "If this is true, then we should see a significant difference in performance of type I model between filter feeders and non-filter feeders.\n",
    "\n",
    "### No Rule of Two:"
   ]
  },
  {
   "cell_type": "code",
   "execution_count": 660,
   "metadata": {},
   "outputs": [
    {
     "data": {
      "text/html": [
       "<table>\n",
       "<caption>A data.frame: 2 × 2</caption>\n",
       "<thead>\n",
       "\t<tr><th></th><th scope=col>HollingI</th><th scope=col>NonTypeI</th></tr>\n",
       "\t<tr><th></th><th scope=col>&lt;int&gt;</th><th scope=col>&lt;int&gt;</th></tr>\n",
       "</thead>\n",
       "<tbody>\n",
       "\t<tr><th scope=row>Filter feeder</th><td>11</td><td> 65</td></tr>\n",
       "\t<tr><th scope=row>Non-filter feeder</th><td>14</td><td>203</td></tr>\n",
       "</tbody>\n",
       "</table>\n"
      ],
      "text/latex": [
       "A data.frame: 2 × 2\n",
       "\\begin{tabular}{r|ll}\n",
       "  & HollingI & NonTypeI\\\\\n",
       "  & <int> & <int>\\\\\n",
       "\\hline\n",
       "\tFilter feeder & 11 &  65\\\\\n",
       "\tNon-filter feeder & 14 & 203\\\\\n",
       "\\end{tabular}\n"
      ],
      "text/markdown": [
       "\n",
       "A data.frame: 2 × 2\n",
       "\n",
       "| <!--/--> | HollingI &lt;int&gt; | NonTypeI &lt;int&gt; |\n",
       "|---|---|---|\n",
       "| Filter feeder | 11 |  65 |\n",
       "| Non-filter feeder | 14 | 203 |\n",
       "\n"
      ],
      "text/plain": [
       "                  HollingI NonTypeI\n",
       "Filter feeder     11        65     \n",
       "Non-filter feeder 14       203     "
      ]
     },
     "metadata": {},
     "output_type": "display_data"
    },
    {
     "data": {
      "text/plain": [
       "\n",
       "\tPearson's Chi-squared test with Yates' continuity correction\n",
       "\n",
       "data:  modscomp1\n",
       "X-squared = 3.6703, df = 1, p-value = 0.05539\n"
      ]
     },
     "metadata": {},
     "output_type": "display_data"
    }
   ],
   "source": [
    "mods <- table(ALLDATA$FilterFeeder, ALLDATA$BestModelAIC_NoRule2)\n",
    "mods <- mods[,which(colnames(mods) %in% c('Cubic', 'HollingI', 'HollingII', 'HollingIII'))] # ignore ties (if rule of 2)\n",
    "modscomp1 <- as.data.frame.matrix(mods)\n",
    "modscomp1$NonTypeI <- modscomp1$Cubic + modscomp1$HollingII + modscomp1$HollingIII\n",
    "modscomp1$Cubic <- modscomp1$HollingII <- modscomp1$HollingIII <- NULL\n",
    "modscomp1\n",
    "chisq.test(modscomp1)"
   ]
  },
  {
   "cell_type": "code",
   "execution_count": 663,
   "metadata": {},
   "outputs": [
    {
     "data": {
      "text/html": [
       "<table>\n",
       "<caption>A data.frame: 2 × 2</caption>\n",
       "<thead>\n",
       "\t<tr><th></th><th scope=col>HollingII</th><th scope=col>NonTypeII</th></tr>\n",
       "\t<tr><th></th><th scope=col>&lt;int&gt;</th><th scope=col>&lt;int&gt;</th></tr>\n",
       "</thead>\n",
       "<tbody>\n",
       "\t<tr><th scope=row>Filter feeder</th><td> 26</td><td>50</td></tr>\n",
       "\t<tr><th scope=row>Non-filter feeder</th><td>118</td><td>99</td></tr>\n",
       "</tbody>\n",
       "</table>\n"
      ],
      "text/latex": [
       "A data.frame: 2 × 2\n",
       "\\begin{tabular}{r|ll}\n",
       "  & HollingII & NonTypeII\\\\\n",
       "  & <int> & <int>\\\\\n",
       "\\hline\n",
       "\tFilter feeder &  26 & 50\\\\\n",
       "\tNon-filter feeder & 118 & 99\\\\\n",
       "\\end{tabular}\n"
      ],
      "text/markdown": [
       "\n",
       "A data.frame: 2 × 2\n",
       "\n",
       "| <!--/--> | HollingII &lt;int&gt; | NonTypeII &lt;int&gt; |\n",
       "|---|---|---|\n",
       "| Filter feeder |  26 | 50 |\n",
       "| Non-filter feeder | 118 | 99 |\n",
       "\n"
      ],
      "text/plain": [
       "                  HollingII NonTypeII\n",
       "Filter feeder      26       50       \n",
       "Non-filter feeder 118       99       "
      ]
     },
     "metadata": {},
     "output_type": "display_data"
    },
    {
     "data": {
      "text/plain": [
       "\n",
       "\tPearson's Chi-squared test with Yates' continuity correction\n",
       "\n",
       "data:  modscomp2\n",
       "X-squared = 8.3707, df = 1, p-value = 0.003813\n"
      ]
     },
     "metadata": {},
     "output_type": "display_data"
    }
   ],
   "source": [
    "modscomp2 <- as.data.frame.matrix(mods)\n",
    "modscomp2$NonTypeII <- modscomp2$Cubic + modscomp2$HollingI + modscomp2$HollingIII\n",
    "modscomp2$Cubic <- modscomp2$HollingI <- modscomp2$HollingIII <- NULL\n",
    "modscomp2\n",
    "chisq.test(modscomp2)"
   ]
  },
  {
   "cell_type": "code",
   "execution_count": 664,
   "metadata": {},
   "outputs": [
    {
     "data": {
      "text/html": [
       "<table>\n",
       "<caption>A data.frame: 2 × 2</caption>\n",
       "<thead>\n",
       "\t<tr><th></th><th scope=col>HollingIII</th><th scope=col>NonTypeIII</th></tr>\n",
       "\t<tr><th></th><th scope=col>&lt;int&gt;</th><th scope=col>&lt;int&gt;</th></tr>\n",
       "</thead>\n",
       "<tbody>\n",
       "\t<tr><th scope=row>Filter feeder</th><td>35</td><td> 41</td></tr>\n",
       "\t<tr><th scope=row>Non-filter feeder</th><td>70</td><td>147</td></tr>\n",
       "</tbody>\n",
       "</table>\n"
      ],
      "text/latex": [
       "A data.frame: 2 × 2\n",
       "\\begin{tabular}{r|ll}\n",
       "  & HollingIII & NonTypeIII\\\\\n",
       "  & <int> & <int>\\\\\n",
       "\\hline\n",
       "\tFilter feeder & 35 &  41\\\\\n",
       "\tNon-filter feeder & 70 & 147\\\\\n",
       "\\end{tabular}\n"
      ],
      "text/markdown": [
       "\n",
       "A data.frame: 2 × 2\n",
       "\n",
       "| <!--/--> | HollingIII &lt;int&gt; | NonTypeIII &lt;int&gt; |\n",
       "|---|---|---|\n",
       "| Filter feeder | 35 |  41 |\n",
       "| Non-filter feeder | 70 | 147 |\n",
       "\n"
      ],
      "text/plain": [
       "                  HollingIII NonTypeIII\n",
       "Filter feeder     35          41       \n",
       "Non-filter feeder 70         147       "
      ]
     },
     "metadata": {},
     "output_type": "display_data"
    },
    {
     "data": {
      "text/plain": [
       "\n",
       "\tPearson's Chi-squared test with Yates' continuity correction\n",
       "\n",
       "data:  modscomp3\n",
       "X-squared = 4.0775, df = 1, p-value = 0.04346\n"
      ]
     },
     "metadata": {},
     "output_type": "display_data"
    }
   ],
   "source": [
    "modscomp3 <- as.data.frame.matrix(mods)\n",
    "modscomp3$NonTypeIII <- modscomp3$Cubic + modscomp3$HollingI + modscomp3$HollingII\n",
    "modscomp3$Cubic <- modscomp3$HollingI <- modscomp3$HollingII <- NULL\n",
    "modscomp3\n",
    "chisq.test(modscomp3)"
   ]
  },
  {
   "cell_type": "markdown",
   "metadata": {},
   "source": [
    "### Conclusion\n",
    "* **If the Rule of Two is ignored then the difference in type I performance between filter feeders and non-filter feeders is statistically insignificant on both estimators ($\\chi^2=3.6703; df = 1; p>0.05$)**\n",
    "* A significantly higher proportion of type II functional responses in the non-filter feeder data set ($\\chi^2=8.3707; df = 1; p<0.005$). Due to comparitively high handling times and irregular search rates preventing a type I response and infrequency of learning or switching effects preventing a type III response (JEche 2004 p 343).\n",
    "* A significantly higher proportion of type III functional responses in the filter feeder data set ($\\chi^2=4.0775; df = 1; p<0.05$). Jaeshke speculates that this may be due to the consumer lowering its filtration rates at low resource densities (PAGE NO). \n",
    "\n",
    "\n",
    "The metadata failed to explain this\n",
    "\n",
    "However, it is worth noting that ALL OF THESE WERE IN A LAB CONTEXT (typically high resource desnities-samraat), (lab contexts high res density - samraat, also scan ives1999 as jesche2004 cites this). PRACTICALLY ALL WERE IN AQUATIC HABITAT."
   ]
  },
  {
   "cell_type": "markdown",
   "metadata": {},
   "source": [
    "### Rule of Two:"
   ]
  },
  {
   "cell_type": "code",
   "execution_count": 632,
   "metadata": {
    "scrolled": false
   },
   "outputs": [
    {
     "data": {
      "text/html": [
       "<table>\n",
       "<caption>A data.frame: 2 × 2</caption>\n",
       "<thead>\n",
       "\t<tr><th></th><th scope=col>HollingI</th><th scope=col>NonTypeI</th></tr>\n",
       "\t<tr><th></th><th scope=col>&lt;int&gt;</th><th scope=col>&lt;int&gt;</th></tr>\n",
       "</thead>\n",
       "<tbody>\n",
       "\t<tr><th scope=row>Filter feeder</th><td>4</td><td> 33</td></tr>\n",
       "\t<tr><th scope=row>Non-filter feeder</th><td>5</td><td>132</td></tr>\n",
       "</tbody>\n",
       "</table>\n"
      ],
      "text/latex": [
       "A data.frame: 2 × 2\n",
       "\\begin{tabular}{r|ll}\n",
       "  & HollingI & NonTypeI\\\\\n",
       "  & <int> & <int>\\\\\n",
       "\\hline\n",
       "\tFilter feeder & 4 &  33\\\\\n",
       "\tNon-filter feeder & 5 & 132\\\\\n",
       "\\end{tabular}\n"
      ],
      "text/markdown": [
       "\n",
       "A data.frame: 2 × 2\n",
       "\n",
       "| <!--/--> | HollingI &lt;int&gt; | NonTypeI &lt;int&gt; |\n",
       "|---|---|---|\n",
       "| Filter feeder | 4 |  33 |\n",
       "| Non-filter feeder | 5 | 132 |\n",
       "\n"
      ],
      "text/plain": [
       "                  HollingI NonTypeI\n",
       "Filter feeder     4         33     \n",
       "Non-filter feeder 5        132     "
      ]
     },
     "metadata": {},
     "output_type": "display_data"
    },
    {
     "name": "stderr",
     "output_type": "stream",
     "text": [
      "Warning message in stats::chisq.test(x, y, ...):\n",
      "“Chi-squared approximation may be incorrect”\n"
     ]
    },
    {
     "data": {
      "text/plain": [
       "\n",
       "\tPearson's Chi-squared test with Yates' continuity correction\n",
       "\n",
       "data:  mods\n",
       "X-squared = 1.7608, df = 1, p-value = 0.1845\n"
      ]
     },
     "metadata": {},
     "output_type": "display_data"
    }
   ],
   "source": [
    "mods <- table(ALLDATA$FilterFeeder, ALLDATA$BestModelAIC)\n",
    "mods <- mods[,which(colnames(mods) %in% c('Cubic', 'HollingI', 'HollingII', 'HollingIII'))] # ignore ties (if rule of 2)\n",
    "mods <- as.data.frame.matrix(mods)\n",
    "mods$NonTypeI <- mods$Cubic + mods$HollingII + mods$HollingIII\n",
    "mods$Cubic <- mods$HollingII <- mods$HollingIII <- NULL\n",
    "mods\n",
    "chisq.test(mods)"
   ]
  },
  {
   "cell_type": "code",
   "execution_count": 633,
   "metadata": {},
   "outputs": [
    {
     "data": {
      "text/html": [
       "<table>\n",
       "<caption>A data.frame: 2 × 2</caption>\n",
       "<thead>\n",
       "\t<tr><th></th><th scope=col>HollingI</th><th scope=col>NonTypeI</th></tr>\n",
       "\t<tr><th></th><th scope=col>&lt;int&gt;</th><th scope=col>&lt;int&gt;</th></tr>\n",
       "</thead>\n",
       "<tbody>\n",
       "\t<tr><th scope=row>Filter feeder</th><td>6</td><td> 33</td></tr>\n",
       "\t<tr><th scope=row>Non-filter feeder</th><td>0</td><td>131</td></tr>\n",
       "</tbody>\n",
       "</table>\n"
      ],
      "text/latex": [
       "A data.frame: 2 × 2\n",
       "\\begin{tabular}{r|ll}\n",
       "  & HollingI & NonTypeI\\\\\n",
       "  & <int> & <int>\\\\\n",
       "\\hline\n",
       "\tFilter feeder & 6 &  33\\\\\n",
       "\tNon-filter feeder & 0 & 131\\\\\n",
       "\\end{tabular}\n"
      ],
      "text/markdown": [
       "\n",
       "A data.frame: 2 × 2\n",
       "\n",
       "| <!--/--> | HollingI &lt;int&gt; | NonTypeI &lt;int&gt; |\n",
       "|---|---|---|\n",
       "| Filter feeder | 6 |  33 |\n",
       "| Non-filter feeder | 0 | 131 |\n",
       "\n"
      ],
      "text/plain": [
       "                  HollingI NonTypeI\n",
       "Filter feeder     6         33     \n",
       "Non-filter feeder 0        131     "
      ]
     },
     "metadata": {},
     "output_type": "display_data"
    },
    {
     "name": "stderr",
     "output_type": "stream",
     "text": [
      "Warning message in stats::chisq.test(x, y, ...):\n",
      "“Chi-squared approximation may be incorrect”\n"
     ]
    },
    {
     "data": {
      "text/plain": [
       "\n",
       "\tPearson's Chi-squared test with Yates' continuity correction\n",
       "\n",
       "data:  mods\n",
       "X-squared = 16.617, df = 1, p-value = 4.574e-05\n"
      ]
     },
     "metadata": {},
     "output_type": "display_data"
    }
   ],
   "source": [
    "mods <- table(ALLDATA$FilterFeeder, ALLDATA$BestModelBIC)\n",
    "mods <- mods[,which(colnames(mods) %in% c('Cubic', 'HollingI', 'HollingII', 'HollingIII'))] # ignore ties (if rule of 2)\n",
    "mods <- as.data.frame.matrix(mods)\n",
    "mods$NonTypeI <- mods$Cubic + mods$HollingII + mods$HollingIII\n",
    "mods$Cubic <- mods$HollingII <- mods$HollingIII <- NULL\n",
    "mods\n",
    "chisq.test(mods)"
   ]
  },
  {
   "cell_type": "markdown",
   "metadata": {},
   "source": [
    "### Conclusion:\n",
    "**However when the Rule of Two is employed, whilst the performance difference is still statistically insignificant according to the AIC ($\\chi^2=1.7608; df = 1; p>0.1$), it is highly significant according to BIC ($\\chi^2=16.617; df = 1; p<0.0001$)**\n",
    "\n",
    "From this we can draw a few conclusions:\n",
    "1. The majority of functional responses in the non-filter feeder dataset that are deemed type I when the Rule of Two is abandoned are actually mixed responses (e.g. type I/II responses), as hypothesized by J. (All 14 according to BIC and 9/14 according to AIC)\n",
    "2. This brings our results into closer aligment with JEshke's (2004) claim that deifnitive type 1 functional responses are exclusive to filter feeders. \n",
    "\n",
    "\n",
    "**What are the definitive non-filter feeder type I responses according to AIC?**\n",
    "* Given that BIC penalizes model complexity more heavily than does AIC, the result that AIC definitively favours the simplest model in cases where BIC doesn't is at first glance a counter-intuitive one. However, this is readily explained by the low sample size for these data sets. For each of the 5 functional responses labelled type I by the AIC estimator, the sample size is small ($<7$), meaning that these datasets are within the sample size window for which BIC is more tolerant of extra params than AIC ($N\\leqslant7\\implies ln(N)<2$) and is accordingly putting the BIC scores of the higher order Holling models within range ($\\Delta_i<2$) of the type I.\n",
    "* Possible explanations:\n",
    "    1. $\\Delta{AIC}<2.09$ for all; only a very slight edge.\n",
    "    2. \n",
    "\n",
    "(All 14 according to BIC and 9/14 according to AIC).\n",
    "\n",
    "*'Type I functional responses have only been reported from filter feeders (Fig. 2); the small fraction of type I responses reported from non-filter feeders was derived from intermediate responses (e.g. type I/II responses)' (Jesh 2004)*"
   ]
  },
  {
   "cell_type": "markdown",
   "metadata": {},
   "source": [
    "# Plotting Individual Curves"
   ]
  },
  {
   "cell_type": "code",
   "execution_count": 10,
   "metadata": {},
   "outputs": [
    {
     "data": {
      "text/plain": [
       "TableGrob (1 x 2) \"arrange\": 2 grobs\n",
       "  z     cells    name              grob\n",
       "1 1 (1-1,1-1) arrange   gtable[arrange]\n",
       "2 2 (1-1,2-2) arrange gtable[guide-box]"
      ]
     },
     "metadata": {},
     "output_type": "display_data"
    },
    {
     "data": {
      "image/png": "[encoded data removed]",
      "text/plain": [
       "plot without title"
      ]
     },
     "metadata": {
      "image/png": {
       "height": 420,
       "width": 420
      }
     },
     "output_type": "display_data"
    }
   ],
   "source": [
    "## Functions ##\n",
    "holling2 <- function(R, a, h){\n",
    "  num <- a*R\n",
    "  denom <- 1+a*h*R\n",
    "  return(num/denom)\n",
    "}\n",
    "\n",
    "holling3 <- function(R, a, h){\n",
    "  num <- a*R^2\n",
    "  denom <- 1+a*h*R^2\n",
    "  return(num/denom)\n",
    "}\n",
    "\n",
    "\n",
    "plotFits <- function(id){\n",
    "  df <- subset(frData, ID == id)\n",
    "  stats <- subset(frModStats, ID == id)\n",
    "  \n",
    "  try({\n",
    "    id <- unique(df$ID)\n",
    "    \n",
    "    ResDensity <- df$ResDensity\n",
    "    N_TraitValue <- df$N_TraitValue\n",
    "    x_units <- unique(df$ResDensityUnit)\n",
    "    y_units <- unique(df$TraitUnit)\n",
    "    \n",
    "    # Fit models\n",
    "    #Quad <- lm(y ~ poly(x, 2))\n",
    "    Cube <- lm(N_TraitValue ~ poly(ResDensity, 3))\n",
    "    \n",
    "    # Generate a vector of the the x-axis variable\n",
    "    x <- seq(from = min(ResDensity), to = max(ResDensity), by = ((max(ResDensity) - min(ResDensity))/100))\n",
    "    \n",
    "    \n",
    "    # Calculate predicted lines and write points to dataframe\n",
    "    y_cube <- predict.lm(Cube, data.frame(ResDensity = x))\n",
    "    y_holl1 <- stats$a_Holl1 * x\n",
    "    y_holl2 <- holling2(x, stats$a_Holl2, stats$h_Holl2)\n",
    "    y_holl3 <- holling3(x, stats$a_Holl3, stats$h_Holl3)\n",
    "    \n",
    "    data_to_fit <- data.frame(x = x, y_cube = y_cube, y_holl1 = y_holl1, y_holl2 = y_holl2, y_holl3 = y_holl3)\n",
    "    \n",
    "    # Plot\n",
    "    p <- ggplot(aes(x = ResDensity, y = N_TraitValue), data = df) +\n",
    "      geom_point(shape=I(4)) + theme_bw() +\n",
    "      ggtitle(paste(\"ID:\", id)) +\n",
    "      theme(plot.title = element_text(size=8, hjust = 1)) +\n",
    "      theme(legend.position = 'right') +\n",
    "      xlab(NULL) +\n",
    "      ylab(NULL) +\n",
    "      geom_line(aes(x = x, y = y_cube, colour = \"Cubic\"), data = data_to_fit, size = 0.4) +\n",
    "      geom_line(aes(x = x, y = y_holl1, colour = \"Type I\"), data = data_to_fit, size = 0.4) + \n",
    "      geom_line(aes(x = x, y = y_holl2, colour = \"Type II\"), data = data_to_fit, size = 0.4) +\n",
    "      geom_line(aes(x = x, y = y_holl3, colour = \"Type III\"), data = data_to_fit, size = 0.4) +\n",
    "      scale_colour_manual(\"\", breaks = c(\"Cubic\", \"Type I\", \"Type II\", \"Type III\"), values = c(\"green4\", \"blue\", \"red\", \"purple\")) \n",
    "    \n",
    "    if (id == 39993){\n",
    "      p <- p + annotate(geom = 'text', label = 'A', x = -Inf, y = Inf, hjust = -1, vjust = 2)\n",
    "    } else if (id == 39999){\n",
    "          p <- p + annotate(geom = 'text', label = 'B', x = -Inf, y = Inf, hjust = -1, vjust = 2)\n",
    "    } else if (id == 40099){\n",
    "      p <- p + annotate(geom = 'text', label = 'C', x = -Inf, y = Inf, hjust = -1, vjust = 2)\n",
    "    } else if (id == 39973){\n",
    "      p <- p + annotate(geom = 'text', label = 'D', x = -Inf, y = Inf, hjust = -1, vjust = 2)\n",
    "    } else {\n",
    "      return(p)\n",
    "    }\n",
    "    \n",
    "    return(p)\n",
    "  }, silent = TRUE)\n",
    "}\n",
    "\n",
    "#cub <- plotFits(39951) + theme(axis.text.x = element_blank(), axis.text.y = element_blank()) + xlab(NULL)\n",
    "#t1 <- plotFits(39896) + theme(axis.text.x = element_blank(), axis.text.y = element_blank()) + ylab(NULL) + xlab(NULL)\n",
    "#t2 <- plotFits(39894) + theme(axis.text.x = element_blank(), axis.text.y = element_blank())\n",
    "#t3 <- plotFits(39904) + theme(axis.text.x = element_blank(), axis.text.y = element_blank()) + ylab(NULL)\n",
    "\n",
    "#pl <- lapply(c(39854, 39858, 39896, 40010), FUN = plotFits)\n",
    "pl <- lapply(c(39993, 39999, 40099, 39973), FUN = plotFits)\n",
    "\n",
    "\n",
    "# Function to extract legend\n",
    "# https://github.com/hadley/ggplot2/wiki/Share-a-legend-between-two-ggplot2-graphs\n",
    "g_legend <- function(a.gplot){\n",
    "  tmp <- ggplot_gtable(ggplot_build(a.gplot))\n",
    "  leg <- which(sapply(tmp$grobs, function(x) x$name) == \"guide-box\")\n",
    "  legend <- tmp$grobs[[leg]]\n",
    "  return(legend) \n",
    "}\n",
    "\n",
    "# Extract legend as a grob\n",
    "leg = g_legend(pl[[1]])\n",
    "\n",
    "demplots <- grid.arrange(\n",
    "  arrangeGrob(grobs=lapply(pl, function(p) p + guides(colour=FALSE)), ncol=2,\n",
    "              bottom=textGrob(\"Resource Density\", gp=gpar(fontface=\"bold\", fontsize=10)), \n",
    "              left=textGrob(\"Consumption Rate\", gp=gpar(fontface=\"bold\", fontsize=10), rot=90)),\n",
    "  leg, \n",
    "  widths=c(9,1.5)\n",
    ")\n",
    "    \n",
    "demplots"
   ]
  },
  {
   "cell_type": "code",
   "execution_count": 692,
   "metadata": {},
   "outputs": [
    {
     "data": {
      "text/html": [
       "<table>\n",
       "<caption>A data.frame: 5 × 23</caption>\n",
       "<thead>\n",
       "\t<tr><th></th><th scope=col>ID</th><th scope=col>Cubic_AIC</th><th scope=col>HollingI_AIC</th><th scope=col>HollingII_AIC</th><th scope=col>HollingIII_AIC</th><th scope=col>Cubic_BIC</th><th scope=col>HollingI_BIC</th><th scope=col>HollingII_BIC</th><th scope=col>HollingIII_BIC</th><th scope=col>a_Holl1</th><th scope=col>⋯</th><th scope=col>a_Holl3</th><th scope=col>BestModelAIC</th><th scope=col>BestModelBIC</th><th scope=col>BestModelAIC_NoRule2</th><th scope=col>BestModelBIC_NoRule2</th><th scope=col>BestModelTypeAIC</th><th scope=col>BestModelTypeAIC_NoRule2</th><th scope=col>BestModelTypeBIC</th><th scope=col>BestModelTypeBIC_NoRule2</th><th scope=col>FilterFeeder</th></tr>\n",
       "\t<tr><th></th><th scope=col>&lt;int&gt;</th><th scope=col>&lt;dbl&gt;</th><th scope=col>&lt;dbl&gt;</th><th scope=col>&lt;dbl&gt;</th><th scope=col>&lt;dbl&gt;</th><th scope=col>&lt;dbl&gt;</th><th scope=col>&lt;dbl&gt;</th><th scope=col>&lt;dbl&gt;</th><th scope=col>&lt;dbl&gt;</th><th scope=col>&lt;dbl&gt;</th><th scope=col>⋯</th><th scope=col>&lt;dbl&gt;</th><th scope=col>&lt;chr&gt;</th><th scope=col>&lt;chr&gt;</th><th scope=col>&lt;chr&gt;</th><th scope=col>&lt;chr&gt;</th><th scope=col>&lt;chr&gt;</th><th scope=col>&lt;chr&gt;</th><th scope=col>&lt;chr&gt;</th><th scope=col>&lt;chr&gt;</th><th scope=col>&lt;chr&gt;</th></tr>\n",
       "</thead>\n",
       "<tbody>\n",
       "\t<tr><th scope=row>20</th><td>39854</td><td>-115.13648</td><td>-129.82829</td><td>-127.81728</td><td>-118.65086</td><td>-115.91760</td><td>-130.21885</td><td>-128.59841</td><td>-119.43199</td><td>4.899293e-08</td><td>⋯</td><td>2.775558e-09</td><td>HollingI</td><td>HollingI/HollingII           </td><td>HollingI</td><td>HollingI</td><td>Mechanistic</td><td>Mechanistic</td><td>Mechanistic</td><td>Mechanistic</td><td>Non-filter feeder</td></tr>\n",
       "\t<tr><th scope=row>24</th><td>39858</td><td>-103.23444</td><td>-117.96548</td><td>-115.87164</td><td>-111.28198</td><td>-104.01556</td><td>-118.35604</td><td>-116.65277</td><td>-112.06310</td><td>1.003688e-07</td><td>⋯</td><td>2.775558e-09</td><td>HollingI</td><td>HollingI/HollingII           </td><td>HollingI</td><td>HollingI</td><td>Mechanistic</td><td>Mechanistic</td><td>Mechanistic</td><td>Mechanistic</td><td>Non-filter feeder</td></tr>\n",
       "\t<tr><th scope=row>53</th><td>39890</td><td> -96.82587</td><td>-110.84296</td><td>-108.84279</td><td>-107.38072</td><td> -97.24235</td><td>-111.05120</td><td>-109.25927</td><td>-107.79720</td><td>9.325202e-06</td><td>⋯</td><td>4.163336e-07</td><td>HollingI</td><td>HollingI/HollingII/HollingIII</td><td>HollingI</td><td>HollingI</td><td>Mechanistic</td><td>Mechanistic</td><td>Mechanistic</td><td>Mechanistic</td><td>Non-filter feeder</td></tr>\n",
       "\t<tr><th scope=row>240</th><td>40089</td><td> -75.36880</td><td> -91.03830</td><td> -89.03790</td><td> -86.91076</td><td> -75.78528</td><td> -91.24654</td><td> -89.45438</td><td> -87.32724</td><td>3.159978e-05</td><td>⋯</td><td>9.325873e-07</td><td>HollingI</td><td>HollingI/HollingII           </td><td>HollingI</td><td>HollingI</td><td>Mechanistic</td><td>Mechanistic</td><td>Mechanistic</td><td>Mechanistic</td><td>Non-filter feeder</td></tr>\n",
       "\t<tr><th scope=row>245</th><td>40094</td><td> -74.91946</td><td> -90.52838</td><td> -88.52652</td><td> -85.54535</td><td> -75.33594</td><td> -90.73662</td><td> -88.94300</td><td> -85.96183</td><td>4.813182e-05</td><td>⋯</td><td>1.496026e-06</td><td>HollingI</td><td>HollingI/HollingII           </td><td>HollingI</td><td>HollingI</td><td>Mechanistic</td><td>Mechanistic</td><td>Mechanistic</td><td>Mechanistic</td><td>Non-filter feeder</td></tr>\n",
       "</tbody>\n",
       "</table>\n"
      ],
      "text/latex": [
       "A data.frame: 5 × 23\n",
       "\\begin{tabular}{r|lllllllllllllllllllll}\n",
       "  & ID & Cubic\\_AIC & HollingI\\_AIC & HollingII\\_AIC & HollingIII\\_AIC & Cubic\\_BIC & HollingI\\_BIC & HollingII\\_BIC & HollingIII\\_BIC & a\\_Holl1 & ⋯ & a\\_Holl3 & BestModelAIC & BestModelBIC & BestModelAIC\\_NoRule2 & BestModelBIC\\_NoRule2 & BestModelTypeAIC & BestModelTypeAIC\\_NoRule2 & BestModelTypeBIC & BestModelTypeBIC\\_NoRule2 & FilterFeeder\\\\\n",
       "  & <int> & <dbl> & <dbl> & <dbl> & <dbl> & <dbl> & <dbl> & <dbl> & <dbl> & <dbl> & ⋯ & <dbl> & <chr> & <chr> & <chr> & <chr> & <chr> & <chr> & <chr> & <chr> & <chr>\\\\\n",
       "\\hline\n",
       "\t20 & 39854 & -115.13648 & -129.82829 & -127.81728 & -118.65086 & -115.91760 & -130.21885 & -128.59841 & -119.43199 & 4.899293e-08 & ⋯ & 2.775558e-09 & HollingI & HollingI/HollingII            & HollingI & HollingI & Mechanistic & Mechanistic & Mechanistic & Mechanistic & Non-filter feeder\\\\\n",
       "\t24 & 39858 & -103.23444 & -117.96548 & -115.87164 & -111.28198 & -104.01556 & -118.35604 & -116.65277 & -112.06310 & 1.003688e-07 & ⋯ & 2.775558e-09 & HollingI & HollingI/HollingII            & HollingI & HollingI & Mechanistic & Mechanistic & Mechanistic & Mechanistic & Non-filter feeder\\\\\n",
       "\t53 & 39890 &  -96.82587 & -110.84296 & -108.84279 & -107.38072 &  -97.24235 & -111.05120 & -109.25927 & -107.79720 & 9.325202e-06 & ⋯ & 4.163336e-07 & HollingI & HollingI/HollingII/HollingIII & HollingI & HollingI & Mechanistic & Mechanistic & Mechanistic & Mechanistic & Non-filter feeder\\\\\n",
       "\t240 & 40089 &  -75.36880 &  -91.03830 &  -89.03790 &  -86.91076 &  -75.78528 &  -91.24654 &  -89.45438 &  -87.32724 & 3.159978e-05 & ⋯ & 9.325873e-07 & HollingI & HollingI/HollingII            & HollingI & HollingI & Mechanistic & Mechanistic & Mechanistic & Mechanistic & Non-filter feeder\\\\\n",
       "\t245 & 40094 &  -74.91946 &  -90.52838 &  -88.52652 &  -85.54535 &  -75.33594 &  -90.73662 &  -88.94300 &  -85.96183 & 4.813182e-05 & ⋯ & 1.496026e-06 & HollingI & HollingI/HollingII            & HollingI & HollingI & Mechanistic & Mechanistic & Mechanistic & Mechanistic & Non-filter feeder\\\\\n",
       "\\end{tabular}\n"
      ],
      "text/markdown": [
       "\n",
       "A data.frame: 5 × 23\n",
       "\n",
       "| <!--/--> | ID &lt;int&gt; | Cubic_AIC &lt;dbl&gt; | HollingI_AIC &lt;dbl&gt; | HollingII_AIC &lt;dbl&gt; | HollingIII_AIC &lt;dbl&gt; | Cubic_BIC &lt;dbl&gt; | HollingI_BIC &lt;dbl&gt; | HollingII_BIC &lt;dbl&gt; | HollingIII_BIC &lt;dbl&gt; | a_Holl1 &lt;dbl&gt; | ⋯ ⋯ | a_Holl3 &lt;dbl&gt; | BestModelAIC &lt;chr&gt; | BestModelBIC &lt;chr&gt; | BestModelAIC_NoRule2 &lt;chr&gt; | BestModelBIC_NoRule2 &lt;chr&gt; | BestModelTypeAIC &lt;chr&gt; | BestModelTypeAIC_NoRule2 &lt;chr&gt; | BestModelTypeBIC &lt;chr&gt; | BestModelTypeBIC_NoRule2 &lt;chr&gt; | FilterFeeder &lt;chr&gt; |\n",
       "|---|---|---|---|---|---|---|---|---|---|---|---|---|---|---|---|---|---|---|---|---|---|\n",
       "| 20 | 39854 | -115.13648 | -129.82829 | -127.81728 | -118.65086 | -115.91760 | -130.21885 | -128.59841 | -119.43199 | 4.899293e-08 | ⋯ | 2.775558e-09 | HollingI | HollingI/HollingII            | HollingI | HollingI | Mechanistic | Mechanistic | Mechanistic | Mechanistic | Non-filter feeder |\n",
       "| 24 | 39858 | -103.23444 | -117.96548 | -115.87164 | -111.28198 | -104.01556 | -118.35604 | -116.65277 | -112.06310 | 1.003688e-07 | ⋯ | 2.775558e-09 | HollingI | HollingI/HollingII            | HollingI | HollingI | Mechanistic | Mechanistic | Mechanistic | Mechanistic | Non-filter feeder |\n",
       "| 53 | 39890 |  -96.82587 | -110.84296 | -108.84279 | -107.38072 |  -97.24235 | -111.05120 | -109.25927 | -107.79720 | 9.325202e-06 | ⋯ | 4.163336e-07 | HollingI | HollingI/HollingII/HollingIII | HollingI | HollingI | Mechanistic | Mechanistic | Mechanistic | Mechanistic | Non-filter feeder |\n",
       "| 240 | 40089 |  -75.36880 |  -91.03830 |  -89.03790 |  -86.91076 |  -75.78528 |  -91.24654 |  -89.45438 |  -87.32724 | 3.159978e-05 | ⋯ | 9.325873e-07 | HollingI | HollingI/HollingII            | HollingI | HollingI | Mechanistic | Mechanistic | Mechanistic | Mechanistic | Non-filter feeder |\n",
       "| 245 | 40094 |  -74.91946 |  -90.52838 |  -88.52652 |  -85.54535 |  -75.33594 |  -90.73662 |  -88.94300 |  -85.96183 | 4.813182e-05 | ⋯ | 1.496026e-06 | HollingI | HollingI/HollingII            | HollingI | HollingI | Mechanistic | Mechanistic | Mechanistic | Mechanistic | Non-filter feeder |\n",
       "\n"
      ],
      "text/plain": [
       "    ID    Cubic_AIC  HollingI_AIC HollingII_AIC HollingIII_AIC Cubic_BIC \n",
       "20  39854 -115.13648 -129.82829   -127.81728    -118.65086     -115.91760\n",
       "24  39858 -103.23444 -117.96548   -115.87164    -111.28198     -104.01556\n",
       "53  39890  -96.82587 -110.84296   -108.84279    -107.38072      -97.24235\n",
       "240 40089  -75.36880  -91.03830    -89.03790     -86.91076      -75.78528\n",
       "245 40094  -74.91946  -90.52838    -88.52652     -85.54535      -75.33594\n",
       "    HollingI_BIC HollingII_BIC HollingIII_BIC a_Holl1      ⋯ a_Holl3     \n",
       "20  -130.21885   -128.59841    -119.43199     4.899293e-08 ⋯ 2.775558e-09\n",
       "24  -118.35604   -116.65277    -112.06310     1.003688e-07 ⋯ 2.775558e-09\n",
       "53  -111.05120   -109.25927    -107.79720     9.325202e-06 ⋯ 4.163336e-07\n",
       "240  -91.24654    -89.45438     -87.32724     3.159978e-05 ⋯ 9.325873e-07\n",
       "245  -90.73662    -88.94300     -85.96183     4.813182e-05 ⋯ 1.496026e-06\n",
       "    BestModelAIC BestModelBIC                  BestModelAIC_NoRule2\n",
       "20  HollingI     HollingI/HollingII            HollingI            \n",
       "24  HollingI     HollingI/HollingII            HollingI            \n",
       "53  HollingI     HollingI/HollingII/HollingIII HollingI            \n",
       "240 HollingI     HollingI/HollingII            HollingI            \n",
       "245 HollingI     HollingI/HollingII            HollingI            \n",
       "    BestModelBIC_NoRule2 BestModelTypeAIC BestModelTypeAIC_NoRule2\n",
       "20  HollingI             Mechanistic      Mechanistic             \n",
       "24  HollingI             Mechanistic      Mechanistic             \n",
       "53  HollingI             Mechanistic      Mechanistic             \n",
       "240 HollingI             Mechanistic      Mechanistic             \n",
       "245 HollingI             Mechanistic      Mechanistic             \n",
       "    BestModelTypeBIC BestModelTypeBIC_NoRule2 FilterFeeder     \n",
       "20  Mechanistic      Mechanistic              Non-filter feeder\n",
       "24  Mechanistic      Mechanistic              Non-filter feeder\n",
       "53  Mechanistic      Mechanistic              Non-filter feeder\n",
       "240 Mechanistic      Mechanistic              Non-filter feeder\n",
       "245 Mechanistic      Mechanistic              Non-filter feeder"
      ]
     },
     "metadata": {},
     "output_type": "display_data"
    },
    {
     "data": {
      "text/html": [
       "<table>\n",
       "<caption>A data.frame: 4 × 23</caption>\n",
       "<thead>\n",
       "\t<tr><th></th><th scope=col>ID</th><th scope=col>Cubic_AIC</th><th scope=col>HollingI_AIC</th><th scope=col>HollingII_AIC</th><th scope=col>HollingIII_AIC</th><th scope=col>Cubic_BIC</th><th scope=col>HollingI_BIC</th><th scope=col>HollingII_BIC</th><th scope=col>HollingIII_BIC</th><th scope=col>a_Holl1</th><th scope=col>⋯</th><th scope=col>a_Holl3</th><th scope=col>BestModelAIC</th><th scope=col>BestModelBIC</th><th scope=col>BestModelAIC_NoRule2</th><th scope=col>BestModelBIC_NoRule2</th><th scope=col>BestModelTypeAIC</th><th scope=col>BestModelTypeAIC_NoRule2</th><th scope=col>BestModelTypeBIC</th><th scope=col>BestModelTypeBIC_NoRule2</th><th scope=col>FilterFeeder</th></tr>\n",
       "\t<tr><th></th><th scope=col>&lt;int&gt;</th><th scope=col>&lt;dbl&gt;</th><th scope=col>&lt;dbl&gt;</th><th scope=col>&lt;dbl&gt;</th><th scope=col>&lt;dbl&gt;</th><th scope=col>&lt;dbl&gt;</th><th scope=col>&lt;dbl&gt;</th><th scope=col>&lt;dbl&gt;</th><th scope=col>&lt;dbl&gt;</th><th scope=col>&lt;dbl&gt;</th><th scope=col>⋯</th><th scope=col>&lt;dbl&gt;</th><th scope=col>&lt;chr&gt;</th><th scope=col>&lt;chr&gt;</th><th scope=col>&lt;chr&gt;</th><th scope=col>&lt;chr&gt;</th><th scope=col>&lt;chr&gt;</th><th scope=col>&lt;chr&gt;</th><th scope=col>&lt;chr&gt;</th><th scope=col>&lt;chr&gt;</th><th scope=col>&lt;chr&gt;</th></tr>\n",
       "</thead>\n",
       "<tbody>\n",
       "\t<tr><th scope=row>59</th><td>39896</td><td>-124.19697</td><td>-144.17445</td><td>-142.17444</td><td>-138.14861</td><td>-124.03809</td><td>-144.09501</td><td>-142.01556</td><td>-137.98972</td><td>4.498777e-05</td><td>⋯</td><td>5.304091e-06</td><td>HollingI</td><td>HollingI          </td><td>HollingI</td><td>HollingI</td><td>Mechanistic</td><td>Mechanistic</td><td>Mechanistic</td><td>Mechanistic</td><td>Filter feeder</td></tr>\n",
       "\t<tr><th scope=row>168</th><td>40010</td><td>  49.65827</td><td>  44.79973</td><td>  46.79974</td><td>  57.76711</td><td>  49.24179</td><td>  44.59149</td><td>  46.38326</td><td>  57.35063</td><td>7.126077e-02</td><td>⋯</td><td>1.197931e-05</td><td>HollingI</td><td>HollingI/HollingII</td><td>HollingI</td><td>HollingI</td><td>Mechanistic</td><td>Mechanistic</td><td>Mechanistic</td><td>Mechanistic</td><td>Filter feeder</td></tr>\n",
       "\t<tr><th scope=row>174</th><td>40019</td><td>-395.93807</td><td>-463.42737</td><td>-461.42594</td><td>-456.33768</td><td>-393.42187</td><td>-462.16927</td><td>-458.90974</td><td>-453.82148</td><td>2.554135e-05</td><td>⋯</td><td>2.023381e-06</td><td>HollingI</td><td>HollingI          </td><td>HollingI</td><td>HollingI</td><td>Mechanistic</td><td>Mechanistic</td><td>Mechanistic</td><td>Mechanistic</td><td>Filter feeder</td></tr>\n",
       "\t<tr><th scope=row>217</th><td>40066</td><td>-132.27009</td><td>-175.73940</td><td>-173.73938</td><td>-172.99692</td><td>-130.72491</td><td>-174.96681</td><td>-172.19420</td><td>-171.45174</td><td>8.316142e-05</td><td>⋯</td><td>6.411538e-07</td><td>HollingI</td><td>HollingI          </td><td>HollingI</td><td>HollingI</td><td>Mechanistic</td><td>Mechanistic</td><td>Mechanistic</td><td>Mechanistic</td><td>Filter feeder</td></tr>\n",
       "</tbody>\n",
       "</table>\n"
      ],
      "text/latex": [
       "A data.frame: 4 × 23\n",
       "\\begin{tabular}{r|lllllllllllllllllllll}\n",
       "  & ID & Cubic\\_AIC & HollingI\\_AIC & HollingII\\_AIC & HollingIII\\_AIC & Cubic\\_BIC & HollingI\\_BIC & HollingII\\_BIC & HollingIII\\_BIC & a\\_Holl1 & ⋯ & a\\_Holl3 & BestModelAIC & BestModelBIC & BestModelAIC\\_NoRule2 & BestModelBIC\\_NoRule2 & BestModelTypeAIC & BestModelTypeAIC\\_NoRule2 & BestModelTypeBIC & BestModelTypeBIC\\_NoRule2 & FilterFeeder\\\\\n",
       "  & <int> & <dbl> & <dbl> & <dbl> & <dbl> & <dbl> & <dbl> & <dbl> & <dbl> & <dbl> & ⋯ & <dbl> & <chr> & <chr> & <chr> & <chr> & <chr> & <chr> & <chr> & <chr> & <chr>\\\\\n",
       "\\hline\n",
       "\t59 & 39896 & -124.19697 & -144.17445 & -142.17444 & -138.14861 & -124.03809 & -144.09501 & -142.01556 & -137.98972 & 4.498777e-05 & ⋯ & 5.304091e-06 & HollingI & HollingI           & HollingI & HollingI & Mechanistic & Mechanistic & Mechanistic & Mechanistic & Filter feeder\\\\\n",
       "\t168 & 40010 &   49.65827 &   44.79973 &   46.79974 &   57.76711 &   49.24179 &   44.59149 &   46.38326 &   57.35063 & 7.126077e-02 & ⋯ & 1.197931e-05 & HollingI & HollingI/HollingII & HollingI & HollingI & Mechanistic & Mechanistic & Mechanistic & Mechanistic & Filter feeder\\\\\n",
       "\t174 & 40019 & -395.93807 & -463.42737 & -461.42594 & -456.33768 & -393.42187 & -462.16927 & -458.90974 & -453.82148 & 2.554135e-05 & ⋯ & 2.023381e-06 & HollingI & HollingI           & HollingI & HollingI & Mechanistic & Mechanistic & Mechanistic & Mechanistic & Filter feeder\\\\\n",
       "\t217 & 40066 & -132.27009 & -175.73940 & -173.73938 & -172.99692 & -130.72491 & -174.96681 & -172.19420 & -171.45174 & 8.316142e-05 & ⋯ & 6.411538e-07 & HollingI & HollingI           & HollingI & HollingI & Mechanistic & Mechanistic & Mechanistic & Mechanistic & Filter feeder\\\\\n",
       "\\end{tabular}\n"
      ],
      "text/markdown": [
       "\n",
       "A data.frame: 4 × 23\n",
       "\n",
       "| <!--/--> | ID &lt;int&gt; | Cubic_AIC &lt;dbl&gt; | HollingI_AIC &lt;dbl&gt; | HollingII_AIC &lt;dbl&gt; | HollingIII_AIC &lt;dbl&gt; | Cubic_BIC &lt;dbl&gt; | HollingI_BIC &lt;dbl&gt; | HollingII_BIC &lt;dbl&gt; | HollingIII_BIC &lt;dbl&gt; | a_Holl1 &lt;dbl&gt; | ⋯ ⋯ | a_Holl3 &lt;dbl&gt; | BestModelAIC &lt;chr&gt; | BestModelBIC &lt;chr&gt; | BestModelAIC_NoRule2 &lt;chr&gt; | BestModelBIC_NoRule2 &lt;chr&gt; | BestModelTypeAIC &lt;chr&gt; | BestModelTypeAIC_NoRule2 &lt;chr&gt; | BestModelTypeBIC &lt;chr&gt; | BestModelTypeBIC_NoRule2 &lt;chr&gt; | FilterFeeder &lt;chr&gt; |\n",
       "|---|---|---|---|---|---|---|---|---|---|---|---|---|---|---|---|---|---|---|---|---|---|\n",
       "| 59 | 39896 | -124.19697 | -144.17445 | -142.17444 | -138.14861 | -124.03809 | -144.09501 | -142.01556 | -137.98972 | 4.498777e-05 | ⋯ | 5.304091e-06 | HollingI | HollingI           | HollingI | HollingI | Mechanistic | Mechanistic | Mechanistic | Mechanistic | Filter feeder |\n",
       "| 168 | 40010 |   49.65827 |   44.79973 |   46.79974 |   57.76711 |   49.24179 |   44.59149 |   46.38326 |   57.35063 | 7.126077e-02 | ⋯ | 1.197931e-05 | HollingI | HollingI/HollingII | HollingI | HollingI | Mechanistic | Mechanistic | Mechanistic | Mechanistic | Filter feeder |\n",
       "| 174 | 40019 | -395.93807 | -463.42737 | -461.42594 | -456.33768 | -393.42187 | -462.16927 | -458.90974 | -453.82148 | 2.554135e-05 | ⋯ | 2.023381e-06 | HollingI | HollingI           | HollingI | HollingI | Mechanistic | Mechanistic | Mechanistic | Mechanistic | Filter feeder |\n",
       "| 217 | 40066 | -132.27009 | -175.73940 | -173.73938 | -172.99692 | -130.72491 | -174.96681 | -172.19420 | -171.45174 | 8.316142e-05 | ⋯ | 6.411538e-07 | HollingI | HollingI           | HollingI | HollingI | Mechanistic | Mechanistic | Mechanistic | Mechanistic | Filter feeder |\n",
       "\n"
      ],
      "text/plain": [
       "    ID    Cubic_AIC  HollingI_AIC HollingII_AIC HollingIII_AIC Cubic_BIC \n",
       "59  39896 -124.19697 -144.17445   -142.17444    -138.14861     -124.03809\n",
       "168 40010   49.65827   44.79973     46.79974      57.76711       49.24179\n",
       "174 40019 -395.93807 -463.42737   -461.42594    -456.33768     -393.42187\n",
       "217 40066 -132.27009 -175.73940   -173.73938    -172.99692     -130.72491\n",
       "    HollingI_BIC HollingII_BIC HollingIII_BIC a_Holl1      ⋯ a_Holl3     \n",
       "59  -144.09501   -142.01556    -137.98972     4.498777e-05 ⋯ 5.304091e-06\n",
       "168   44.59149     46.38326      57.35063     7.126077e-02 ⋯ 1.197931e-05\n",
       "174 -462.16927   -458.90974    -453.82148     2.554135e-05 ⋯ 2.023381e-06\n",
       "217 -174.96681   -172.19420    -171.45174     8.316142e-05 ⋯ 6.411538e-07\n",
       "    BestModelAIC BestModelBIC       BestModelAIC_NoRule2 BestModelBIC_NoRule2\n",
       "59  HollingI     HollingI           HollingI             HollingI            \n",
       "168 HollingI     HollingI/HollingII HollingI             HollingI            \n",
       "174 HollingI     HollingI           HollingI             HollingI            \n",
       "217 HollingI     HollingI           HollingI             HollingI            \n",
       "    BestModelTypeAIC BestModelTypeAIC_NoRule2 BestModelTypeBIC\n",
       "59  Mechanistic      Mechanistic              Mechanistic     \n",
       "168 Mechanistic      Mechanistic              Mechanistic     \n",
       "174 Mechanistic      Mechanistic              Mechanistic     \n",
       "217 Mechanistic      Mechanistic              Mechanistic     \n",
       "    BestModelTypeBIC_NoRule2 FilterFeeder \n",
       "59  Mechanistic              Filter feeder\n",
       "168 Mechanistic              Filter feeder\n",
       "174 Mechanistic              Filter feeder\n",
       "217 Mechanistic              Filter feeder"
      ]
     },
     "metadata": {},
     "output_type": "display_data"
    }
   ],
   "source": [
    "ALLDATA[ALLDATA$BestModelAIC == 'HollingI' & ALLDATA$FilterFeeder == 'Non-filter feeder',][,c(1,16:37)]\n",
    "idsss <- unique(ALLDATA[ALLDATA$BestModelAIC == 'HollingI' & ALLDATA$FilterFeeder == 'Non-filter feeder',][,c(1,16:37)]$ID)\n",
    "weirdsets <- frData[frData$ID %in% idsss,]\n",
    "ALLDATA[ALLDATA$BestModelAIC == 'HollingI' & ALLDATA$FilterFeeder == 'Filter feeder',][,c(1,16:37)]\n"
   ]
  },
  {
   "cell_type": "markdown",
   "metadata": {},
   "source": [
    "# Feeding Type"
   ]
  },
  {
   "cell_type": "code",
   "execution_count": 14,
   "metadata": {},
   "outputs": [],
   "source": [
    "plotBestFits <- function(df, fac){\n",
    "  # Evaluate args\n",
    "  if(!fac %in% c('Model', 'Model Type')) return(\"fac must be one of: 'Model', 'Type'\")\n",
    "\n",
    "  # no of levels\n",
    "  no <- ifelse(fac=='Model Type', 2, model_count)\n",
    "  \n",
    "  # define levels\n",
    "  if (fac == 'Model Type'){\n",
    "    lvls <- c('Phenomenological', 'Mechanistic')\n",
    "    aicBreakdown <- table(ALLDATA[,'BestModelTypeAIC_NoRule2'], ALLDATA$FilterFeeder)\n",
    "    bicBreakdown <- table(ALLDATA[,'BestModelTypeBIC_NoRule2'], ALLDATA$FilterFeeder)\n",
    "    aicBreakdownRO2 <- table(ALLDATA[,'BestModelTypeAIC'], ALLDATA$FilterFeeder)\n",
    "    bicBreakdownRO2 <- table(ALLDATA[,'BestModelTypeBIC'], ALLDATA$FilterFeeder)\n",
    "  } else { # if fac == 'Model'\n",
    "    lvls <- model_names\n",
    "    aicBreakdown <- table(ALLDATA[,'BestModelAIC_NoRule2'], ALLDATA$FilterFeeder)\n",
    "    bicBreakdown <- table(ALLDATA[,'BestModelBIC_NoRule2'], ALLDATA$FilterFeeder)\n",
    "    aicBreakdownRO2 <- table(ALLDATA[,'BestModelAIC'], ALLDATA$FilterFeeder)\n",
    "    bicBreakdownRO2 <- table(ALLDATA[,'BestModelBIC'], ALLDATA$FilterFeeder)\n",
    "  }\n",
    "  \n",
    "  fitdata <- data.frame(Level = rep(lvls, times = 8), \n",
    "                        Estimator = rep(c('AIC', 'BIC'), each = 2*no, times = 2),\n",
    "                        FeedType = rep(c('Filter feeder', 'Non-filter feeder'), times = 4, each=no),\n",
    "                        RO2 = rep(c('Rule of Two', 'No Rule of Two'), each = 4*no),\n",
    "                        Count = rep(NA, times = 8*no))\n",
    "  \n",
    "  # Load count of how many IDs were definititvely best fit by each model (draws excluded)\n",
    "  for (i in 1:nrow(fitdata)){\n",
    "    lvl <- fitdata[i,'Level']\n",
    "    stat <- fitdata[i,'Estimator']\n",
    "    ro2 <- fitdata[i,'RO2']\n",
    "    feedtype <- fitdata[i,'FeedType']\n",
    "    if (ro2 == 'No Rule of Two'){\n",
    "      if (stat == 'AIC'){\n",
    "        fitdata[i,'Count'] <- ifelse(is.na(aicBreakdown[lvl, feedtype]), 0, aicBreakdown[[lvl, feedtype]])\n",
    "      } else {\n",
    "        fitdata[i,'Count'] <- ifelse(is.na(bicBreakdown[lvl, feedtype]), 0, bicBreakdown[[lvl, feedtype]])\n",
    "      }\n",
    "    } else {\n",
    "      if (stat == 'AIC'){\n",
    "        fitdata[i,'Count'] <- ifelse(is.na(aicBreakdownRO2[lvl, feedtype]), 0, aicBreakdownRO2[[lvl, feedtype]])\n",
    "      } else {\n",
    "        fitdata[i,'Count'] <- ifelse(is.na(bicBreakdownRO2[lvl, feedtype]), 0, bicBreakdownRO2[[lvl, feedtype]])\n",
    "      }\n",
    "    }\n",
    "  }\n",
    "  \n",
    "  n <- as.vector(sapply(split(fitdata$Count, ceiling(seq_along(fitdata$Count)/no)), sum)) # Split count col into 4s and add each to get relative total\n",
    "  fitdata$Total <- rep(n, each = no)\n",
    "  fitdata$Percentage <- round((fitdata$Count/fitdata$Total)*100) # Add percentage of IDs best fit\n",
    "  # when the rule of 2 is applied there will be different totals (as ties are ignored)\n",
    "  \n",
    "  # Plot\n",
    "  p <- ggplot(data = fitdata, aes(x = factor(Level, levels = lvls), y = Percentage, fill = Estimator)) + \n",
    "    facet_grid(RO2 ~ FeedType) +\n",
    "    geom_bar(stat=\"identity\", position = 'dodge2') +\n",
    "    labs(x = fac, y = 'Best Fits (%)') + \n",
    "    theme_bw() +\n",
    "    theme(legend.title = element_text(face=\"bold\")) +\n",
    "    geom_text(aes(label=paste(round(Percentage), '% (', Count, ')', sep = '')), position=position_dodge(width=0.9), vjust=-0.5, cex = 3.5-0.5*no) +\n",
    "    scale_fill_brewer(palette=\"Paired\") +\n",
    "    scale_y_continuous(limits=c(0,max(fitdata$Percentage)*1.02))\n",
    "  \n",
    "  return(p)\n",
    "}"
   ]
  },
  {
   "cell_type": "code",
   "execution_count": null,
   "metadata": {},
   "outputs": [],
   "source": []
  }
 ],
 "metadata": {
  "kernelspec": {
   "display_name": "R",
   "language": "R",
   "name": "ir"
  },
  "language_info": {
   "codemirror_mode": "r",
   "file_extension": ".r",
   "mimetype": "text/x-r-source",
   "name": "R",
   "pygments_lexer": "r",
   "version": "4.0.3"
  }
 },
 "nbformat": 4,
 "nbformat_minor": 4
}
