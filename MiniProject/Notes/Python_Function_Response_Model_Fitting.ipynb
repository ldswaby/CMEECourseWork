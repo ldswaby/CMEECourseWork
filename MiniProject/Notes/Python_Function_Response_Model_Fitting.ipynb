{
 "cells": [
  {
   "cell_type": "markdown",
   "metadata": {},
   "source": [
    "# Fitting Functional Response Models in Python\n",
    "\n",
    "For each ID:\n",
    "\n",
    "For each model:\n",
    "1. Obtain sensible start values for params (in some generalised way)\n",
    "2. Optimise param values \n",
    "    * For each value in a certain distribution around the start value, try to fit, record AIC\n",
    "    * Take parameter combo that generated the lowest AIC\n",
    "    * This step should be vectorised/parallised to the extent possible (consider multiprocessing and numpy)\n",
    "3. Write relevant statistics (AIC/BIC) to dataframe\n",
    "\n",
    "#### Imports:"
   ]
  },
  {
   "cell_type": "code",
   "execution_count": 25,
   "metadata": {},
   "outputs": [],
   "source": [
    "import statsmodels.formula.api as smf\n",
    "from statistics import mean\n",
    "from lmfit import Minimizer, Parameters, report_fit\n",
    "import numpy as np\n",
    "import pandas as pd\n",
    "import scipy as sc"
   ]
  },
  {
   "cell_type": "markdown",
   "metadata": {},
   "source": [
    "#### Load and view data:"
   ]
  },
  {
   "cell_type": "code",
   "execution_count": 10,
   "metadata": {},
   "outputs": [
    {
     "data": {
      "text/html": [
       "<div>\n",
       "<style scoped>\n",
       "    .dataframe tbody tr th:only-of-type {\n",
       "        vertical-align: middle;\n",
       "    }\n",
       "\n",
       "    .dataframe tbody tr th {\n",
       "        vertical-align: top;\n",
       "    }\n",
       "\n",
       "    .dataframe thead th {\n",
       "        text-align: right;\n",
       "    }\n",
       "</style>\n",
       "<table border=\"1\" class=\"dataframe\">\n",
       "  <thead>\n",
       "    <tr style=\"text-align: right;\">\n",
       "      <th></th>\n",
       "      <th>ID</th>\n",
       "      <th>ResDensity</th>\n",
       "      <th>N_TraitValue</th>\n",
       "      <th>ResDensityUnit</th>\n",
       "      <th>TraitUnit</th>\n",
       "    </tr>\n",
       "  </thead>\n",
       "  <tbody>\n",
       "    <tr>\n",
       "      <th>4047</th>\n",
       "      <td>140</td>\n",
       "      <td>18.0</td>\n",
       "      <td>0.0429</td>\n",
       "      <td>individual per arena (1)</td>\n",
       "      <td>individual / (1 individual * 1 second)</td>\n",
       "    </tr>\n",
       "    <tr>\n",
       "      <th>4048</th>\n",
       "      <td>140</td>\n",
       "      <td>180.0</td>\n",
       "      <td>0.1572</td>\n",
       "      <td>individual per arena (1)</td>\n",
       "      <td>individual / (1 individual * 1 second)</td>\n",
       "    </tr>\n",
       "    <tr>\n",
       "      <th>4049</th>\n",
       "      <td>140</td>\n",
       "      <td>360.0</td>\n",
       "      <td>0.2360</td>\n",
       "      <td>individual per arena (1)</td>\n",
       "      <td>individual / (1 individual * 1 second)</td>\n",
       "    </tr>\n",
       "    <tr>\n",
       "      <th>4050</th>\n",
       "      <td>140</td>\n",
       "      <td>45.0</td>\n",
       "      <td>0.0816</td>\n",
       "      <td>individual per arena (1)</td>\n",
       "      <td>individual / (1 individual * 1 second)</td>\n",
       "    </tr>\n",
       "    <tr>\n",
       "      <th>4051</th>\n",
       "      <td>140</td>\n",
       "      <td>720.0</td>\n",
       "      <td>0.2495</td>\n",
       "      <td>individual per arena (1)</td>\n",
       "      <td>individual / (1 individual * 1 second)</td>\n",
       "    </tr>\n",
       "    <tr>\n",
       "      <th>4052</th>\n",
       "      <td>140</td>\n",
       "      <td>90.0</td>\n",
       "      <td>0.1213</td>\n",
       "      <td>individual per arena (1)</td>\n",
       "      <td>individual / (1 individual * 1 second)</td>\n",
       "    </tr>\n",
       "  </tbody>\n",
       "</table>\n",
       "</div>"
      ],
      "text/plain": [
       "       ID  ResDensity  N_TraitValue            ResDensityUnit  \\\n",
       "4047  140        18.0        0.0429  individual per arena (1)   \n",
       "4048  140       180.0        0.1572  individual per arena (1)   \n",
       "4049  140       360.0        0.2360  individual per arena (1)   \n",
       "4050  140        45.0        0.0816  individual per arena (1)   \n",
       "4051  140       720.0        0.2495  individual per arena (1)   \n",
       "4052  140        90.0        0.1213  individual per arena (1)   \n",
       "\n",
       "                                   TraitUnit  \n",
       "4047  individual / (1 individual * 1 second)  \n",
       "4048  individual / (1 individual * 1 second)  \n",
       "4049  individual / (1 individual * 1 second)  \n",
       "4050  individual / (1 individual * 1 second)  \n",
       "4051  individual / (1 individual * 1 second)  \n",
       "4052  individual / (1 individual * 1 second)  "
      ]
     },
     "execution_count": 10,
     "metadata": {},
     "output_type": "execute_result"
    }
   ],
   "source": [
    "# Load\n",
    "data = pd.read_csv(\"../Data/CRat_prepped.csv\")\n",
    "\n",
    "# Subset\n",
    "df = data[data['ID'] == 140]\n",
    "\n",
    "# View\n",
    "df"
   ]
  },
  {
   "cell_type": "code",
   "execution_count": 7,
   "metadata": {},
   "outputs": [],
   "source": [
    "# Extract exp/resp variables\n",
    "x = df['ResDensity']\n",
    "y = df['N_TraitValue']"
   ]
  },
  {
   "cell_type": "markdown",
   "metadata": {},
   "source": [
    "## Fit linear models\n",
    "\n",
    "\n",
    "#### Note:\n",
    "* THESE AIC VALUES ARE DIFFERENT FROM R"
   ]
  },
  {
   "cell_type": "code",
   "execution_count": 19,
   "metadata": {},
   "outputs": [
    {
     "name": "stdout",
     "output_type": "stream",
     "text": [
      "Quadratic AIC:\t-36.5641666734528\n",
      "Cubic AIC:\t-37.675720142384534\n"
     ]
    }
   ],
   "source": [
    "# Quadratic Polynomial\n",
    "quad = np.poly1d(np.polyfit(x, y, 2))\n",
    "quad_stats = smf.ols(formula='N_TraitValue ~ quad(ResDensity)', data=df).fit() # Obtain OLS stats\n",
    "print(f'Quadratic AIC:\\t{quad_stats.aic}')\n",
    "\n",
    "# Cubic Polynomial\n",
    "cube = np.poly1d(np.polyfit(x, y, 3))\n",
    "cube_stats = smf.ols(formula='N_TraitValue ~ cube(ResDensity)', data=df).fit() # Obtain OLS stats\n",
    "print(f'Cubic AIC:\\t{cube_stats.aic}')"
   ]
  },
  {
   "cell_type": "markdown",
   "metadata": {},
   "source": [
    "## Fit non-linear models\n",
    "\n",
    "#### Start parameter values\n",
    "\n",
    "h:"
   ]
  },
  {
   "cell_type": "code",
   "execution_count": 52,
   "metadata": {},
   "outputs": [
    {
     "name": "stdout",
     "output_type": "stream",
     "text": [
      "h: 0.2495\n"
     ]
    }
   ],
   "source": [
    "h = max(df['N_TraitValue'])\n",
    "print(f'h: {h}')"
   ]
  },
  {
   "cell_type": "markdown",
   "metadata": {},
   "source": [
    "a:"
   ]
  },
  {
   "cell_type": "code",
   "execution_count": 53,
   "metadata": {},
   "outputs": [
    {
     "name": "stdout",
     "output_type": "stream",
     "text": [
      "a = 0.0010678004535147393\n"
     ]
    }
   ],
   "source": [
    "# Subset the data \n",
    "BelowMean = df[df['N_TraitValue'] < mean(df['N_TraitValue'])]\n",
    "BelowMax = df[df['N_TraitValue'] < max(df['N_TraitValue'])]\n",
    "\n",
    "# Mean\n",
    "slope1, _, r_value1, _, _ = sc.stats.linregress(BelowMean['ResDensity'], BelowMean['N_TraitValue'])\n",
    "r_sqd1 = r_value1**2\n",
    "\n",
    "# Max\n",
    "slope2, _, r_value2, _, _ = sc.stats.linregress(BelowMax['ResDensity'], BelowMax['N_TraitValue'])\n",
    "r_sqd2 = r_value2**2\n",
    "\n",
    "# Estimate\n",
    "a = slope1 if r_sqd1 > r_sqd2 else slope2\n",
    "\n",
    "print(f\"a = {a}\")"
   ]
  },
  {
   "cell_type": "markdown",
   "metadata": {},
   "source": [
    "### Fit Holling II"
   ]
  },
  {
   "cell_type": "code",
   "execution_count": 57,
   "metadata": {
    "scrolled": true
   },
   "outputs": [
    {
     "name": "stdout",
     "output_type": "stream",
     "text": [
      "[[Fit Statistics]]\n",
      "    # fitting method   = leastsq\n",
      "    # function evals   = 22\n",
      "    # data points      = 6\n",
      "    # variables        = 2\n",
      "    chi-square         = 6.1486e-04\n",
      "    reduced chi-square = 1.5372e-04\n",
      "    Akaike info crit   = -51.1152364\n",
      "    Bayesian info crit = -51.5317175\n",
      "[[Variables]]\n",
      "    h:  3.32544455 +/- 0.20764816 (6.24%) (init = 0.2495)\n",
      "    a:  0.00228167 +/- 2.9423e-04 (12.90%) (init = 0.0010678)\n",
      "[[Correlations]] (unreported correlations are < 0.100)\n",
      "    C(h, a) =  0.732\n"
     ]
    }
   ],
   "source": [
    "params_holl2 = Parameters() # Create object for parameter storing\n",
    "params_holl2.add('h', value = h) # Add h param\n",
    "params_holl2.add('a', value = a) # Add a param\n",
    "\n",
    "# Write down the objective function that we want to minimize, i.e., the residuals \n",
    "def residuals_holl2(params, x, data):\n",
    "    '''Returns residuals for Holling II functional response:\n",
    "    \n",
    "    Arguments:\n",
    "     - params: parameters\n",
    "     - x: Resource density data values\n",
    "     - data: Corresponding N_TraitValue data values\n",
    "    '''\n",
    "    #Get an ordered dictionary of parameter values\n",
    "    v = params.valuesdict()\n",
    "    \n",
    "    #Holling II model\n",
    "    model = (v['a']*x)/(1+v['h']*v['a']*x)\n",
    "    \n",
    "    #Return residuals\n",
    "    return model - data\n",
    "\n",
    "# Create a Minimizer object\n",
    "minner = Minimizer(residuals_holl2, params_holl2, fcn_args=(x, y)) #Plug in the data for this curve.\n",
    "\n",
    "# Perform the minimization\n",
    "fit_holl2 = minner.minimize(method = 'leastsq')\n",
    "\n",
    "# Get summary of the fit\n",
    "report_fit(fit_holl2)"
   ]
  },
  {
   "cell_type": "markdown",
   "metadata": {},
   "source": [
    "### Fit Holling III"
   ]
  },
  {
   "cell_type": "code",
   "execution_count": null,
   "metadata": {},
   "outputs": [],
   "source": [
    "# Holling III\n",
    "params_holl3 = Parameters() # Create object for parameter storing\n",
    "params_holl3.add('h', value = h) # Add h param\n",
    "params_holl3.add('a', value = a) # Add a param\n",
    "params_holl3.add('q', value = a) # Add a param\n"
   ]
  }
 ],
 "metadata": {
  "kernelspec": {
   "display_name": "Python 3",
   "language": "python",
   "name": "python3"
  },
  "language_info": {
   "codemirror_mode": {
    "name": "ipython",
    "version": 3
   },
   "file_extension": ".py",
   "mimetype": "text/x-python",
   "name": "python",
   "nbconvert_exporter": "python",
   "pygments_lexer": "ipython3",
   "version": "3.7.7"
  }
 },
 "nbformat": 4,
 "nbformat_minor": 4
}
